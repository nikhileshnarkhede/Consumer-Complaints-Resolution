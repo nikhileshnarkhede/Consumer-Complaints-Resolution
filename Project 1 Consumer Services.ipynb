{
 "cells": [
  {
   "cell_type": "markdown",
   "id": "4654e707",
   "metadata": {
    "id": "4654e707"
   },
   "source": [
    "# Loading libraries"
   ]
  },
  {
   "cell_type": "code",
   "execution_count": 1,
   "id": "0fb772dd",
   "metadata": {
    "id": "0fb772dd"
   },
   "outputs": [],
   "source": [
    "import numpy as np\n",
    "import pandas as pd\n",
    "\n",
    "from sklearn.pipeline import Pipeline\n",
    "from sklearn.linear_model import LogisticRegression,Ridge,Lasso\n",
    "from sklearn.model_selection import cross_val_score,GridSearchCV,RandomizedSearchCV,train_test_split\n",
    "from sklearn.metrics import f1_score,accuracy_score,classification_report,confusion_matrix,roc_auc_score\n",
    "from sklearn.tree import DecisionTreeClassifier\n",
    "from sklearn.ensemble import RandomForestClassifier, ExtraTreesClassifier,AdaBoostClassifier, GradientBoostingClassifier\n",
    "from xgboost import XGBClassifier\n",
    "from lightgbm import LGBMClassifier\n",
    "from sklearn.preprocessing import StandardScaler\n",
    "from catboost import CatBoostClassifier\n",
    "from sklearn.neighbors import KNeighborsClassifier\n",
    "from sklearn.svm import SVC\n",
    "from sklearn.naive_bayes import GaussianNB\n",
    "\n",
    "from mypipes import *\n",
    "\n",
    "import warnings\n",
    "warnings.filterwarnings('ignore') # ignore the warnings.\n",
    "\n",
    "\n",
    "import matplotlib.pyplot as plt\n",
    "import seaborn as sb\n",
    "def report(results, n_top=3):\n",
    "    for i in range(1, n_top + 1):\n",
    "        candidates = np.flatnonzero(results['rank_test_score'] == i)\n",
    "        for candidate in candidates:\n",
    "            print(\"Model with rank: {0}\".format(i))\n",
    "            print(\"Mean validation score: {0:.6f} (std: {1:.6f})\".format(\n",
    "                  results['mean_test_score'][candidate],\n",
    "                  results['std_test_score'][candidate]))\n",
    "            print(\"Parameters: {0}\".format(results['params'][candidate]))\n",
    "            print(\"\")\n",
    "\n",
    "def Threshold_Finder(Y_test,Y_predict):\n",
    "    I = []\n",
    "    roc_ = []\n",
    "    for i in np.linspace(0.01,1,1000):\n",
    "        Y_predict = Y_predict_prob[:,1] > i\n",
    "        roc = roc_auc_score(Y_test,Y_predict)\n",
    "        I.append(i)\n",
    "        roc_.append(roc)\n",
    "    Temp = I[roc_.index(max(roc_))]\n",
    "    return Temp"
   ]
  },
  {
   "cell_type": "markdown",
   "id": "383fdbbc",
   "metadata": {
    "id": "383fdbbc"
   },
   "source": [
    "#  Loading the datasets"
   ]
  },
  {
   "cell_type": "code",
   "execution_count": 2,
   "id": "9b13dc8e",
   "metadata": {
    "id": "9b13dc8e"
   },
   "outputs": [],
   "source": [
    "datafile_train=r'Consumer_Complaints_train.csv'\n",
    "datafile_test=r'Consumer_Complaints_test_share.csv'\n",
    "cd_train=pd.read_csv(datafile_train)\n",
    "cd_test=pd.read_csv(datafile_test)"
   ]
  },
  {
   "cell_type": "code",
   "execution_count": 3,
   "id": "d5f2e00c",
   "metadata": {
    "colab": {
     "base_uri": "https://localhost:8080/",
     "height": 1000
    },
    "id": "d5f2e00c",
    "outputId": "8075c83c-7ae0-4fa2-9a8d-ef7efc8cd177"
   },
   "outputs": [
    {
     "data": {
      "text/plain": [
       "Date received                   object\n",
       "Product                         object\n",
       "Sub-product                     object\n",
       "Issue                           object\n",
       "Sub-issue                       object\n",
       "Consumer complaint narrative    object\n",
       "Company public response         object\n",
       "Company                         object\n",
       "State                           object\n",
       "ZIP code                        object\n",
       "Tags                            object\n",
       "Consumer consent provided?      object\n",
       "Submitted via                   object\n",
       "Date sent to company            object\n",
       "Company response to consumer    object\n",
       "Timely response?                object\n",
       "Consumer disputed?              object\n",
       "Complaint ID                     int64\n",
       "dtype: object"
      ]
     },
     "execution_count": 3,
     "metadata": {},
     "output_type": "execute_result"
    }
   ],
   "source": [
    "cd_train.dtypes"
   ]
  },
  {
   "cell_type": "code",
   "execution_count": 4,
   "id": "42ad48cd",
   "metadata": {
    "colab": {
     "base_uri": "https://localhost:8080/"
    },
    "id": "42ad48cd",
    "outputId": "2e386dc1-f942-4c61-c1f7-128c82800ab5"
   },
   "outputs": [],
   "source": [
    "for col in ['Date received','Date sent to company']:\n",
    "    cd_train[col]=pd.to_datetime(cd_train[col],infer_datetime_format=True)\n",
    "    cd_test[col]=pd.to_datetime(cd_test[col],infer_datetime_format=True)"
   ]
  },
  {
   "cell_type": "code",
   "execution_count": 5,
   "id": "3812bcf7",
   "metadata": {
    "id": "3812bcf7"
   },
   "outputs": [],
   "source": [
    "cd_train['day_diff']=pd.to_numeric(cd_train['Date sent to company']-cd_train['Date received'])\n",
    "cd_test['day_diff']=pd.to_numeric(cd_test['Date sent to company']-cd_test['Date received'])"
   ]
  },
  {
   "cell_type": "code",
   "execution_count": 6,
   "id": "e9be52b7",
   "metadata": {
    "colab": {
     "base_uri": "https://localhost:8080/"
    },
    "id": "e9be52b7",
    "outputId": "097e0111-d0b6-43d8-f1f6-d26050d2a7de"
   },
   "outputs": [],
   "source": [
    "for col in ['Date received','Date sent to company']:\n",
    "    cd_train.drop([col],1,inplace=True)\n",
    "    cd_test.drop([col],1,inplace=True)"
   ]
  },
  {
   "cell_type": "code",
   "execution_count": 7,
   "id": "677036c4",
   "metadata": {
    "colab": {
     "base_uri": "https://localhost:8080/",
     "height": 424
    },
    "id": "677036c4",
    "outputId": "b2d82524-7fb3-480d-ad9a-285eb7624aa8"
   },
   "outputs": [
    {
     "name": "stdout",
     "output_type": "stream",
     "text": [
      "Product : 12\n",
      "Sub-product : 47\n",
      "Issue : 95\n",
      "Sub-issue : 69\n",
      "Consumer complaint narrative : 74019\n",
      "Company public response : 10\n",
      "Company : 3276\n",
      "State : 62\n",
      "ZIP code : 25942\n",
      "Tags : 3\n",
      "Consumer consent provided? : 4\n",
      "Submitted via : 6\n",
      "Company response to consumer : 7\n",
      "Timely response? : 2\n",
      "Consumer disputed? : 2\n"
     ]
    }
   ],
   "source": [
    "for col in cd_train.select_dtypes(['object']).columns:\n",
    "    print(col,':',cd_train[col].nunique())"
   ]
  },
  {
   "cell_type": "code",
   "execution_count": 8,
   "id": "21007efc",
   "metadata": {
    "colab": {
     "base_uri": "https://localhost:8080/"
    },
    "id": "21007efc",
    "outputId": "d7fdb58f-abde-4bc2-d4bb-3eb37b462642",
    "scrolled": true
   },
   "outputs": [
    {
     "data": {
      "text/plain": [
       "Product                              0\n",
       "Sub-product                     138473\n",
       "Issue                                0\n",
       "Sub-issue                       292624\n",
       "Consumer complaint narrative    403327\n",
       "Company public response         388029\n",
       "Company                              0\n",
       "State                             3839\n",
       "ZIP code                          3848\n",
       "Tags                            411215\n",
       "Consumer consent provided?      342934\n",
       "Submitted via                        0\n",
       "Company response to consumer         0\n",
       "Timely response?                     0\n",
       "Consumer disputed?                   0\n",
       "Complaint ID                         0\n",
       "day_diff                             0\n",
       "dtype: int64"
      ]
     },
     "execution_count": 8,
     "metadata": {},
     "output_type": "execute_result"
    }
   ],
   "source": [
    "cd_train.isnull().sum()"
   ]
  },
  {
   "cell_type": "code",
   "execution_count": 9,
   "id": "85cce2ee",
   "metadata": {},
   "outputs": [
    {
     "data": {
      "text/plain": [
       "478421"
      ]
     },
     "execution_count": 9,
     "metadata": {},
     "output_type": "execute_result"
    }
   ],
   "source": [
    "len(pd.isnull(cd_train['Tags']))\n",
    "len(cd_train)"
   ]
  },
  {
   "cell_type": "code",
   "execution_count": 10,
   "id": "8a8b4018",
   "metadata": {},
   "outputs": [
    {
     "data": {
      "text/html": [
       "<div>\n",
       "<style scoped>\n",
       "    .dataframe tbody tr th:only-of-type {\n",
       "        vertical-align: middle;\n",
       "    }\n",
       "\n",
       "    .dataframe tbody tr th {\n",
       "        vertical-align: top;\n",
       "    }\n",
       "\n",
       "    .dataframe thead th {\n",
       "        text-align: right;\n",
       "    }\n",
       "</style>\n",
       "<table border=\"1\" class=\"dataframe\">\n",
       "  <thead>\n",
       "    <tr style=\"text-align: right;\">\n",
       "      <th></th>\n",
       "      <th>Product</th>\n",
       "      <th>Sub-product</th>\n",
       "      <th>Issue</th>\n",
       "      <th>Sub-issue</th>\n",
       "      <th>Consumer complaint narrative</th>\n",
       "      <th>Company public response</th>\n",
       "      <th>Company</th>\n",
       "      <th>State</th>\n",
       "      <th>ZIP code</th>\n",
       "      <th>Tags</th>\n",
       "      <th>Consumer consent provided?</th>\n",
       "      <th>Submitted via</th>\n",
       "      <th>Company response to consumer</th>\n",
       "      <th>Timely response?</th>\n",
       "      <th>Consumer disputed?</th>\n",
       "      <th>Complaint ID</th>\n",
       "      <th>day_diff</th>\n",
       "    </tr>\n",
       "  </thead>\n",
       "  <tbody>\n",
       "    <tr>\n",
       "      <th>0</th>\n",
       "      <td>Credit card</td>\n",
       "      <td>NaN</td>\n",
       "      <td>Billing statement</td>\n",
       "      <td>NaN</td>\n",
       "      <td>NaN</td>\n",
       "      <td>NaN</td>\n",
       "      <td>Wells Fargo &amp; Company</td>\n",
       "      <td>MI</td>\n",
       "      <td>48342</td>\n",
       "      <td>Older American</td>\n",
       "      <td>NaN</td>\n",
       "      <td>Web</td>\n",
       "      <td>Closed with explanation</td>\n",
       "      <td>Yes</td>\n",
       "      <td>No</td>\n",
       "      <td>856103</td>\n",
       "      <td>86400000000000</td>\n",
       "    </tr>\n",
       "    <tr>\n",
       "      <th>1</th>\n",
       "      <td>Bank account or service</td>\n",
       "      <td>(CD) Certificate of deposit</td>\n",
       "      <td>Making/receiving payments, sending money</td>\n",
       "      <td></td>\n",
       "      <td>NaN</td>\n",
       "      <td>NaN</td>\n",
       "      <td>Santander Bank US</td>\n",
       "      <td>PA</td>\n",
       "      <td>18042</td>\n",
       "      <td>NaN</td>\n",
       "      <td>NaN</td>\n",
       "      <td>Referral</td>\n",
       "      <td>Closed</td>\n",
       "      <td>Yes</td>\n",
       "      <td>No</td>\n",
       "      <td>1034666</td>\n",
       "      <td>518400000000000</td>\n",
       "    </tr>\n",
       "    <tr>\n",
       "      <th>2</th>\n",
       "      <td>Credit reporting</td>\n",
       "      <td>NaN</td>\n",
       "      <td>Incorrect information on credit report</td>\n",
       "      <td>Account status</td>\n",
       "      <td>NaN</td>\n",
       "      <td>NaN</td>\n",
       "      <td>Equifax</td>\n",
       "      <td>CA</td>\n",
       "      <td>92427</td>\n",
       "      <td>NaN</td>\n",
       "      <td>NaN</td>\n",
       "      <td>Referral</td>\n",
       "      <td>Closed with non-monetary relief</td>\n",
       "      <td>Yes</td>\n",
       "      <td>No</td>\n",
       "      <td>756363</td>\n",
       "      <td>1814400000000000</td>\n",
       "    </tr>\n",
       "    <tr>\n",
       "      <th>3</th>\n",
       "      <td>Credit card</td>\n",
       "      <td>NaN</td>\n",
       "      <td>Billing statement</td>\n",
       "      <td>NaN</td>\n",
       "      <td>My credit card statement from US Bank, XXXX. X...</td>\n",
       "      <td>Company chooses not to provide a public response</td>\n",
       "      <td>U.S. Bancorp</td>\n",
       "      <td>GA</td>\n",
       "      <td>305XX</td>\n",
       "      <td>Older American</td>\n",
       "      <td>Consent provided</td>\n",
       "      <td>Web</td>\n",
       "      <td>Closed with monetary relief</td>\n",
       "      <td>Yes</td>\n",
       "      <td>No</td>\n",
       "      <td>1474177</td>\n",
       "      <td>0</td>\n",
       "    </tr>\n",
       "  </tbody>\n",
       "</table>\n",
       "</div>"
      ],
      "text/plain": [
       "                   Product                  Sub-product  \\\n",
       "0              Credit card                          NaN   \n",
       "1  Bank account or service  (CD) Certificate of deposit   \n",
       "2         Credit reporting                          NaN   \n",
       "3              Credit card                          NaN   \n",
       "\n",
       "                                      Issue       Sub-issue  \\\n",
       "0                         Billing statement             NaN   \n",
       "1  Making/receiving payments, sending money                   \n",
       "2    Incorrect information on credit report  Account status   \n",
       "3                         Billing statement             NaN   \n",
       "\n",
       "                        Consumer complaint narrative  \\\n",
       "0                                                NaN   \n",
       "1                                                NaN   \n",
       "2                                                NaN   \n",
       "3  My credit card statement from US Bank, XXXX. X...   \n",
       "\n",
       "                            Company public response                Company  \\\n",
       "0                                               NaN  Wells Fargo & Company   \n",
       "1                                               NaN      Santander Bank US   \n",
       "2                                               NaN                Equifax   \n",
       "3  Company chooses not to provide a public response           U.S. Bancorp   \n",
       "\n",
       "  State ZIP code            Tags Consumer consent provided? Submitted via  \\\n",
       "0    MI    48342  Older American                        NaN           Web   \n",
       "1    PA    18042             NaN                        NaN      Referral   \n",
       "2    CA    92427             NaN                        NaN      Referral   \n",
       "3    GA    305XX  Older American           Consent provided           Web   \n",
       "\n",
       "      Company response to consumer Timely response? Consumer disputed?  \\\n",
       "0          Closed with explanation              Yes                 No   \n",
       "1                           Closed              Yes                 No   \n",
       "2  Closed with non-monetary relief              Yes                 No   \n",
       "3      Closed with monetary relief              Yes                 No   \n",
       "\n",
       "   Complaint ID          day_diff  \n",
       "0        856103    86400000000000  \n",
       "1       1034666   518400000000000  \n",
       "2        756363  1814400000000000  \n",
       "3       1474177                 0  "
      ]
     },
     "execution_count": 10,
     "metadata": {},
     "output_type": "execute_result"
    }
   ],
   "source": [
    "cd_train.head(4)"
   ]
  },
  {
   "cell_type": "code",
   "execution_count": 11,
   "id": "f7400ce5",
   "metadata": {},
   "outputs": [],
   "source": [
    "for col in ['Sub-product','Sub-issue','Consumer complaint narrative',\n",
    "            'Company public response','Tags','Consumer consent provided?']:\n",
    "    varname=col.replace('-','_').replace('?','').replace(\" \",'_')+'_isNan'\n",
    "    cd_train[varname]=np.where(pd.isnull(cd_train[col]),1,0)\n",
    "    cd_train.drop([col],1,inplace=True)\n",
    "    cd_test[varname]=np.where(pd.isnull(cd_test[col]),1,0)\n",
    "    cd_test.drop([col],1,inplace=True)\n",
    "    "
   ]
  },
  {
   "cell_type": "code",
   "execution_count": 12,
   "id": "8ffb0827",
   "metadata": {},
   "outputs": [
    {
     "name": "stdout",
     "output_type": "stream",
     "text": [
      "Product : 12\n",
      "Issue : 95\n",
      "Company : 3276\n",
      "State : 62\n",
      "ZIP code : 25942\n",
      "Submitted via : 6\n",
      "Company response to consumer : 7\n",
      "Timely response? : 2\n",
      "Consumer disputed? : 2\n"
     ]
    }
   ],
   "source": [
    "for col in cd_train.select_dtypes(['object']).columns:\n",
    "    print(col,':',cd_train[col].nunique())"
   ]
  },
  {
   "cell_type": "code",
   "execution_count": 13,
   "id": "8431ee25",
   "metadata": {},
   "outputs": [],
   "source": [
    "for col in ['ZIP code','Company']:\n",
    "    cd_train.drop([col],1,inplace=True)\n",
    "    cd_test.drop([col],1,inplace=True)"
   ]
  },
  {
   "cell_type": "code",
   "execution_count": 14,
   "id": "74990e70",
   "metadata": {},
   "outputs": [],
   "source": [
    "cd_train['Consumer disputed?']=np.where(cd_train['Consumer disputed?']==\"Yes\",1,0)"
   ]
  },
  {
   "cell_type": "code",
   "execution_count": 15,
   "id": "61f266ef",
   "metadata": {},
   "outputs": [],
   "source": [
    "k=cd_train['Issue'].value_counts()\n",
    "for val in k.axes[0][0:10]:\n",
    "    varname='Issue_'+val.replace(',','_').replace(' ','_')\n",
    "    cd_train[varname]=np.where(cd_train['Issue']==val,1,0)\n",
    "    cd_test[varname]=np.where(cd_test['Issue']==val,1,0)\n",
    "del cd_train['Issue']\n",
    "del cd_test['Issue']"
   ]
  },
  {
   "cell_type": "code",
   "execution_count": 16,
   "id": "258993f7",
   "metadata": {},
   "outputs": [
    {
     "name": "stdout",
     "output_type": "stream",
     "text": [
      "Product : 12\n",
      "State : 62\n",
      "Submitted via : 6\n",
      "Company response to consumer : 7\n",
      "Timely response? : 2\n"
     ]
    }
   ],
   "source": [
    "for col in cd_train.select_dtypes(['object']).columns:\n",
    "    print(col,':',cd_train[col].nunique())"
   ]
  },
  {
   "cell_type": "code",
   "execution_count": 17,
   "id": "9a8b693b",
   "metadata": {},
   "outputs": [],
   "source": [
    "k=cd_train['State'].value_counts()\n",
    "for val in k.axes[0][0:15]:\n",
    "    varname='State_'+val.replace(',','_').replace(' ','_')\n",
    "    cd_train[varname]=np.where(cd_train['State']==val,1,0)\n",
    "    cd_test[varname]=np.where(cd_test['State']==val,1,0)\n",
    "del cd_train['State']\n",
    "del cd_test['State']"
   ]
  },
  {
   "cell_type": "code",
   "execution_count": 18,
   "id": "863b5c63",
   "metadata": {},
   "outputs": [],
   "source": [
    "for col in ['Product','Submitted via','Company response to consumer','Timely response?']:\n",
    "    \n",
    "    temp=pd.get_dummies(cd_train[col],prefix=col,drop_first=True)\n",
    "    cd_train=pd.concat([temp,cd_train],1)\n",
    "    cd_train.drop([col],1,inplace=True)\n",
    "    \n",
    "    temp=pd.get_dummies(cd_test[col],prefix=col,drop_first=True)\n",
    "    cd_test=pd.concat([temp,cd_test],1)\n",
    "    cd_test.drop([col],1,inplace=True)\n"
   ]
  },
  {
   "cell_type": "code",
   "execution_count": 19,
   "id": "8a4fd7b9",
   "metadata": {},
   "outputs": [],
   "source": [
    "x=cd_train.drop(['Consumer disputed?','Complaint ID'],1)\n",
    "y=cd_train['Consumer disputed?']"
   ]
  },
  {
   "cell_type": "markdown",
   "id": "e83dee59",
   "metadata": {
    "id": "e83dee59"
   },
   "source": [
    "# Create train_test_spit (for 1 time validation)\n"
   ]
  },
  {
   "cell_type": "code",
   "execution_count": 20,
   "id": "53917d02",
   "metadata": {
    "id": "53917d02"
   },
   "outputs": [],
   "source": [
    "X_train,X_test,Y_train,Y_test = train_test_split(x, y, test_size=0.2, random_state=1)"
   ]
  },
  {
   "cell_type": "markdown",
   "id": "1da16ede",
   "metadata": {
    "id": "1da16ede"
   },
   "source": [
    "# Logistic Regression"
   ]
  },
  {
   "cell_type": "markdown",
   "id": "b2151991",
   "metadata": {
    "id": "b2151991"
   },
   "source": [
    "##  Fine a general model (default hyper parameter setting)\n"
   ]
  },
  {
   "cell_type": "code",
   "execution_count": 21,
   "id": "a34b67a0",
   "metadata": {
    "colab": {
     "base_uri": "https://localhost:8080/",
     "height": 75
    },
    "id": "a34b67a0",
    "outputId": "5c82f8c3-f28e-460a-d769-dd7325cc6c15"
   },
   "outputs": [
    {
     "data": {
      "text/plain": [
       "LogisticRegression()"
      ]
     },
     "execution_count": 21,
     "metadata": {},
     "output_type": "execute_result"
    }
   ],
   "source": [
    "LG_1 = LogisticRegression()\n",
    "LG_1.fit(X_train,Y_train)"
   ]
  },
  {
   "cell_type": "code",
   "execution_count": 22,
   "id": "c5c3d779",
   "metadata": {
    "colab": {
     "base_uri": "https://localhost:8080/"
    },
    "id": "c5c3d779",
    "outputId": "3575c2f4-da6a-418a-b570-d06cc53fe3e6"
   },
   "outputs": [
    {
     "data": {
      "text/plain": [
       "array([[0., 0., 0., 0., 0., 0., 0., 0., 0., 0., 0., 0., 0., 0., 0., 0.,\n",
       "        0., 0., 0., 0., 0., 0., 0., 0., 0., 0., 0., 0., 0., 0., 0., 0.,\n",
       "        0., 0., 0., 0., 0., 0., 0., 0., 0., 0., 0., 0., 0., 0., 0., 0.,\n",
       "        0., 0., 0., 0., 0., 0., 0.]])"
      ]
     },
     "execution_count": 22,
     "metadata": {},
     "output_type": "execute_result"
    }
   ],
   "source": [
    "LG_1.coef_"
   ]
  },
  {
   "cell_type": "code",
   "execution_count": 23,
   "id": "d78558a8",
   "metadata": {
    "colab": {
     "base_uri": "https://localhost:8080/"
    },
    "id": "d78558a8",
    "outputId": "f32e43fe-28b2-4723-8ddc-3a7d5ef95855"
   },
   "outputs": [
    {
     "data": {
      "text/plain": [
       "array([0.])"
      ]
     },
     "execution_count": 23,
     "metadata": {},
     "output_type": "execute_result"
    }
   ],
   "source": [
    "LG_1.intercept_"
   ]
  },
  {
   "cell_type": "code",
   "execution_count": 24,
   "id": "c803d22b",
   "metadata": {
    "colab": {
     "base_uri": "https://localhost:8080/"
    },
    "id": "c803d22b",
    "outputId": "5a5cc2d6-55da-4a9b-ac5a-5b365b4c89fc"
   },
   "outputs": [
    {
     "data": {
      "text/plain": [
       "array([0, 0, 0, ..., 0, 0, 0])"
      ]
     },
     "execution_count": 24,
     "metadata": {},
     "output_type": "execute_result"
    }
   ],
   "source": [
    "Y_predict = LG_1.predict(X_test)\n",
    "Y_predict"
   ]
  },
  {
   "cell_type": "code",
   "execution_count": 25,
   "id": "cb4cd2e6",
   "metadata": {
    "colab": {
     "base_uri": "https://localhost:8080/"
    },
    "id": "cb4cd2e6",
    "outputId": "a86cdc70-721d-4005-907a-7d0fe3b1c305",
    "scrolled": true
   },
   "outputs": [
    {
     "data": {
      "text/plain": [
       "array([[75453,     0],\n",
       "       [20232,     0]], dtype=int64)"
      ]
     },
     "execution_count": 25,
     "metadata": {},
     "output_type": "execute_result"
    }
   ],
   "source": [
    "confusion_matrix(Y_test,Y_predict)"
   ]
  },
  {
   "cell_type": "code",
   "execution_count": 26,
   "id": "3b3eea50",
   "metadata": {
    "colab": {
     "base_uri": "https://localhost:8080/"
    },
    "id": "3b3eea50",
    "outputId": "d466e0b3-6d1e-48f4-f9cd-27b0f4531eda"
   },
   "outputs": [
    {
     "data": {
      "text/plain": [
       "0.7885562000313528"
      ]
     },
     "execution_count": 26,
     "metadata": {},
     "output_type": "execute_result"
    }
   ],
   "source": [
    "accuracy_score(Y_test,Y_predict)"
   ]
  },
  {
   "cell_type": "code",
   "execution_count": 27,
   "id": "e29f4f50",
   "metadata": {
    "colab": {
     "base_uri": "https://localhost:8080/"
    },
    "id": "e29f4f50",
    "outputId": "760885d7-92f4-4149-c6e7-180330516b48"
   },
   "outputs": [
    {
     "name": "stdout",
     "output_type": "stream",
     "text": [
      "              precision    recall  f1-score   support\n",
      "\n",
      "           0       0.79      1.00      0.88     75453\n",
      "           1       0.00      0.00      0.00     20232\n",
      "\n",
      "    accuracy                           0.79     95685\n",
      "   macro avg       0.39      0.50      0.44     95685\n",
      "weighted avg       0.62      0.79      0.70     95685\n",
      "\n"
     ]
    }
   ],
   "source": [
    "print(classification_report(Y_test,Y_predict))"
   ]
  },
  {
   "cell_type": "code",
   "execution_count": 28,
   "id": "2c934e58",
   "metadata": {
    "colab": {
     "base_uri": "https://localhost:8080/"
    },
    "id": "2c934e58",
    "outputId": "fa92ecae-3bd2-4acd-bb3b-8ccbc6d75cc6",
    "scrolled": true
   },
   "outputs": [
    {
     "data": {
      "text/plain": [
       "0.0"
      ]
     },
     "execution_count": 28,
     "metadata": {},
     "output_type": "execute_result"
    }
   ],
   "source": [
    "f1_score(Y_test,Y_predict)"
   ]
  },
  {
   "cell_type": "code",
   "execution_count": 29,
   "id": "bc896c63",
   "metadata": {
    "colab": {
     "base_uri": "https://localhost:8080/"
    },
    "id": "bc896c63",
    "outputId": "cb0915e6-a6dc-462d-8b7c-6487020761d1",
    "scrolled": true
   },
   "outputs": [
    {
     "data": {
      "text/plain": [
       "array([[0.5, 0.5],\n",
       "       [0.5, 0.5],\n",
       "       [0.5, 0.5],\n",
       "       ...,\n",
       "       [0.5, 0.5],\n",
       "       [0.5, 0.5],\n",
       "       [0.5, 0.5]])"
      ]
     },
     "execution_count": 29,
     "metadata": {},
     "output_type": "execute_result"
    }
   ],
   "source": [
    "Y_predict_prob = LG_1.predict_proba(X_test)\n",
    "Y_predict_prob"
   ]
  },
  {
   "cell_type": "code",
   "execution_count": 32,
   "id": "7556b3cb",
   "metadata": {
    "colab": {
     "base_uri": "https://localhost:8080/"
    },
    "id": "7556b3cb",
    "outputId": "dfdf91fa-fb97-400e-b6f3-3b48d50afd8b",
    "scrolled": true
   },
   "outputs": [
    {
     "name": "stdout",
     "output_type": "stream",
     "text": [
      "              precision    recall  f1-score   support\n",
      "\n",
      "           0       0.00      0.00      0.00     75453\n",
      "           1       0.21      1.00      0.35     20232\n",
      "\n",
      "    accuracy                           0.21     95685\n",
      "   macro avg       0.11      0.50      0.17     95685\n",
      "weighted avg       0.04      0.21      0.07     95685\n",
      "\n"
     ]
    }
   ],
   "source": [
    "Y_predict = Y_predict_prob[:,1] > Threshold_Finder(Y_test,Y_predict)\n",
    "print(classification_report(Y_test,Y_predict))"
   ]
  },
  {
   "cell_type": "markdown",
   "id": "db855aee",
   "metadata": {
    "id": "db855aee"
   },
   "source": [
    "##  Hyper parameter with Cross validation (select best hyper parameter settings with multifold validations)\n"
   ]
  },
  {
   "cell_type": "code",
   "execution_count": 33,
   "id": "5a212ccf",
   "metadata": {
    "id": "5a212ccf"
   },
   "outputs": [],
   "source": [
    "param_grid = {'penalty':['l1', 'l2', 'elasticnet', None],\n",
    "              'C':np.linspace(0.01,6,200),\n",
    "              'class_weight':['balanced',None],\n",
    "              'solver' : ['liblinear','saga']}"
   ]
  },
  {
   "cell_type": "code",
   "execution_count": 34,
   "id": "a0eafb64",
   "metadata": {
    "id": "a0eafb64",
    "scrolled": true
   },
   "outputs": [],
   "source": [
    "Log_Reg_model = LogisticRegression()\n",
    "\n",
    "Log_Reg_Random_Search = RandomizedSearchCV(Log_Reg_model,\n",
    "                                          param_distributions = param_grid,\n",
    "                                          cv = 5,\n",
    "                                          n_iter = 25,\n",
    "                                          scoring = 'roc_auc')\n",
    "\n"
   ]
  },
  {
   "cell_type": "code",
   "execution_count": null,
   "id": "55778aa6",
   "metadata": {
    "colab": {
     "base_uri": "https://localhost:8080/",
     "height": 118
    },
    "id": "55778aa6",
    "outputId": "37ab8bd4-b341-47b6-df14-44f5f1f1e3c9"
   },
   "outputs": [],
   "source": [
    "Log_Reg_Random_Search.fit(X_train,Y_train)"
   ]
  },
  {
   "cell_type": "code",
   "execution_count": null,
   "id": "178fc3b1",
   "metadata": {
    "colab": {
     "base_uri": "https://localhost:8080/",
     "height": 75
    },
    "id": "178fc3b1",
    "outputId": "92681f12-3726-4f37-b657-cfe9283cf8ff"
   },
   "outputs": [],
   "source": [
    "Log_Reg_Random_Search.best_estimator_"
   ]
  },
  {
   "cell_type": "code",
   "execution_count": null,
   "id": "caf47d4c",
   "metadata": {
    "colab": {
     "background_save": true
    },
    "id": "caf47d4c",
    "outputId": "44339b71-4e20-4aeb-ef5b-0ed49397cd4f"
   },
   "outputs": [
    {
     "data": {
      "text/html": [
       "<style>#sk-container-id-4 {color: black;background-color: white;}#sk-container-id-4 pre{padding: 0;}#sk-container-id-4 div.sk-toggleable {background-color: white;}#sk-container-id-4 label.sk-toggleable__label {cursor: pointer;display: block;width: 100%;margin-bottom: 0;padding: 0.3em;box-sizing: border-box;text-align: center;}#sk-container-id-4 label.sk-toggleable__label-arrow:before {content: \"▸\";float: left;margin-right: 0.25em;color: #696969;}#sk-container-id-4 label.sk-toggleable__label-arrow:hover:before {color: black;}#sk-container-id-4 div.sk-estimator:hover label.sk-toggleable__label-arrow:before {color: black;}#sk-container-id-4 div.sk-toggleable__content {max-height: 0;max-width: 0;overflow: hidden;text-align: left;background-color: #f0f8ff;}#sk-container-id-4 div.sk-toggleable__content pre {margin: 0.2em;color: black;border-radius: 0.25em;background-color: #f0f8ff;}#sk-container-id-4 input.sk-toggleable__control:checked~div.sk-toggleable__content {max-height: 200px;max-width: 100%;overflow: auto;}#sk-container-id-4 input.sk-toggleable__control:checked~label.sk-toggleable__label-arrow:before {content: \"▾\";}#sk-container-id-4 div.sk-estimator input.sk-toggleable__control:checked~label.sk-toggleable__label {background-color: #d4ebff;}#sk-container-id-4 div.sk-label input.sk-toggleable__control:checked~label.sk-toggleable__label {background-color: #d4ebff;}#sk-container-id-4 input.sk-hidden--visually {border: 0;clip: rect(1px 1px 1px 1px);clip: rect(1px, 1px, 1px, 1px);height: 1px;margin: -1px;overflow: hidden;padding: 0;position: absolute;width: 1px;}#sk-container-id-4 div.sk-estimator {font-family: monospace;background-color: #f0f8ff;border: 1px dotted black;border-radius: 0.25em;box-sizing: border-box;margin-bottom: 0.5em;}#sk-container-id-4 div.sk-estimator:hover {background-color: #d4ebff;}#sk-container-id-4 div.sk-parallel-item::after {content: \"\";width: 100%;border-bottom: 1px solid gray;flex-grow: 1;}#sk-container-id-4 div.sk-label:hover label.sk-toggleable__label {background-color: #d4ebff;}#sk-container-id-4 div.sk-serial::before {content: \"\";position: absolute;border-left: 1px solid gray;box-sizing: border-box;top: 0;bottom: 0;left: 50%;z-index: 0;}#sk-container-id-4 div.sk-serial {display: flex;flex-direction: column;align-items: center;background-color: white;padding-right: 0.2em;padding-left: 0.2em;position: relative;}#sk-container-id-4 div.sk-item {position: relative;z-index: 1;}#sk-container-id-4 div.sk-parallel {display: flex;align-items: stretch;justify-content: center;background-color: white;position: relative;}#sk-container-id-4 div.sk-item::before, #sk-container-id-4 div.sk-parallel-item::before {content: \"\";position: absolute;border-left: 1px solid gray;box-sizing: border-box;top: 0;bottom: 0;left: 50%;z-index: -1;}#sk-container-id-4 div.sk-parallel-item {display: flex;flex-direction: column;z-index: 1;position: relative;background-color: white;}#sk-container-id-4 div.sk-parallel-item:first-child::after {align-self: flex-end;width: 50%;}#sk-container-id-4 div.sk-parallel-item:last-child::after {align-self: flex-start;width: 50%;}#sk-container-id-4 div.sk-parallel-item:only-child::after {width: 0;}#sk-container-id-4 div.sk-dashed-wrapped {border: 1px dashed gray;margin: 0 0.4em 0.5em 0.4em;box-sizing: border-box;padding-bottom: 0.4em;background-color: white;}#sk-container-id-4 div.sk-label label {font-family: monospace;font-weight: bold;display: inline-block;line-height: 1.2em;}#sk-container-id-4 div.sk-label-container {text-align: center;}#sk-container-id-4 div.sk-container {/* jupyter's `normalize.less` sets `[hidden] { display: none; }` but bootstrap.min.css set `[hidden] { display: none !important; }` so we also need the `!important` here to be able to override the default hidden behavior on the sphinx rendered scikit-learn.org. See: https://github.com/scikit-learn/scikit-learn/issues/21755 */display: inline-block !important;position: relative;}#sk-container-id-4 div.sk-text-repr-fallback {display: none;}</style><div id=\"sk-container-id-4\" class=\"sk-top-container\"><div class=\"sk-text-repr-fallback\"><pre>GridSearchCV(cv=5, estimator=LogisticRegression(),\n",
       "             param_grid={&#x27;C&#x27;: array([0.1   , 0.1375, 0.175 , 0.2125, 0.25  , 0.2875, 0.325 , 0.3625,\n",
       "       0.4   , 0.4375, 0.475 , 0.5125, 0.55  , 0.5875, 0.625 , 0.6625,\n",
       "       0.7   , 0.7375, 0.775 , 0.8125, 0.85  , 0.8875, 0.925 , 0.9625,\n",
       "       1.    ]),\n",
       "                         &#x27;class_weight&#x27;: [&#x27;balanced&#x27;, None],\n",
       "                         &#x27;penalty&#x27;: [&#x27;l1&#x27;, &#x27;l2&#x27;, &#x27;elasticnet&#x27;, None],\n",
       "                         &#x27;solver&#x27;: [&#x27;liblinear&#x27;, &#x27;saga&#x27;]},\n",
       "             scoring=&#x27;roc_auc&#x27;)</pre><b>In a Jupyter environment, please rerun this cell to show the HTML representation or trust the notebook. <br />On GitHub, the HTML representation is unable to render, please try loading this page with nbviewer.org.</b></div><div class=\"sk-container\" hidden><div class=\"sk-item sk-dashed-wrapped\"><div class=\"sk-label-container\"><div class=\"sk-label sk-toggleable\"><input class=\"sk-toggleable__control sk-hidden--visually\" id=\"sk-estimator-id-6\" type=\"checkbox\" ><label for=\"sk-estimator-id-6\" class=\"sk-toggleable__label sk-toggleable__label-arrow\">GridSearchCV</label><div class=\"sk-toggleable__content\"><pre>GridSearchCV(cv=5, estimator=LogisticRegression(),\n",
       "             param_grid={&#x27;C&#x27;: array([0.1   , 0.1375, 0.175 , 0.2125, 0.25  , 0.2875, 0.325 , 0.3625,\n",
       "       0.4   , 0.4375, 0.475 , 0.5125, 0.55  , 0.5875, 0.625 , 0.6625,\n",
       "       0.7   , 0.7375, 0.775 , 0.8125, 0.85  , 0.8875, 0.925 , 0.9625,\n",
       "       1.    ]),\n",
       "                         &#x27;class_weight&#x27;: [&#x27;balanced&#x27;, None],\n",
       "                         &#x27;penalty&#x27;: [&#x27;l1&#x27;, &#x27;l2&#x27;, &#x27;elasticnet&#x27;, None],\n",
       "                         &#x27;solver&#x27;: [&#x27;liblinear&#x27;, &#x27;saga&#x27;]},\n",
       "             scoring=&#x27;roc_auc&#x27;)</pre></div></div></div><div class=\"sk-parallel\"><div class=\"sk-parallel-item\"><div class=\"sk-item\"><div class=\"sk-label-container\"><div class=\"sk-label sk-toggleable\"><input class=\"sk-toggleable__control sk-hidden--visually\" id=\"sk-estimator-id-7\" type=\"checkbox\" ><label for=\"sk-estimator-id-7\" class=\"sk-toggleable__label sk-toggleable__label-arrow\">estimator: LogisticRegression</label><div class=\"sk-toggleable__content\"><pre>LogisticRegression()</pre></div></div></div><div class=\"sk-serial\"><div class=\"sk-item\"><div class=\"sk-estimator sk-toggleable\"><input class=\"sk-toggleable__control sk-hidden--visually\" id=\"sk-estimator-id-8\" type=\"checkbox\" ><label for=\"sk-estimator-id-8\" class=\"sk-toggleable__label sk-toggleable__label-arrow\">LogisticRegression</label><div class=\"sk-toggleable__content\"><pre>LogisticRegression()</pre></div></div></div></div></div></div></div></div></div></div>"
      ],
      "text/plain": [
       "GridSearchCV(cv=5, estimator=LogisticRegression(),\n",
       "             param_grid={'C': array([0.1   , 0.1375, 0.175 , 0.2125, 0.25  , 0.2875, 0.325 , 0.3625,\n",
       "       0.4   , 0.4375, 0.475 , 0.5125, 0.55  , 0.5875, 0.625 , 0.6625,\n",
       "       0.7   , 0.7375, 0.775 , 0.8125, 0.85  , 0.8875, 0.925 , 0.9625,\n",
       "       1.    ]),\n",
       "                         'class_weight': ['balanced', None],\n",
       "                         'penalty': ['l1', 'l2', 'elasticnet', None],\n",
       "                         'solver': ['liblinear', 'saga']},\n",
       "             scoring='roc_auc')"
      ]
     },
     "execution_count": 25,
     "metadata": {},
     "output_type": "execute_result"
    }
   ],
   "source": [
    "param_grid = {'penalty':['l1', 'l2', 'elasticnet', None],\n",
    "              'C':np.linspace(0.1,1,25),\n",
    "              'class_weight':['balanced',None],\n",
    "              'solver' : ['liblinear','saga']}\n",
    "Log_Reg_model = LogisticRegression()\n",
    "\n",
    "Log_Reg_Grid_Search = GridSearchCV(Log_Reg_model,\n",
    "                             param_grid = param_grid,\n",
    "                             cv = 5,\n",
    "                             scoring = 'roc_auc')\n",
    "Log_Reg_Grid_Search.fit(X_train,Y_train)"
   ]
  },
  {
   "cell_type": "code",
   "execution_count": null,
   "id": "c393855f",
   "metadata": {
    "colab": {
     "base_uri": "https://localhost:8080/",
     "height": 74
    },
    "id": "c393855f",
    "outputId": "6c1d93e8-2ff2-429a-fe79-640858fde85e",
    "scrolled": true
   },
   "outputs": [
    {
     "data": {
      "text/html": [
       "<style>#sk-container-id-5 {color: black;background-color: white;}#sk-container-id-5 pre{padding: 0;}#sk-container-id-5 div.sk-toggleable {background-color: white;}#sk-container-id-5 label.sk-toggleable__label {cursor: pointer;display: block;width: 100%;margin-bottom: 0;padding: 0.3em;box-sizing: border-box;text-align: center;}#sk-container-id-5 label.sk-toggleable__label-arrow:before {content: \"▸\";float: left;margin-right: 0.25em;color: #696969;}#sk-container-id-5 label.sk-toggleable__label-arrow:hover:before {color: black;}#sk-container-id-5 div.sk-estimator:hover label.sk-toggleable__label-arrow:before {color: black;}#sk-container-id-5 div.sk-toggleable__content {max-height: 0;max-width: 0;overflow: hidden;text-align: left;background-color: #f0f8ff;}#sk-container-id-5 div.sk-toggleable__content pre {margin: 0.2em;color: black;border-radius: 0.25em;background-color: #f0f8ff;}#sk-container-id-5 input.sk-toggleable__control:checked~div.sk-toggleable__content {max-height: 200px;max-width: 100%;overflow: auto;}#sk-container-id-5 input.sk-toggleable__control:checked~label.sk-toggleable__label-arrow:before {content: \"▾\";}#sk-container-id-5 div.sk-estimator input.sk-toggleable__control:checked~label.sk-toggleable__label {background-color: #d4ebff;}#sk-container-id-5 div.sk-label input.sk-toggleable__control:checked~label.sk-toggleable__label {background-color: #d4ebff;}#sk-container-id-5 input.sk-hidden--visually {border: 0;clip: rect(1px 1px 1px 1px);clip: rect(1px, 1px, 1px, 1px);height: 1px;margin: -1px;overflow: hidden;padding: 0;position: absolute;width: 1px;}#sk-container-id-5 div.sk-estimator {font-family: monospace;background-color: #f0f8ff;border: 1px dotted black;border-radius: 0.25em;box-sizing: border-box;margin-bottom: 0.5em;}#sk-container-id-5 div.sk-estimator:hover {background-color: #d4ebff;}#sk-container-id-5 div.sk-parallel-item::after {content: \"\";width: 100%;border-bottom: 1px solid gray;flex-grow: 1;}#sk-container-id-5 div.sk-label:hover label.sk-toggleable__label {background-color: #d4ebff;}#sk-container-id-5 div.sk-serial::before {content: \"\";position: absolute;border-left: 1px solid gray;box-sizing: border-box;top: 0;bottom: 0;left: 50%;z-index: 0;}#sk-container-id-5 div.sk-serial {display: flex;flex-direction: column;align-items: center;background-color: white;padding-right: 0.2em;padding-left: 0.2em;position: relative;}#sk-container-id-5 div.sk-item {position: relative;z-index: 1;}#sk-container-id-5 div.sk-parallel {display: flex;align-items: stretch;justify-content: center;background-color: white;position: relative;}#sk-container-id-5 div.sk-item::before, #sk-container-id-5 div.sk-parallel-item::before {content: \"\";position: absolute;border-left: 1px solid gray;box-sizing: border-box;top: 0;bottom: 0;left: 50%;z-index: -1;}#sk-container-id-5 div.sk-parallel-item {display: flex;flex-direction: column;z-index: 1;position: relative;background-color: white;}#sk-container-id-5 div.sk-parallel-item:first-child::after {align-self: flex-end;width: 50%;}#sk-container-id-5 div.sk-parallel-item:last-child::after {align-self: flex-start;width: 50%;}#sk-container-id-5 div.sk-parallel-item:only-child::after {width: 0;}#sk-container-id-5 div.sk-dashed-wrapped {border: 1px dashed gray;margin: 0 0.4em 0.5em 0.4em;box-sizing: border-box;padding-bottom: 0.4em;background-color: white;}#sk-container-id-5 div.sk-label label {font-family: monospace;font-weight: bold;display: inline-block;line-height: 1.2em;}#sk-container-id-5 div.sk-label-container {text-align: center;}#sk-container-id-5 div.sk-container {/* jupyter's `normalize.less` sets `[hidden] { display: none; }` but bootstrap.min.css set `[hidden] { display: none !important; }` so we also need the `!important` here to be able to override the default hidden behavior on the sphinx rendered scikit-learn.org. See: https://github.com/scikit-learn/scikit-learn/issues/21755 */display: inline-block !important;position: relative;}#sk-container-id-5 div.sk-text-repr-fallback {display: none;}</style><div id=\"sk-container-id-5\" class=\"sk-top-container\"><div class=\"sk-text-repr-fallback\"><pre>LogisticRegression(C=0.1, penalty=&#x27;l1&#x27;, solver=&#x27;liblinear&#x27;)</pre><b>In a Jupyter environment, please rerun this cell to show the HTML representation or trust the notebook. <br />On GitHub, the HTML representation is unable to render, please try loading this page with nbviewer.org.</b></div><div class=\"sk-container\" hidden><div class=\"sk-item\"><div class=\"sk-estimator sk-toggleable\"><input class=\"sk-toggleable__control sk-hidden--visually\" id=\"sk-estimator-id-9\" type=\"checkbox\" checked><label for=\"sk-estimator-id-9\" class=\"sk-toggleable__label sk-toggleable__label-arrow\">LogisticRegression</label><div class=\"sk-toggleable__content\"><pre>LogisticRegression(C=0.1, penalty=&#x27;l1&#x27;, solver=&#x27;liblinear&#x27;)</pre></div></div></div></div></div>"
      ],
      "text/plain": [
       "LogisticRegression(C=0.1, penalty='l1', solver='liblinear')"
      ]
     },
     "execution_count": 26,
     "metadata": {},
     "output_type": "execute_result"
    }
   ],
   "source": [
    "Log_Reg_Grid_Search.best_estimator_"
   ]
  },
  {
   "cell_type": "code",
   "execution_count": null,
   "id": "1b348a31",
   "metadata": {
    "id": "1b348a31"
   },
   "outputs": [],
   "source": [
    "Log_Reg_model = Log_Reg_Grid_Search.best_estimator_"
   ]
  },
  {
   "cell_type": "code",
   "execution_count": null,
   "id": "b142d238",
   "metadata": {
    "id": "b142d238"
   },
   "outputs": [],
   "source": [
    "Log_Reg_model.fit(X_train,Y_train)\n",
    "Y_predict = Log_Reg_model.predict(X_test)"
   ]
  },
  {
   "cell_type": "code",
   "execution_count": null,
   "id": "25a7b388",
   "metadata": {
    "colab": {
     "base_uri": "https://localhost:8080/"
    },
    "id": "25a7b388",
    "outputId": "c66bfb0b-bd15-4ec3-9f34-a856796586fe",
    "scrolled": true
   },
   "outputs": [
    {
     "data": {
      "text/plain": [
       "array([[3421,  320],\n",
       "       [ 527, 1732]])"
      ]
     },
     "execution_count": 30,
     "metadata": {},
     "output_type": "execute_result"
    }
   ],
   "source": [
    "confusion_matrix(Y_test,Y_predict)"
   ]
  },
  {
   "cell_type": "code",
   "execution_count": null,
   "id": "510a0e9a",
   "metadata": {
    "colab": {
     "base_uri": "https://localhost:8080/"
    },
    "id": "510a0e9a",
    "outputId": "b1ca0841-e0de-4d14-ca44-c87b0c7e1f13",
    "scrolled": true
   },
   "outputs": [
    {
     "name": "stdout",
     "output_type": "stream",
     "text": [
      "              precision    recall  f1-score   support\n",
      "\n",
      "           0       0.87      0.91      0.89      3741\n",
      "           1       0.84      0.77      0.80      2259\n",
      "\n",
      "    accuracy                           0.86      6000\n",
      "   macro avg       0.86      0.84      0.85      6000\n",
      "weighted avg       0.86      0.86      0.86      6000\n",
      "\n"
     ]
    }
   ],
   "source": [
    "print(classification_report(Y_test,Y_predict))"
   ]
  },
  {
   "cell_type": "code",
   "execution_count": null,
   "id": "bd43f134",
   "metadata": {
    "colab": {
     "base_uri": "https://localhost:8080/"
    },
    "id": "bd43f134",
    "outputId": "1c9cb7bd-a080-41e2-86a3-3fc879126388",
    "scrolled": true
   },
   "outputs": [
    {
     "data": {
      "text/plain": [
       "0.8035258640686614"
      ]
     },
     "execution_count": 32,
     "metadata": {},
     "output_type": "execute_result"
    }
   ],
   "source": [
    "f1_score(Y_test,Y_predict)"
   ]
  },
  {
   "cell_type": "code",
   "execution_count": null,
   "id": "6710b22c",
   "metadata": {
    "id": "6710b22c"
   },
   "outputs": [],
   "source": [
    "Y_predict_prob = Log_Reg_model.predict_proba(X_test)"
   ]
  },
  {
   "cell_type": "code",
   "execution_count": null,
   "id": "037ea6ab",
   "metadata": {
    "colab": {
     "base_uri": "https://localhost:8080/"
    },
    "id": "037ea6ab",
    "outputId": "11ed893f-75dc-42a2-d24e-1439ee2739a7"
   },
   "outputs": [
    {
     "data": {
      "text/plain": [
       "0.42522522522522527"
      ]
     },
     "execution_count": 34,
     "metadata": {},
     "output_type": "execute_result"
    }
   ],
   "source": [
    "Threshold_Finder(Y_test,Y_predict)"
   ]
  },
  {
   "cell_type": "code",
   "execution_count": null,
   "id": "9dc67f3b",
   "metadata": {
    "colab": {
     "base_uri": "https://localhost:8080/"
    },
    "id": "9dc67f3b",
    "outputId": "ffee175c-dd9e-415b-8714-acb508750c75",
    "scrolled": true
   },
   "outputs": [
    {
     "name": "stdout",
     "output_type": "stream",
     "text": [
      "              precision    recall  f1-score   support\n",
      "\n",
      "           0       0.90      0.87      0.89      3741\n",
      "           1       0.80      0.84      0.82      2259\n",
      "\n",
      "    accuracy                           0.86      6000\n",
      "   macro avg       0.85      0.85      0.85      6000\n",
      "weighted avg       0.86      0.86      0.86      6000\n",
      "\n"
     ]
    }
   ],
   "source": [
    "Y_predict = Y_predict_prob[:,1] > Threshold_Finder(Y_test,Y_predict)\n",
    "print(classification_report(Y_test,Y_predict))"
   ]
  },
  {
   "cell_type": "code",
   "execution_count": null,
   "id": "d2e11c39",
   "metadata": {
    "colab": {
     "base_uri": "https://localhost:8080/"
    },
    "id": "d2e11c39",
    "outputId": "6157f96a-9941-47f2-b4cb-d7bae1954b6a"
   },
   "outputs": [
    {
     "data": {
      "text/plain": [
       "0.7694991694046608"
      ]
     },
     "execution_count": 36,
     "metadata": {},
     "output_type": "execute_result"
    }
   ],
   "source": [
    "dtree_model = DecisionTreeClassifier()\n",
    "dtree_model_cv_scores = cross_val_score(dtree_model,X_train,Y_train,cv=5,scoring='roc_auc')\n",
    "dtree_model_cv_scores.mean() #uncontrolled decision tree's validation performance in auc is less than logistic"
   ]
  },
  {
   "cell_type": "code",
   "execution_count": null,
   "id": "qjO-JTLDkSi2",
   "metadata": {
    "id": "qjO-JTLDkSi2"
   },
   "outputs": [],
   "source": [
    "dtree_model.fit(X_train,Y_train)\n",
    "Y_predict = dtree_model.predict(X_test)"
   ]
  },
  {
   "cell_type": "code",
   "execution_count": null,
   "id": "WPDjAymSkSi-",
   "metadata": {
    "colab": {
     "base_uri": "https://localhost:8080/"
    },
    "id": "WPDjAymSkSi-",
    "outputId": "17dbafcd-97e4-4945-dfed-505f2519b905",
    "scrolled": true
   },
   "outputs": [
    {
     "data": {
      "text/plain": [
       "array([[3089,  652],\n",
       "       [ 685, 1574]])"
      ]
     },
     "execution_count": 38,
     "metadata": {},
     "output_type": "execute_result"
    }
   ],
   "source": [
    "confusion_matrix(Y_test,Y_predict)"
   ]
  },
  {
   "cell_type": "code",
   "execution_count": null,
   "id": "Lu47luMykSi-",
   "metadata": {
    "colab": {
     "base_uri": "https://localhost:8080/"
    },
    "id": "Lu47luMykSi-",
    "outputId": "5c17a1ff-99c3-464f-dcb1-91073f8f1ce7",
    "scrolled": true
   },
   "outputs": [
    {
     "name": "stdout",
     "output_type": "stream",
     "text": [
      "              precision    recall  f1-score   support\n",
      "\n",
      "           0       0.82      0.83      0.82      3741\n",
      "           1       0.71      0.70      0.70      2259\n",
      "\n",
      "    accuracy                           0.78      6000\n",
      "   macro avg       0.76      0.76      0.76      6000\n",
      "weighted avg       0.78      0.78      0.78      6000\n",
      "\n"
     ]
    }
   ],
   "source": [
    "print(classification_report(Y_test,Y_predict))"
   ]
  },
  {
   "cell_type": "code",
   "execution_count": null,
   "id": "_6cLSyYZkSi-",
   "metadata": {
    "colab": {
     "base_uri": "https://localhost:8080/"
    },
    "id": "_6cLSyYZkSi-",
    "outputId": "6f12df9b-518d-49e5-a88f-1c5aff82ac22",
    "scrolled": true
   },
   "outputs": [
    {
     "data": {
      "text/plain": [
       "0.7018952062430324"
      ]
     },
     "execution_count": 40,
     "metadata": {},
     "output_type": "execute_result"
    }
   ],
   "source": [
    "f1_score(Y_test,Y_predict)"
   ]
  },
  {
   "cell_type": "code",
   "execution_count": null,
   "id": "EDvLAQ18kSi_",
   "metadata": {
    "id": "EDvLAQ18kSi_"
   },
   "outputs": [],
   "source": [
    "Y_predict_prob = dtree_model.predict_proba(X_test)"
   ]
  },
  {
   "cell_type": "code",
   "execution_count": null,
   "id": "67mWJMHIkSi_",
   "metadata": {
    "colab": {
     "base_uri": "https://localhost:8080/"
    },
    "id": "67mWJMHIkSi_",
    "outputId": "b734c829-f2e7-4251-8d99-04afe316b05c"
   },
   "outputs": [
    {
     "data": {
      "text/plain": [
       "0.01"
      ]
     },
     "execution_count": 42,
     "metadata": {},
     "output_type": "execute_result"
    }
   ],
   "source": [
    "Threshold_Finder(Y_test,Y_predict)"
   ]
  },
  {
   "cell_type": "code",
   "execution_count": null,
   "id": "hhTDb3T2kSi_",
   "metadata": {
    "colab": {
     "base_uri": "https://localhost:8080/"
    },
    "id": "hhTDb3T2kSi_",
    "outputId": "be3e4edb-7c2e-487b-bb0c-d0ed3592bd91",
    "scrolled": true
   },
   "outputs": [
    {
     "name": "stdout",
     "output_type": "stream",
     "text": [
      "              precision    recall  f1-score   support\n",
      "\n",
      "           0       0.82      0.83      0.82      3741\n",
      "           1       0.71      0.70      0.70      2259\n",
      "\n",
      "    accuracy                           0.78      6000\n",
      "   macro avg       0.76      0.76      0.76      6000\n",
      "weighted avg       0.78      0.78      0.78      6000\n",
      "\n"
     ]
    }
   ],
   "source": [
    "Y_predict = Y_predict_prob[:,1] > Threshold_Finder(Y_test,Y_predict)\n",
    "print(classification_report(Y_test,Y_predict))"
   ]
  },
  {
   "cell_type": "code",
   "execution_count": null,
   "id": "8gQCFrVtkjqw",
   "metadata": {
    "colab": {
     "base_uri": "https://localhost:8080/"
    },
    "id": "8gQCFrVtkjqw",
    "outputId": "73f407a8-7898-4fad-8937-d6db1735d00d"
   },
   "outputs": [
    {
     "name": "stdout",
     "output_type": "stream",
     "text": [
      "CPU times: user 409 ms, sys: 152 ms, total: 561 ms\n",
      "Wall time: 37.1 s\n"
     ]
    },
    {
     "data": {
      "text/plain": [
       "0.884275076264538"
      ]
     },
     "execution_count": 44,
     "metadata": {},
     "output_type": "execute_result"
    }
   ],
   "source": [
    "%%time\n",
    "rf_model = RandomForestClassifier()\n",
    "rf_model_cv_scores = cross_val_score(rf_model,X_train,Y_train,cv=5,scoring='roc_auc',n_jobs=-1)\n",
    "rf_model_cv_scores.mean()\n",
    "#slower processing compared to logistic, dtree\n",
    "#better validation result"
   ]
  },
  {
   "cell_type": "code",
   "execution_count": null,
   "id": "0s7_146FlLdT",
   "metadata": {
    "id": "0s7_146FlLdT"
   },
   "outputs": [],
   "source": [
    "rf_model.fit(X_train,Y_train)\n",
    "Y_predict = rf_model.predict(X_test)"
   ]
  },
  {
   "cell_type": "code",
   "execution_count": null,
   "id": "SMGHP3JwlLdc",
   "metadata": {
    "colab": {
     "base_uri": "https://localhost:8080/"
    },
    "id": "SMGHP3JwlLdc",
    "outputId": "d005136c-dfeb-4546-9382-496710b19ff0",
    "scrolled": true
   },
   "outputs": [
    {
     "data": {
      "text/plain": [
       "array([[3407,  334],\n",
       "       [ 509, 1750]])"
      ]
     },
     "execution_count": 46,
     "metadata": {},
     "output_type": "execute_result"
    }
   ],
   "source": [
    "confusion_matrix(Y_test,Y_predict)"
   ]
  },
  {
   "cell_type": "code",
   "execution_count": null,
   "id": "BWg_mOallLdc",
   "metadata": {
    "colab": {
     "base_uri": "https://localhost:8080/"
    },
    "id": "BWg_mOallLdc",
    "outputId": "717f05dc-78cd-46b4-91d3-db7b267258e7",
    "scrolled": true
   },
   "outputs": [
    {
     "name": "stdout",
     "output_type": "stream",
     "text": [
      "              precision    recall  f1-score   support\n",
      "\n",
      "           0       0.87      0.91      0.89      3741\n",
      "           1       0.84      0.77      0.81      2259\n",
      "\n",
      "    accuracy                           0.86      6000\n",
      "   macro avg       0.85      0.84      0.85      6000\n",
      "weighted avg       0.86      0.86      0.86      6000\n",
      "\n"
     ]
    }
   ],
   "source": [
    "print(classification_report(Y_test,Y_predict))"
   ]
  },
  {
   "cell_type": "code",
   "execution_count": null,
   "id": "XCs3NYAMlLdd",
   "metadata": {
    "colab": {
     "base_uri": "https://localhost:8080/"
    },
    "id": "XCs3NYAMlLdd",
    "outputId": "fef42866-782e-4d6a-91ba-1d18ef7867b4",
    "scrolled": true
   },
   "outputs": [
    {
     "data": {
      "text/plain": [
       "0.8058945429426665"
      ]
     },
     "execution_count": 48,
     "metadata": {},
     "output_type": "execute_result"
    }
   ],
   "source": [
    "f1_score(Y_test,Y_predict)"
   ]
  },
  {
   "cell_type": "code",
   "execution_count": null,
   "id": "CvmZzJTPlLdd",
   "metadata": {
    "id": "CvmZzJTPlLdd"
   },
   "outputs": [],
   "source": [
    "Y_predict_prob = rf_model.predict_proba(X_test)"
   ]
  },
  {
   "cell_type": "code",
   "execution_count": null,
   "id": "kV5tAgb6lLdd",
   "metadata": {
    "colab": {
     "base_uri": "https://localhost:8080/"
    },
    "id": "kV5tAgb6lLdd",
    "outputId": "ec81eccb-964e-48fa-92a3-91ca3f4c5191"
   },
   "outputs": [
    {
     "data": {
      "text/plain": [
       "0.40045045045045047"
      ]
     },
     "execution_count": 50,
     "metadata": {},
     "output_type": "execute_result"
    }
   ],
   "source": [
    "Threshold_Finder(Y_test,Y_predict_prob)"
   ]
  },
  {
   "cell_type": "code",
   "execution_count": null,
   "id": "ogVyaz90lLdd",
   "metadata": {
    "colab": {
     "base_uri": "https://localhost:8080/"
    },
    "id": "ogVyaz90lLdd",
    "outputId": "e48045db-a5b3-4e5c-df45-94214f888010",
    "scrolled": true
   },
   "outputs": [
    {
     "name": "stdout",
     "output_type": "stream",
     "text": [
      "              precision    recall  f1-score   support\n",
      "\n",
      "           0       0.90      0.87      0.89      3741\n",
      "           1       0.80      0.83      0.82      2259\n",
      "\n",
      "    accuracy                           0.86      6000\n",
      "   macro avg       0.85      0.85      0.85      6000\n",
      "weighted avg       0.86      0.86      0.86      6000\n",
      "\n"
     ]
    }
   ],
   "source": [
    "Y_predict = Y_predict_prob[:,1] > Threshold_Finder(Y_test,Y_predict_prob)\n",
    "print(classification_report(Y_test,Y_predict))"
   ]
  },
  {
   "cell_type": "code",
   "execution_count": null,
   "id": "HPvT_7YSlZBk",
   "metadata": {
    "colab": {
     "base_uri": "https://localhost:8080/"
    },
    "id": "HPvT_7YSlZBk",
    "outputId": "36337a4c-9c19-49d0-80c9-9999f7f883eb"
   },
   "outputs": [
    {
     "name": "stdout",
     "output_type": "stream",
     "text": [
      "CPU times: user 200 ms, sys: 55.6 ms, total: 255 ms\n",
      "Wall time: 18.9 s\n"
     ]
    },
    {
     "data": {
      "text/plain": [
       "0.8613057313753556"
      ]
     },
     "execution_count": 52,
     "metadata": {},
     "output_type": "execute_result"
    }
   ],
   "source": [
    "%%time\n",
    "et_model = ExtraTreesClassifier()\n",
    "et_model_cv_scores = cross_val_score(et_model,X_train,Y_train,cv=5,scoring='roc_auc',n_jobs=-1)\n",
    "et_model_cv_scores.mean()\n",
    "#faster processing compared to randomforest\n",
    "#better validation result than logistic, dtree"
   ]
  },
  {
   "cell_type": "code",
   "execution_count": null,
   "id": "4Yt3f1pQlo9F",
   "metadata": {
    "id": "4Yt3f1pQlo9F"
   },
   "outputs": [],
   "source": [
    "et_model.fit(X_train,Y_train)\n",
    "Y_predict = et_model.predict(X_test)"
   ]
  },
  {
   "cell_type": "code",
   "execution_count": null,
   "id": "UcHpeSWxlo9F",
   "metadata": {
    "colab": {
     "base_uri": "https://localhost:8080/"
    },
    "id": "UcHpeSWxlo9F",
    "outputId": "5e431b14-186d-45b5-82ea-406938891bf2",
    "scrolled": true
   },
   "outputs": [
    {
     "data": {
      "text/plain": [
       "array([[3431,  310],\n",
       "       [ 864, 1395]])"
      ]
     },
     "execution_count": 54,
     "metadata": {},
     "output_type": "execute_result"
    }
   ],
   "source": [
    "confusion_matrix(Y_test,Y_predict)"
   ]
  },
  {
   "cell_type": "code",
   "execution_count": null,
   "id": "WqA-cyl0lo9G",
   "metadata": {
    "colab": {
     "base_uri": "https://localhost:8080/"
    },
    "id": "WqA-cyl0lo9G",
    "outputId": "9e2b07eb-ac49-49db-a2e5-bd8bc842bcea",
    "scrolled": true
   },
   "outputs": [
    {
     "name": "stdout",
     "output_type": "stream",
     "text": [
      "              precision    recall  f1-score   support\n",
      "\n",
      "           0       0.80      0.92      0.85      3741\n",
      "           1       0.82      0.62      0.70      2259\n",
      "\n",
      "    accuracy                           0.80      6000\n",
      "   macro avg       0.81      0.77      0.78      6000\n",
      "weighted avg       0.81      0.80      0.80      6000\n",
      "\n"
     ]
    }
   ],
   "source": [
    "print(classification_report(Y_test,Y_predict))"
   ]
  },
  {
   "cell_type": "code",
   "execution_count": null,
   "id": "zsz655kelo9G",
   "metadata": {
    "colab": {
     "base_uri": "https://localhost:8080/"
    },
    "id": "zsz655kelo9G",
    "outputId": "27b48c18-4247-42c7-ede3-fd1058daacb4",
    "scrolled": true
   },
   "outputs": [
    {
     "data": {
      "text/plain": [
       "0.7038345105953582"
      ]
     },
     "execution_count": 56,
     "metadata": {},
     "output_type": "execute_result"
    }
   ],
   "source": [
    "f1_score(Y_test,Y_predict)"
   ]
  },
  {
   "cell_type": "code",
   "execution_count": null,
   "id": "VMxUsk1klo9G",
   "metadata": {
    "id": "VMxUsk1klo9G"
   },
   "outputs": [],
   "source": [
    "Y_predict_prob = et_model.predict_proba(X_test)"
   ]
  },
  {
   "cell_type": "code",
   "execution_count": null,
   "id": "ABd4XcIUlo9G",
   "metadata": {
    "colab": {
     "base_uri": "https://localhost:8080/"
    },
    "id": "ABd4XcIUlo9G",
    "outputId": "6cba5bff-b200-491f-fe07-4c753c91efc8"
   },
   "outputs": [
    {
     "data": {
      "text/plain": [
       "0.4202702702702703"
      ]
     },
     "execution_count": 58,
     "metadata": {},
     "output_type": "execute_result"
    }
   ],
   "source": [
    "Threshold_Finder(Y_test,Y_predict_prob)"
   ]
  },
  {
   "cell_type": "code",
   "execution_count": null,
   "id": "ZRm_2loFlo9H",
   "metadata": {
    "colab": {
     "base_uri": "https://localhost:8080/"
    },
    "id": "ZRm_2loFlo9H",
    "outputId": "70f994b4-5608-4250-ac8c-41395e6915b4",
    "scrolled": true
   },
   "outputs": [
    {
     "name": "stdout",
     "output_type": "stream",
     "text": [
      "              precision    recall  f1-score   support\n",
      "\n",
      "           0       0.85      0.84      0.85      3741\n",
      "           1       0.74      0.76      0.75      2259\n",
      "\n",
      "    accuracy                           0.81      6000\n",
      "   macro avg       0.80      0.80      0.80      6000\n",
      "weighted avg       0.81      0.81      0.81      6000\n",
      "\n"
     ]
    }
   ],
   "source": [
    "Y_predict = Y_predict_prob[:,1] > Threshold_Finder(Y_test,Y_predict_prob)\n",
    "print(classification_report(Y_test,Y_predict))"
   ]
  },
  {
   "cell_type": "code",
   "execution_count": null,
   "id": "LrwTDWN9mHZs",
   "metadata": {
    "colab": {
     "base_uri": "https://localhost:8080/"
    },
    "id": "LrwTDWN9mHZs",
    "outputId": "4dcee6d6-d09b-48f2-df33-d015d1367d51"
   },
   "outputs": [
    {
     "name": "stdout",
     "output_type": "stream",
     "text": [
      "CPU times: user 160 ms, sys: 36.5 ms, total: 196 ms\n",
      "Wall time: 14.5 s\n"
     ]
    },
    {
     "data": {
      "text/plain": [
       "0.8810854317302965"
      ]
     },
     "execution_count": 60,
     "metadata": {},
     "output_type": "execute_result"
    }
   ],
   "source": [
    "%%time\n",
    "ada_model = AdaBoostClassifier()\n",
    "ada_model_cv_scores = cross_val_score(ada_model,X_train,Y_train,cv=5,scoring='roc_auc',n_jobs=-1)\n",
    "ada_model_cv_scores.mean()"
   ]
  },
  {
   "cell_type": "code",
   "execution_count": null,
   "id": "4J6yrfHDmsa9",
   "metadata": {
    "id": "4J6yrfHDmsa9"
   },
   "outputs": [],
   "source": [
    "ada_model.fit(X_train,Y_train)\n",
    "Y_predict = ada_model.predict(X_test)"
   ]
  },
  {
   "cell_type": "code",
   "execution_count": null,
   "id": "-dQQ354lmsbG",
   "metadata": {
    "colab": {
     "base_uri": "https://localhost:8080/"
    },
    "id": "-dQQ354lmsbG",
    "outputId": "db096be0-6925-4347-e99a-852eab1d5947",
    "scrolled": true
   },
   "outputs": [
    {
     "data": {
      "text/plain": [
       "array([[3398,  343],\n",
       "       [ 588, 1671]])"
      ]
     },
     "execution_count": 62,
     "metadata": {},
     "output_type": "execute_result"
    }
   ],
   "source": [
    "confusion_matrix(Y_test,Y_predict)"
   ]
  },
  {
   "cell_type": "code",
   "execution_count": null,
   "id": "CAm6jglcmsbG",
   "metadata": {
    "colab": {
     "base_uri": "https://localhost:8080/"
    },
    "id": "CAm6jglcmsbG",
    "outputId": "df4668e0-7a43-46bf-b440-6d19fa5f38b7",
    "scrolled": true
   },
   "outputs": [
    {
     "name": "stdout",
     "output_type": "stream",
     "text": [
      "              precision    recall  f1-score   support\n",
      "\n",
      "           0       0.85      0.91      0.88      3741\n",
      "           1       0.83      0.74      0.78      2259\n",
      "\n",
      "    accuracy                           0.84      6000\n",
      "   macro avg       0.84      0.82      0.83      6000\n",
      "weighted avg       0.84      0.84      0.84      6000\n",
      "\n"
     ]
    }
   ],
   "source": [
    "print(classification_report(Y_test,Y_predict))"
   ]
  },
  {
   "cell_type": "code",
   "execution_count": null,
   "id": "TA6n7It6msbH",
   "metadata": {
    "colab": {
     "base_uri": "https://localhost:8080/"
    },
    "id": "TA6n7It6msbH",
    "outputId": "0d4a3ed0-d76f-48d0-c6ae-f77569b6564c",
    "scrolled": true
   },
   "outputs": [
    {
     "data": {
      "text/plain": [
       "0.7821202901942429"
      ]
     },
     "execution_count": 64,
     "metadata": {},
     "output_type": "execute_result"
    }
   ],
   "source": [
    "f1_score(Y_test,Y_predict)"
   ]
  },
  {
   "cell_type": "code",
   "execution_count": null,
   "id": "aVyMDB5tmsbH",
   "metadata": {
    "id": "aVyMDB5tmsbH"
   },
   "outputs": [],
   "source": [
    "Y_predict_prob = ada_model.predict_proba(X_test)"
   ]
  },
  {
   "cell_type": "code",
   "execution_count": null,
   "id": "g-0GYyiLmsbH",
   "metadata": {
    "colab": {
     "base_uri": "https://localhost:8080/"
    },
    "id": "g-0GYyiLmsbH",
    "outputId": "5f65490a-5f93-4516-d321-3146b8eb02ae"
   },
   "outputs": [
    {
     "data": {
      "text/plain": [
       "0.4975675675675676"
      ]
     },
     "execution_count": 66,
     "metadata": {},
     "output_type": "execute_result"
    }
   ],
   "source": [
    "Threshold_Finder(Y_test,Y_predict_prob)"
   ]
  },
  {
   "cell_type": "code",
   "execution_count": null,
   "id": "NC13eQ05msbH",
   "metadata": {
    "colab": {
     "base_uri": "https://localhost:8080/"
    },
    "id": "NC13eQ05msbH",
    "outputId": "ce1f17a9-de34-4b41-f3f2-29db626c6f9e",
    "scrolled": true
   },
   "outputs": [
    {
     "name": "stdout",
     "output_type": "stream",
     "text": [
      "              precision    recall  f1-score   support\n",
      "\n",
      "           0       0.90      0.85      0.87      3741\n",
      "           1       0.77      0.84      0.80      2259\n",
      "\n",
      "    accuracy                           0.84      6000\n",
      "   macro avg       0.83      0.84      0.83      6000\n",
      "weighted avg       0.85      0.84      0.84      6000\n",
      "\n"
     ]
    }
   ],
   "source": [
    "Y_predict = Y_predict_prob[:,1] > Threshold_Finder(Y_test,Y_predict_prob)\n",
    "print(classification_report(Y_test,Y_predict))"
   ]
  },
  {
   "cell_type": "code",
   "execution_count": null,
   "id": "cjCh2Cgqm4Pa",
   "metadata": {
    "colab": {
     "base_uri": "https://localhost:8080/"
    },
    "id": "cjCh2Cgqm4Pa",
    "outputId": "ac3d6597-4062-49c2-b69e-7fdd56a326ca"
   },
   "outputs": [
    {
     "name": "stdout",
     "output_type": "stream",
     "text": [
      "CPU times: user 614 ms, sys: 125 ms, total: 739 ms\n",
      "Wall time: 1min 6s\n"
     ]
    },
    {
     "data": {
      "text/plain": [
       "0.8889860046791135"
      ]
     },
     "execution_count": 68,
     "metadata": {},
     "output_type": "execute_result"
    }
   ],
   "source": [
    "%%time\n",
    "gb_model = GradientBoostingClassifier()\n",
    "gb_model_cv_scores = cross_val_score(gb_model,X_train,Y_train,cv=5,scoring='roc_auc',n_jobs=-1)\n",
    "gb_model_cv_scores.mean()"
   ]
  },
  {
   "cell_type": "code",
   "execution_count": null,
   "id": "NNJwXrdonDV0",
   "metadata": {
    "id": "NNJwXrdonDV0"
   },
   "outputs": [],
   "source": [
    "gb_model.fit(X_train,Y_train)\n",
    "Y_predict = gb_model.predict(X_test)"
   ]
  },
  {
   "cell_type": "code",
   "execution_count": null,
   "id": "9Sf93LFInDV9",
   "metadata": {
    "colab": {
     "base_uri": "https://localhost:8080/"
    },
    "id": "9Sf93LFInDV9",
    "outputId": "ebbc7e6c-4105-4971-a37e-833533750fb0",
    "scrolled": true
   },
   "outputs": [
    {
     "data": {
      "text/plain": [
       "array([[3405,  336],\n",
       "       [ 462, 1797]])"
      ]
     },
     "execution_count": 71,
     "metadata": {},
     "output_type": "execute_result"
    }
   ],
   "source": [
    "confusion_matrix(Y_test,Y_predict)"
   ]
  },
  {
   "cell_type": "code",
   "execution_count": null,
   "id": "V5hfsYuWnDV9",
   "metadata": {
    "colab": {
     "base_uri": "https://localhost:8080/"
    },
    "id": "V5hfsYuWnDV9",
    "outputId": "e02ef8b3-7a36-45ae-81a8-a33d6c90ab91",
    "scrolled": true
   },
   "outputs": [
    {
     "name": "stdout",
     "output_type": "stream",
     "text": [
      "              precision    recall  f1-score   support\n",
      "\n",
      "           0       0.88      0.91      0.90      3741\n",
      "           1       0.84      0.80      0.82      2259\n",
      "\n",
      "    accuracy                           0.87      6000\n",
      "   macro avg       0.86      0.85      0.86      6000\n",
      "weighted avg       0.87      0.87      0.87      6000\n",
      "\n"
     ]
    }
   ],
   "source": [
    "print(classification_report(Y_test,Y_predict))"
   ]
  },
  {
   "cell_type": "code",
   "execution_count": null,
   "id": "Y06HCR2qnDV9",
   "metadata": {
    "colab": {
     "base_uri": "https://localhost:8080/"
    },
    "id": "Y06HCR2qnDV9",
    "outputId": "2fa64558-5cc3-4344-b7c0-63324e6a257b",
    "scrolled": true
   },
   "outputs": [
    {
     "data": {
      "text/plain": [
       "0.8183060109289617"
      ]
     },
     "execution_count": 73,
     "metadata": {},
     "output_type": "execute_result"
    }
   ],
   "source": [
    "f1_score(Y_test,Y_predict)"
   ]
  },
  {
   "cell_type": "code",
   "execution_count": null,
   "id": "9V2rFsPhnDV9",
   "metadata": {
    "id": "9V2rFsPhnDV9"
   },
   "outputs": [],
   "source": [
    "Y_predict_prob = gb_model.predict_proba(X_test)"
   ]
  },
  {
   "cell_type": "code",
   "execution_count": null,
   "id": "uTHf2kk9nDV9",
   "metadata": {
    "colab": {
     "base_uri": "https://localhost:8080/"
    },
    "id": "uTHf2kk9nDV9",
    "outputId": "92185964-e443-4264-f864-ea0ba64e8b6f"
   },
   "outputs": [
    {
     "data": {
      "text/plain": [
       "0.4242342342342343"
      ]
     },
     "execution_count": 75,
     "metadata": {},
     "output_type": "execute_result"
    }
   ],
   "source": [
    "Threshold_Finder(Y_test,Y_predict_prob)"
   ]
  },
  {
   "cell_type": "code",
   "execution_count": null,
   "id": "r6d-Ddr_nDV-",
   "metadata": {
    "colab": {
     "base_uri": "https://localhost:8080/"
    },
    "id": "r6d-Ddr_nDV-",
    "outputId": "7e7fa884-ecf5-4c76-fc7e-5b808f07cf4d",
    "scrolled": true
   },
   "outputs": [
    {
     "name": "stdout",
     "output_type": "stream",
     "text": [
      "              precision    recall  f1-score   support\n",
      "\n",
      "           0       0.90      0.89      0.89      3741\n",
      "           1       0.82      0.84      0.83      2259\n",
      "\n",
      "    accuracy                           0.87      6000\n",
      "   macro avg       0.86      0.86      0.86      6000\n",
      "weighted avg       0.87      0.87      0.87      6000\n",
      "\n"
     ]
    }
   ],
   "source": [
    "Y_predict = Y_predict_prob[:,1] > Threshold_Finder(Y_test,Y_predict_prob)\n",
    "print(classification_report(Y_test,Y_predict))"
   ]
  },
  {
   "cell_type": "code",
   "execution_count": null,
   "id": "a8VRPtoonAcU",
   "metadata": {
    "colab": {
     "base_uri": "https://localhost:8080/"
    },
    "id": "a8VRPtoonAcU",
    "outputId": "487d6d47-c47f-4c6b-ceee-d88f9c18cfc6"
   },
   "outputs": [
    {
     "name": "stdout",
     "output_type": "stream",
     "text": [
      "CPU times: user 108 ms, sys: 21.2 ms, total: 130 ms\n",
      "Wall time: 5.64 s\n"
     ]
    },
    {
     "data": {
      "text/plain": [
       "0.8829256553207896"
      ]
     },
     "execution_count": 77,
     "metadata": {},
     "output_type": "execute_result"
    }
   ],
   "source": [
    "%%time\n",
    "xgb_model = XGBClassifier()\n",
    "xgb_model_cv_scores = cross_val_score(xgb_model,X_train,Y_train,cv=5,scoring='roc_auc',n_jobs=-1)\n",
    "xgb_model_cv_scores.mean()"
   ]
  },
  {
   "cell_type": "code",
   "execution_count": null,
   "id": "ZbcmjIlRnS-_",
   "metadata": {
    "id": "ZbcmjIlRnS-_"
   },
   "outputs": [],
   "source": [
    "xgb_model.fit(X_train,Y_train)\n",
    "Y_predict = xgb_model.predict(X_test)"
   ]
  },
  {
   "cell_type": "code",
   "execution_count": null,
   "id": "jTsk-oWxnS_I",
   "metadata": {
    "colab": {
     "base_uri": "https://localhost:8080/"
    },
    "id": "jTsk-oWxnS_I",
    "outputId": "542fbfb5-b42d-414a-8d6c-8bfeaba7a0a1",
    "scrolled": true
   },
   "outputs": [
    {
     "data": {
      "text/plain": [
       "array([[3379,  362],\n",
       "       [ 433, 1826]])"
      ]
     },
     "execution_count": 79,
     "metadata": {},
     "output_type": "execute_result"
    }
   ],
   "source": [
    "confusion_matrix(Y_test,Y_predict)"
   ]
  },
  {
   "cell_type": "code",
   "execution_count": null,
   "id": "DlksVw2RnS_I",
   "metadata": {
    "colab": {
     "base_uri": "https://localhost:8080/"
    },
    "id": "DlksVw2RnS_I",
    "outputId": "4c2288de-3c4d-4943-e24e-0f52270ce161",
    "scrolled": true
   },
   "outputs": [
    {
     "name": "stdout",
     "output_type": "stream",
     "text": [
      "              precision    recall  f1-score   support\n",
      "\n",
      "           0       0.89      0.90      0.89      3741\n",
      "           1       0.83      0.81      0.82      2259\n",
      "\n",
      "    accuracy                           0.87      6000\n",
      "   macro avg       0.86      0.86      0.86      6000\n",
      "weighted avg       0.87      0.87      0.87      6000\n",
      "\n"
     ]
    }
   ],
   "source": [
    "print(classification_report(Y_test,Y_predict))"
   ]
  },
  {
   "cell_type": "code",
   "execution_count": null,
   "id": "svuSOo7jnS_I",
   "metadata": {
    "colab": {
     "base_uri": "https://localhost:8080/"
    },
    "id": "svuSOo7jnS_I",
    "outputId": "52f4baea-1143-4d57-a294-6fde08adf732",
    "scrolled": true
   },
   "outputs": [
    {
     "data": {
      "text/plain": [
       "0.8212277940184395"
      ]
     },
     "execution_count": 81,
     "metadata": {},
     "output_type": "execute_result"
    }
   ],
   "source": [
    "f1_score(Y_test,Y_predict)"
   ]
  },
  {
   "cell_type": "code",
   "execution_count": null,
   "id": "DBmroJDinS_J",
   "metadata": {
    "id": "DBmroJDinS_J"
   },
   "outputs": [],
   "source": [
    "Y_predict_prob = xgb_model.predict_proba(X_test)"
   ]
  },
  {
   "cell_type": "code",
   "execution_count": null,
   "id": "cWEQAQQ1nS_J",
   "metadata": {
    "colab": {
     "base_uri": "https://localhost:8080/"
    },
    "id": "cWEQAQQ1nS_J",
    "outputId": "e53a0b27-2e4b-4b38-a673-9799fb9bfde8"
   },
   "outputs": [
    {
     "data": {
      "text/plain": [
       "0.42225225225225227"
      ]
     },
     "execution_count": 83,
     "metadata": {},
     "output_type": "execute_result"
    }
   ],
   "source": [
    "Threshold_Finder(Y_test,Y_predict_prob)"
   ]
  },
  {
   "cell_type": "code",
   "execution_count": null,
   "id": "t453ZQshnS_J",
   "metadata": {
    "colab": {
     "base_uri": "https://localhost:8080/"
    },
    "id": "t453ZQshnS_J",
    "outputId": "f5cea70d-d71b-4bbd-d511-f27443bd5cfb",
    "scrolled": true
   },
   "outputs": [
    {
     "name": "stdout",
     "output_type": "stream",
     "text": [
      "              precision    recall  f1-score   support\n",
      "\n",
      "           0       0.90      0.89      0.89      3741\n",
      "           1       0.82      0.83      0.82      2259\n",
      "\n",
      "    accuracy                           0.87      6000\n",
      "   macro avg       0.86      0.86      0.86      6000\n",
      "weighted avg       0.87      0.87      0.87      6000\n",
      "\n"
     ]
    }
   ],
   "source": [
    "Y_predict = Y_predict_prob[:,1] > Threshold_Finder(Y_test,Y_predict_prob)\n",
    "print(classification_report(Y_test,Y_predict))"
   ]
  },
  {
   "cell_type": "code",
   "execution_count": null,
   "id": "OTTo4PkZoJKM",
   "metadata": {
    "colab": {
     "base_uri": "https://localhost:8080/"
    },
    "id": "OTTo4PkZoJKM",
    "outputId": "358d1ff9-1b0c-461e-aec9-55388d0ce566"
   },
   "outputs": [
    {
     "name": "stdout",
     "output_type": "stream",
     "text": [
      "CPU times: user 120 ms, sys: 15 ms, total: 135 ms\n",
      "Wall time: 8.55 s\n"
     ]
    },
    {
     "data": {
      "text/plain": [
       "0.8891084378389884"
      ]
     },
     "execution_count": 85,
     "metadata": {},
     "output_type": "execute_result"
    }
   ],
   "source": [
    "%%time\n",
    "lgb_model = LGBMClassifier()\n",
    "lgb_model_cv_scores = cross_val_score(lgb_model,X_train,Y_train,cv=5,scoring='roc_auc',n_jobs=-1)\n",
    "lgb_model_cv_scores.mean()"
   ]
  },
  {
   "cell_type": "code",
   "execution_count": null,
   "id": "YHZBR7M5oNl_",
   "metadata": {
    "colab": {
     "base_uri": "https://localhost:8080/"
    },
    "id": "YHZBR7M5oNl_",
    "outputId": "05ed2bc7-442a-43d5-ea11-143cc5d50559"
   },
   "outputs": [
    {
     "name": "stdout",
     "output_type": "stream",
     "text": [
      "[LightGBM] [Info] Number of positive: 8986, number of negative: 15014\n",
      "[LightGBM] [Info] Auto-choosing row-wise multi-threading, the overhead of testing was 0.003377 seconds.\n",
      "You can set `force_row_wise=true` to remove the overhead.\n",
      "And if memory is not enough, you can set `force_col_wise=true`.\n",
      "[LightGBM] [Info] Total Bins 5184\n",
      "[LightGBM] [Info] Number of data points in the train set: 24000, number of used features: 62\n",
      "[LightGBM] [Info] [binary:BoostFromScore]: pavg=0.374417 -> initscore=-0.513315\n",
      "[LightGBM] [Info] Start training from score -0.513315\n"
     ]
    }
   ],
   "source": [
    "lgb_model.fit(X_train,Y_train)\n",
    "Y_predict = lgb_model.predict(X_test)"
   ]
  },
  {
   "cell_type": "code",
   "execution_count": null,
   "id": "3AHR6AqXoNmI",
   "metadata": {
    "colab": {
     "base_uri": "https://localhost:8080/"
    },
    "id": "3AHR6AqXoNmI",
    "outputId": "9921626b-8cc4-4c52-db23-bc7b627d5b58",
    "scrolled": true
   },
   "outputs": [
    {
     "data": {
      "text/plain": [
       "array([[3411,  330],\n",
       "       [ 416, 1843]])"
      ]
     },
     "execution_count": 87,
     "metadata": {},
     "output_type": "execute_result"
    }
   ],
   "source": [
    "confusion_matrix(Y_test,Y_predict)"
   ]
  },
  {
   "cell_type": "code",
   "execution_count": null,
   "id": "oNCz0pQ3oNmJ",
   "metadata": {
    "colab": {
     "base_uri": "https://localhost:8080/"
    },
    "id": "oNCz0pQ3oNmJ",
    "outputId": "3844ee22-c956-4668-e80d-bc31ea388ee0",
    "scrolled": true
   },
   "outputs": [
    {
     "name": "stdout",
     "output_type": "stream",
     "text": [
      "              precision    recall  f1-score   support\n",
      "\n",
      "           0       0.89      0.91      0.90      3741\n",
      "           1       0.85      0.82      0.83      2259\n",
      "\n",
      "    accuracy                           0.88      6000\n",
      "   macro avg       0.87      0.86      0.87      6000\n",
      "weighted avg       0.88      0.88      0.88      6000\n",
      "\n"
     ]
    }
   ],
   "source": [
    "print(classification_report(Y_test,Y_predict))"
   ]
  },
  {
   "cell_type": "code",
   "execution_count": null,
   "id": "fIe6cdWAoNmJ",
   "metadata": {
    "colab": {
     "base_uri": "https://localhost:8080/"
    },
    "id": "fIe6cdWAoNmJ",
    "outputId": "6f7f1c34-569f-4564-cf4b-488214808a72",
    "scrolled": true
   },
   "outputs": [
    {
     "data": {
      "text/plain": [
       "0.8316787003610107"
      ]
     },
     "execution_count": 89,
     "metadata": {},
     "output_type": "execute_result"
    }
   ],
   "source": [
    "f1_score(Y_test,Y_predict)"
   ]
  },
  {
   "cell_type": "code",
   "execution_count": null,
   "id": "h18DPqPUoNmJ",
   "metadata": {
    "id": "h18DPqPUoNmJ"
   },
   "outputs": [],
   "source": [
    "Y_predict_prob = lgb_model.predict_proba(X_test)"
   ]
  },
  {
   "cell_type": "code",
   "execution_count": null,
   "id": "Fi2dE13poNmJ",
   "metadata": {
    "colab": {
     "base_uri": "https://localhost:8080/"
    },
    "id": "Fi2dE13poNmJ",
    "outputId": "4cb4f038-7fb0-4eaa-f3c3-546f69b00149"
   },
   "outputs": [
    {
     "data": {
      "text/plain": [
       "0.35981981981981986"
      ]
     },
     "execution_count": 91,
     "metadata": {},
     "output_type": "execute_result"
    }
   ],
   "source": [
    "Threshold_Finder(Y_test,Y_predict_prob)"
   ]
  },
  {
   "cell_type": "code",
   "execution_count": null,
   "id": "h3hbLS8-oNmJ",
   "metadata": {
    "colab": {
     "base_uri": "https://localhost:8080/"
    },
    "id": "h3hbLS8-oNmJ",
    "outputId": "2b0c1f53-3e8b-48a5-f1f9-9b0f2810e57e",
    "scrolled": true
   },
   "outputs": [
    {
     "name": "stdout",
     "output_type": "stream",
     "text": [
      "              precision    recall  f1-score   support\n",
      "\n",
      "           0       0.91      0.89      0.90      3741\n",
      "           1       0.82      0.85      0.84      2259\n",
      "\n",
      "    accuracy                           0.87      6000\n",
      "   macro avg       0.86      0.87      0.87      6000\n",
      "weighted avg       0.88      0.87      0.87      6000\n",
      "\n"
     ]
    }
   ],
   "source": [
    "Y_predict = Y_predict_prob[:,1] > Threshold_Finder(Y_test,Y_predict_prob)\n",
    "print(classification_report(Y_test,Y_predict))"
   ]
  },
  {
   "cell_type": "code",
   "execution_count": null,
   "id": "Jj7hQfx7od0l",
   "metadata": {
    "colab": {
     "base_uri": "https://localhost:8080/"
    },
    "id": "Jj7hQfx7od0l",
    "outputId": "05f670c2-3af7-4a1d-e10e-3fc2043b20a1"
   },
   "outputs": [
    {
     "name": "stdout",
     "output_type": "stream",
     "text": [
      "CPU times: user 910 ms, sys: 148 ms, total: 1.06 s\n",
      "Wall time: 1min 33s\n"
     ]
    },
    {
     "data": {
      "text/plain": [
       "0.8909371352020707"
      ]
     },
     "execution_count": 93,
     "metadata": {},
     "output_type": "execute_result"
    }
   ],
   "source": [
    "%%time\n",
    "cb_model = CatBoostClassifier()\n",
    "cb_model_cv_scores = cross_val_score(cb_model,X_train,Y_train,cv=5,scoring='roc_auc',n_jobs=-1)\n",
    "cb_model_cv_scores.mean()"
   ]
  },
  {
   "cell_type": "code",
   "execution_count": null,
   "id": "00pbCZKKogO-",
   "metadata": {
    "colab": {
     "base_uri": "https://localhost:8080/"
    },
    "id": "00pbCZKKogO-",
    "outputId": "366df172-d6b7-4020-e206-6e5c03a14924"
   },
   "outputs": [
    {
     "name": "stdout",
     "output_type": "stream",
     "text": [
      "Learning rate set to 0.040021\n",
      "0:\tlearn: 0.6675296\ttotal: 64.9ms\tremaining: 1m 4s\n",
      "1:\tlearn: 0.6452212\ttotal: 78.3ms\tremaining: 39s\n",
      "2:\tlearn: 0.6254495\ttotal: 91ms\tremaining: 30.3s\n",
      "3:\tlearn: 0.6059213\ttotal: 104ms\tremaining: 26s\n",
      "4:\tlearn: 0.5880209\ttotal: 118ms\tremaining: 23.5s\n",
      "5:\tlearn: 0.5718522\ttotal: 133ms\tremaining: 22.1s\n",
      "6:\tlearn: 0.5597428\ttotal: 147ms\tremaining: 20.9s\n",
      "7:\tlearn: 0.5461153\ttotal: 161ms\tremaining: 20s\n",
      "8:\tlearn: 0.5334705\ttotal: 177ms\tremaining: 19.5s\n",
      "9:\tlearn: 0.5231118\ttotal: 190ms\tremaining: 18.9s\n",
      "10:\tlearn: 0.5126780\ttotal: 207ms\tremaining: 18.6s\n",
      "11:\tlearn: 0.5032010\ttotal: 221ms\tremaining: 18.2s\n",
      "12:\tlearn: 0.4956384\ttotal: 237ms\tremaining: 18s\n",
      "13:\tlearn: 0.4877502\ttotal: 251ms\tremaining: 17.7s\n",
      "14:\tlearn: 0.4801944\ttotal: 264ms\tremaining: 17.4s\n",
      "15:\tlearn: 0.4732024\ttotal: 278ms\tremaining: 17.1s\n",
      "16:\tlearn: 0.4675784\ttotal: 291ms\tremaining: 16.8s\n",
      "17:\tlearn: 0.4622923\ttotal: 305ms\tremaining: 16.7s\n",
      "18:\tlearn: 0.4569810\ttotal: 319ms\tremaining: 16.5s\n",
      "19:\tlearn: 0.4521569\ttotal: 332ms\tremaining: 16.3s\n",
      "20:\tlearn: 0.4478966\ttotal: 346ms\tremaining: 16.1s\n",
      "21:\tlearn: 0.4434958\ttotal: 364ms\tremaining: 16.2s\n",
      "22:\tlearn: 0.4392458\ttotal: 377ms\tremaining: 16s\n",
      "23:\tlearn: 0.4353882\ttotal: 390ms\tremaining: 15.9s\n",
      "24:\tlearn: 0.4318857\ttotal: 405ms\tremaining: 15.8s\n",
      "25:\tlearn: 0.4285538\ttotal: 421ms\tremaining: 15.8s\n",
      "26:\tlearn: 0.4255927\ttotal: 434ms\tremaining: 15.6s\n",
      "27:\tlearn: 0.4230814\ttotal: 447ms\tremaining: 15.5s\n",
      "28:\tlearn: 0.4201586\ttotal: 461ms\tremaining: 15.4s\n",
      "29:\tlearn: 0.4175226\ttotal: 475ms\tremaining: 15.4s\n",
      "30:\tlearn: 0.4150787\ttotal: 489ms\tremaining: 15.3s\n",
      "31:\tlearn: 0.4129371\ttotal: 505ms\tremaining: 15.3s\n",
      "32:\tlearn: 0.4107102\ttotal: 520ms\tremaining: 15.2s\n",
      "33:\tlearn: 0.4086329\ttotal: 534ms\tremaining: 15.2s\n",
      "34:\tlearn: 0.4068073\ttotal: 547ms\tremaining: 15.1s\n",
      "35:\tlearn: 0.4050005\ttotal: 560ms\tremaining: 15s\n",
      "36:\tlearn: 0.4032584\ttotal: 573ms\tremaining: 14.9s\n",
      "37:\tlearn: 0.4018131\ttotal: 587ms\tremaining: 14.8s\n",
      "38:\tlearn: 0.4004784\ttotal: 600ms\tremaining: 14.8s\n",
      "39:\tlearn: 0.3992294\ttotal: 617ms\tremaining: 14.8s\n",
      "40:\tlearn: 0.3978126\ttotal: 631ms\tremaining: 14.8s\n",
      "41:\tlearn: 0.3964276\ttotal: 645ms\tremaining: 14.7s\n",
      "42:\tlearn: 0.3952633\ttotal: 658ms\tremaining: 14.6s\n",
      "43:\tlearn: 0.3942113\ttotal: 671ms\tremaining: 14.6s\n",
      "44:\tlearn: 0.3932625\ttotal: 684ms\tremaining: 14.5s\n",
      "45:\tlearn: 0.3921010\ttotal: 697ms\tremaining: 14.5s\n",
      "46:\tlearn: 0.3913739\ttotal: 711ms\tremaining: 14.4s\n",
      "47:\tlearn: 0.3903630\ttotal: 728ms\tremaining: 14.4s\n",
      "48:\tlearn: 0.3894136\ttotal: 746ms\tremaining: 14.5s\n",
      "49:\tlearn: 0.3884700\ttotal: 761ms\tremaining: 14.5s\n",
      "50:\tlearn: 0.3876200\ttotal: 774ms\tremaining: 14.4s\n",
      "51:\tlearn: 0.3870575\ttotal: 787ms\tremaining: 14.4s\n",
      "52:\tlearn: 0.3865064\ttotal: 801ms\tremaining: 14.3s\n",
      "53:\tlearn: 0.3857412\ttotal: 814ms\tremaining: 14.3s\n",
      "54:\tlearn: 0.3850903\ttotal: 831ms\tremaining: 14.3s\n",
      "55:\tlearn: 0.3845934\ttotal: 844ms\tremaining: 14.2s\n",
      "56:\tlearn: 0.3838255\ttotal: 857ms\tremaining: 14.2s\n",
      "57:\tlearn: 0.3833103\ttotal: 871ms\tremaining: 14.1s\n",
      "58:\tlearn: 0.3825971\ttotal: 888ms\tremaining: 14.2s\n",
      "59:\tlearn: 0.3821207\ttotal: 901ms\tremaining: 14.1s\n",
      "60:\tlearn: 0.3816673\ttotal: 915ms\tremaining: 14.1s\n",
      "61:\tlearn: 0.3813422\ttotal: 928ms\tremaining: 14s\n",
      "62:\tlearn: 0.3810466\ttotal: 941ms\tremaining: 14s\n",
      "63:\tlearn: 0.3806062\ttotal: 955ms\tremaining: 14s\n",
      "64:\tlearn: 0.3801874\ttotal: 968ms\tremaining: 13.9s\n",
      "65:\tlearn: 0.3796204\ttotal: 981ms\tremaining: 13.9s\n",
      "66:\tlearn: 0.3792248\ttotal: 994ms\tremaining: 13.8s\n",
      "67:\tlearn: 0.3787511\ttotal: 1.01s\tremaining: 13.8s\n",
      "68:\tlearn: 0.3784439\ttotal: 1.02s\tremaining: 13.8s\n",
      "69:\tlearn: 0.3779930\ttotal: 1.05s\tremaining: 14s\n",
      "70:\tlearn: 0.3776872\ttotal: 1.07s\tremaining: 14s\n",
      "71:\tlearn: 0.3773598\ttotal: 1.08s\tremaining: 13.9s\n",
      "72:\tlearn: 0.3769391\ttotal: 1.09s\tremaining: 13.9s\n",
      "73:\tlearn: 0.3766171\ttotal: 1.1s\tremaining: 13.8s\n",
      "74:\tlearn: 0.3763410\ttotal: 1.12s\tremaining: 13.8s\n",
      "75:\tlearn: 0.3760582\ttotal: 1.13s\tremaining: 13.8s\n",
      "76:\tlearn: 0.3758391\ttotal: 1.14s\tremaining: 13.7s\n",
      "77:\tlearn: 0.3756275\ttotal: 1.16s\tremaining: 13.7s\n",
      "78:\tlearn: 0.3753901\ttotal: 1.18s\tremaining: 13.7s\n",
      "79:\tlearn: 0.3752131\ttotal: 1.19s\tremaining: 13.7s\n",
      "80:\tlearn: 0.3748230\ttotal: 1.2s\tremaining: 13.6s\n",
      "81:\tlearn: 0.3744828\ttotal: 1.22s\tremaining: 13.6s\n",
      "82:\tlearn: 0.3740064\ttotal: 1.24s\tremaining: 13.7s\n",
      "83:\tlearn: 0.3737717\ttotal: 1.25s\tremaining: 13.7s\n",
      "84:\tlearn: 0.3736231\ttotal: 1.27s\tremaining: 13.6s\n",
      "85:\tlearn: 0.3732045\ttotal: 1.28s\tremaining: 13.6s\n",
      "86:\tlearn: 0.3730067\ttotal: 1.29s\tremaining: 13.6s\n",
      "87:\tlearn: 0.3727532\ttotal: 1.31s\tremaining: 13.6s\n",
      "88:\tlearn: 0.3726090\ttotal: 1.32s\tremaining: 13.5s\n",
      "89:\tlearn: 0.3723748\ttotal: 1.33s\tremaining: 13.5s\n",
      "90:\tlearn: 0.3721522\ttotal: 1.35s\tremaining: 13.5s\n",
      "91:\tlearn: 0.3719893\ttotal: 1.36s\tremaining: 13.5s\n",
      "92:\tlearn: 0.3717875\ttotal: 1.38s\tremaining: 13.4s\n",
      "93:\tlearn: 0.3714629\ttotal: 1.39s\tremaining: 13.4s\n",
      "94:\tlearn: 0.3712833\ttotal: 1.41s\tremaining: 13.4s\n",
      "95:\tlearn: 0.3711254\ttotal: 1.42s\tremaining: 13.3s\n",
      "96:\tlearn: 0.3708040\ttotal: 1.43s\tremaining: 13.3s\n",
      "97:\tlearn: 0.3705264\ttotal: 1.44s\tremaining: 13.3s\n",
      "98:\tlearn: 0.3702830\ttotal: 1.46s\tremaining: 13.3s\n",
      "99:\tlearn: 0.3701205\ttotal: 1.47s\tremaining: 13.3s\n",
      "100:\tlearn: 0.3699889\ttotal: 1.49s\tremaining: 13.3s\n",
      "101:\tlearn: 0.3698550\ttotal: 1.5s\tremaining: 13.2s\n",
      "102:\tlearn: 0.3697060\ttotal: 1.51s\tremaining: 13.2s\n",
      "103:\tlearn: 0.3695512\ttotal: 1.53s\tremaining: 13.2s\n",
      "104:\tlearn: 0.3693873\ttotal: 1.54s\tremaining: 13.1s\n",
      "105:\tlearn: 0.3692375\ttotal: 1.55s\tremaining: 13.1s\n",
      "106:\tlearn: 0.3687827\ttotal: 1.57s\tremaining: 13.1s\n",
      "107:\tlearn: 0.3685919\ttotal: 1.58s\tremaining: 13.1s\n",
      "108:\tlearn: 0.3683998\ttotal: 1.6s\tremaining: 13.1s\n",
      "109:\tlearn: 0.3682308\ttotal: 1.61s\tremaining: 13s\n",
      "110:\tlearn: 0.3680858\ttotal: 1.63s\tremaining: 13s\n",
      "111:\tlearn: 0.3679635\ttotal: 1.64s\tremaining: 13s\n",
      "112:\tlearn: 0.3677633\ttotal: 1.65s\tremaining: 13s\n",
      "113:\tlearn: 0.3676206\ttotal: 1.67s\tremaining: 13s\n",
      "114:\tlearn: 0.3675039\ttotal: 1.68s\tremaining: 12.9s\n",
      "115:\tlearn: 0.3673430\ttotal: 1.69s\tremaining: 12.9s\n",
      "116:\tlearn: 0.3671865\ttotal: 1.71s\tremaining: 12.9s\n",
      "117:\tlearn: 0.3670200\ttotal: 1.72s\tremaining: 12.9s\n",
      "118:\tlearn: 0.3669090\ttotal: 1.73s\tremaining: 12.8s\n",
      "119:\tlearn: 0.3667368\ttotal: 1.75s\tremaining: 12.8s\n",
      "120:\tlearn: 0.3665397\ttotal: 1.76s\tremaining: 12.8s\n",
      "121:\tlearn: 0.3664394\ttotal: 1.77s\tremaining: 12.8s\n",
      "122:\tlearn: 0.3663132\ttotal: 1.79s\tremaining: 12.7s\n",
      "123:\tlearn: 0.3661740\ttotal: 1.8s\tremaining: 12.7s\n",
      "124:\tlearn: 0.3660354\ttotal: 1.81s\tremaining: 12.7s\n",
      "125:\tlearn: 0.3658876\ttotal: 1.83s\tremaining: 12.7s\n",
      "126:\tlearn: 0.3656921\ttotal: 1.84s\tremaining: 12.6s\n",
      "127:\tlearn: 0.3655614\ttotal: 1.85s\tremaining: 12.6s\n",
      "128:\tlearn: 0.3654384\ttotal: 1.86s\tremaining: 12.6s\n",
      "129:\tlearn: 0.3653074\ttotal: 1.88s\tremaining: 12.6s\n",
      "130:\tlearn: 0.3650864\ttotal: 1.9s\tremaining: 12.6s\n",
      "131:\tlearn: 0.3649637\ttotal: 1.91s\tremaining: 12.6s\n",
      "132:\tlearn: 0.3648249\ttotal: 1.93s\tremaining: 12.5s\n",
      "133:\tlearn: 0.3646718\ttotal: 1.95s\tremaining: 12.6s\n",
      "134:\tlearn: 0.3645581\ttotal: 1.96s\tremaining: 12.6s\n",
      "135:\tlearn: 0.3644471\ttotal: 1.98s\tremaining: 12.5s\n",
      "136:\tlearn: 0.3643374\ttotal: 1.99s\tremaining: 12.5s\n",
      "137:\tlearn: 0.3641777\ttotal: 2s\tremaining: 12.5s\n",
      "138:\tlearn: 0.3639902\ttotal: 2.01s\tremaining: 12.5s\n",
      "139:\tlearn: 0.3638560\ttotal: 2.03s\tremaining: 12.5s\n",
      "140:\tlearn: 0.3637408\ttotal: 2.06s\tremaining: 12.5s\n",
      "141:\tlearn: 0.3636103\ttotal: 2.08s\tremaining: 12.5s\n",
      "142:\tlearn: 0.3635138\ttotal: 2.09s\tremaining: 12.5s\n",
      "143:\tlearn: 0.3633905\ttotal: 2.11s\tremaining: 12.5s\n",
      "144:\tlearn: 0.3632512\ttotal: 2.12s\tremaining: 12.5s\n",
      "145:\tlearn: 0.3631568\ttotal: 2.13s\tremaining: 12.5s\n",
      "146:\tlearn: 0.3630402\ttotal: 2.15s\tremaining: 12.4s\n",
      "147:\tlearn: 0.3629024\ttotal: 2.16s\tremaining: 12.4s\n",
      "148:\tlearn: 0.3627902\ttotal: 2.17s\tremaining: 12.4s\n",
      "149:\tlearn: 0.3626671\ttotal: 2.19s\tremaining: 12.4s\n",
      "150:\tlearn: 0.3625437\ttotal: 2.2s\tremaining: 12.4s\n",
      "151:\tlearn: 0.3624256\ttotal: 2.22s\tremaining: 12.4s\n",
      "152:\tlearn: 0.3623075\ttotal: 2.24s\tremaining: 12.4s\n",
      "153:\tlearn: 0.3621025\ttotal: 2.25s\tremaining: 12.4s\n",
      "154:\tlearn: 0.3620304\ttotal: 2.27s\tremaining: 12.4s\n",
      "155:\tlearn: 0.3619053\ttotal: 2.28s\tremaining: 12.3s\n",
      "156:\tlearn: 0.3617656\ttotal: 2.3s\tremaining: 12.3s\n",
      "157:\tlearn: 0.3616257\ttotal: 2.31s\tremaining: 12.3s\n",
      "158:\tlearn: 0.3614575\ttotal: 2.32s\tremaining: 12.3s\n",
      "159:\tlearn: 0.3613343\ttotal: 2.34s\tremaining: 12.3s\n",
      "160:\tlearn: 0.3612370\ttotal: 2.35s\tremaining: 12.3s\n",
      "161:\tlearn: 0.3610679\ttotal: 2.37s\tremaining: 12.2s\n",
      "162:\tlearn: 0.3609626\ttotal: 2.38s\tremaining: 12.2s\n",
      "163:\tlearn: 0.3608370\ttotal: 2.39s\tremaining: 12.2s\n",
      "164:\tlearn: 0.3607103\ttotal: 2.41s\tremaining: 12.2s\n",
      "165:\tlearn: 0.3606385\ttotal: 2.42s\tremaining: 12.2s\n",
      "166:\tlearn: 0.3604674\ttotal: 2.43s\tremaining: 12.1s\n",
      "167:\tlearn: 0.3603158\ttotal: 2.45s\tremaining: 12.1s\n",
      "168:\tlearn: 0.3602044\ttotal: 2.46s\tremaining: 12.1s\n",
      "169:\tlearn: 0.3601025\ttotal: 2.48s\tremaining: 12.1s\n",
      "170:\tlearn: 0.3599177\ttotal: 2.49s\tremaining: 12.1s\n",
      "171:\tlearn: 0.3597913\ttotal: 2.51s\tremaining: 12.1s\n",
      "172:\tlearn: 0.3597112\ttotal: 2.52s\tremaining: 12.1s\n",
      "173:\tlearn: 0.3595889\ttotal: 2.54s\tremaining: 12.1s\n",
      "174:\tlearn: 0.3594609\ttotal: 2.56s\tremaining: 12s\n",
      "175:\tlearn: 0.3593251\ttotal: 2.57s\tremaining: 12s\n",
      "176:\tlearn: 0.3592072\ttotal: 2.58s\tremaining: 12s\n",
      "177:\tlearn: 0.3590656\ttotal: 2.59s\tremaining: 12s\n",
      "178:\tlearn: 0.3589609\ttotal: 2.61s\tremaining: 12s\n",
      "179:\tlearn: 0.3588173\ttotal: 2.62s\tremaining: 11.9s\n",
      "180:\tlearn: 0.3586970\ttotal: 2.63s\tremaining: 11.9s\n",
      "181:\tlearn: 0.3586171\ttotal: 2.65s\tremaining: 11.9s\n",
      "182:\tlearn: 0.3584650\ttotal: 2.66s\tremaining: 11.9s\n",
      "183:\tlearn: 0.3583410\ttotal: 2.67s\tremaining: 11.9s\n",
      "184:\tlearn: 0.3582790\ttotal: 2.69s\tremaining: 11.8s\n",
      "185:\tlearn: 0.3581555\ttotal: 2.7s\tremaining: 11.8s\n",
      "186:\tlearn: 0.3580396\ttotal: 2.72s\tremaining: 11.8s\n",
      "187:\tlearn: 0.3579041\ttotal: 2.73s\tremaining: 11.8s\n",
      "188:\tlearn: 0.3577612\ttotal: 2.74s\tremaining: 11.8s\n",
      "189:\tlearn: 0.3576219\ttotal: 2.76s\tremaining: 11.8s\n",
      "190:\tlearn: 0.3572698\ttotal: 2.77s\tremaining: 11.7s\n",
      "191:\tlearn: 0.3571298\ttotal: 2.79s\tremaining: 11.7s\n",
      "192:\tlearn: 0.3570102\ttotal: 2.8s\tremaining: 11.7s\n",
      "193:\tlearn: 0.3568780\ttotal: 2.82s\tremaining: 11.7s\n",
      "194:\tlearn: 0.3567813\ttotal: 2.83s\tremaining: 11.7s\n",
      "195:\tlearn: 0.3566424\ttotal: 2.85s\tremaining: 11.7s\n",
      "196:\tlearn: 0.3565023\ttotal: 2.86s\tremaining: 11.7s\n",
      "197:\tlearn: 0.3563769\ttotal: 2.87s\tremaining: 11.6s\n",
      "198:\tlearn: 0.3562399\ttotal: 2.89s\tremaining: 11.6s\n",
      "199:\tlearn: 0.3560947\ttotal: 2.9s\tremaining: 11.6s\n",
      "200:\tlearn: 0.3558402\ttotal: 2.91s\tremaining: 11.6s\n",
      "201:\tlearn: 0.3557583\ttotal: 2.93s\tremaining: 11.6s\n",
      "202:\tlearn: 0.3556222\ttotal: 2.94s\tremaining: 11.6s\n",
      "203:\tlearn: 0.3555363\ttotal: 2.96s\tremaining: 11.5s\n",
      "204:\tlearn: 0.3553576\ttotal: 2.97s\tremaining: 11.5s\n",
      "205:\tlearn: 0.3553335\ttotal: 2.98s\tremaining: 11.5s\n",
      "206:\tlearn: 0.3552174\ttotal: 2.99s\tremaining: 11.5s\n",
      "207:\tlearn: 0.3551056\ttotal: 3.01s\tremaining: 11.4s\n",
      "208:\tlearn: 0.3549880\ttotal: 3.02s\tremaining: 11.4s\n",
      "209:\tlearn: 0.3548468\ttotal: 3.04s\tremaining: 11.4s\n",
      "210:\tlearn: 0.3547444\ttotal: 3.06s\tremaining: 11.5s\n",
      "211:\tlearn: 0.3546378\ttotal: 3.08s\tremaining: 11.4s\n",
      "212:\tlearn: 0.3545448\ttotal: 3.09s\tremaining: 11.4s\n",
      "213:\tlearn: 0.3544392\ttotal: 3.11s\tremaining: 11.4s\n",
      "214:\tlearn: 0.3543008\ttotal: 3.12s\tremaining: 11.4s\n",
      "215:\tlearn: 0.3541510\ttotal: 3.14s\tremaining: 11.4s\n",
      "216:\tlearn: 0.3539948\ttotal: 3.15s\tremaining: 11.4s\n",
      "217:\tlearn: 0.3538722\ttotal: 3.17s\tremaining: 11.4s\n",
      "218:\tlearn: 0.3537200\ttotal: 3.18s\tremaining: 11.3s\n",
      "219:\tlearn: 0.3535692\ttotal: 3.2s\tremaining: 11.3s\n",
      "220:\tlearn: 0.3534527\ttotal: 3.21s\tremaining: 11.3s\n",
      "221:\tlearn: 0.3533168\ttotal: 3.22s\tremaining: 11.3s\n",
      "222:\tlearn: 0.3531891\ttotal: 3.24s\tremaining: 11.3s\n",
      "223:\tlearn: 0.3530608\ttotal: 3.25s\tremaining: 11.3s\n",
      "224:\tlearn: 0.3529323\ttotal: 3.27s\tremaining: 11.3s\n",
      "225:\tlearn: 0.3527984\ttotal: 3.29s\tremaining: 11.3s\n",
      "226:\tlearn: 0.3526465\ttotal: 3.3s\tremaining: 11.3s\n",
      "227:\tlearn: 0.3525241\ttotal: 3.32s\tremaining: 11.2s\n",
      "228:\tlearn: 0.3523835\ttotal: 3.33s\tremaining: 11.2s\n",
      "229:\tlearn: 0.3522640\ttotal: 3.35s\tremaining: 11.2s\n",
      "230:\tlearn: 0.3521541\ttotal: 3.36s\tremaining: 11.2s\n",
      "231:\tlearn: 0.3520324\ttotal: 3.37s\tremaining: 11.2s\n",
      "232:\tlearn: 0.3519102\ttotal: 3.39s\tremaining: 11.2s\n",
      "233:\tlearn: 0.3517923\ttotal: 3.42s\tremaining: 11.2s\n",
      "234:\tlearn: 0.3516587\ttotal: 3.44s\tremaining: 11.2s\n",
      "235:\tlearn: 0.3514976\ttotal: 3.46s\tremaining: 11.2s\n",
      "236:\tlearn: 0.3513603\ttotal: 3.48s\tremaining: 11.2s\n",
      "237:\tlearn: 0.3511923\ttotal: 3.5s\tremaining: 11.2s\n",
      "238:\tlearn: 0.3510580\ttotal: 3.53s\tremaining: 11.3s\n",
      "239:\tlearn: 0.3509719\ttotal: 3.55s\tremaining: 11.2s\n",
      "240:\tlearn: 0.3508810\ttotal: 3.56s\tremaining: 11.2s\n",
      "241:\tlearn: 0.3507584\ttotal: 3.58s\tremaining: 11.2s\n",
      "242:\tlearn: 0.3506483\ttotal: 3.59s\tremaining: 11.2s\n",
      "243:\tlearn: 0.3505047\ttotal: 3.6s\tremaining: 11.2s\n",
      "244:\tlearn: 0.3503935\ttotal: 3.62s\tremaining: 11.1s\n",
      "245:\tlearn: 0.3502576\ttotal: 3.63s\tremaining: 11.1s\n",
      "246:\tlearn: 0.3501633\ttotal: 3.64s\tremaining: 11.1s\n",
      "247:\tlearn: 0.3500708\ttotal: 3.66s\tremaining: 11.1s\n",
      "248:\tlearn: 0.3499724\ttotal: 3.67s\tremaining: 11.1s\n",
      "249:\tlearn: 0.3498549\ttotal: 3.68s\tremaining: 11.1s\n",
      "250:\tlearn: 0.3497554\ttotal: 3.7s\tremaining: 11s\n",
      "251:\tlearn: 0.3495817\ttotal: 3.71s\tremaining: 11s\n",
      "252:\tlearn: 0.3494646\ttotal: 3.73s\tremaining: 11s\n",
      "253:\tlearn: 0.3493461\ttotal: 3.74s\tremaining: 11s\n",
      "254:\tlearn: 0.3492376\ttotal: 3.76s\tremaining: 11s\n",
      "255:\tlearn: 0.3491396\ttotal: 3.77s\tremaining: 11s\n",
      "256:\tlearn: 0.3489815\ttotal: 3.79s\tremaining: 11s\n",
      "257:\tlearn: 0.3488800\ttotal: 3.8s\tremaining: 10.9s\n",
      "258:\tlearn: 0.3487735\ttotal: 3.81s\tremaining: 10.9s\n",
      "259:\tlearn: 0.3486591\ttotal: 3.83s\tremaining: 10.9s\n",
      "260:\tlearn: 0.3485427\ttotal: 3.84s\tremaining: 10.9s\n",
      "261:\tlearn: 0.3484084\ttotal: 3.85s\tremaining: 10.9s\n",
      "262:\tlearn: 0.3483002\ttotal: 3.87s\tremaining: 10.8s\n",
      "263:\tlearn: 0.3481817\ttotal: 3.88s\tremaining: 10.8s\n",
      "264:\tlearn: 0.3480501\ttotal: 3.89s\tremaining: 10.8s\n",
      "265:\tlearn: 0.3479710\ttotal: 3.9s\tremaining: 10.8s\n",
      "266:\tlearn: 0.3478059\ttotal: 3.92s\tremaining: 10.8s\n",
      "267:\tlearn: 0.3476992\ttotal: 3.93s\tremaining: 10.7s\n",
      "268:\tlearn: 0.3475776\ttotal: 3.94s\tremaining: 10.7s\n",
      "269:\tlearn: 0.3474738\ttotal: 3.96s\tremaining: 10.7s\n",
      "270:\tlearn: 0.3473530\ttotal: 3.97s\tremaining: 10.7s\n",
      "271:\tlearn: 0.3472463\ttotal: 3.99s\tremaining: 10.7s\n",
      "272:\tlearn: 0.3471090\ttotal: 4s\tremaining: 10.7s\n",
      "273:\tlearn: 0.3469736\ttotal: 4.01s\tremaining: 10.6s\n",
      "274:\tlearn: 0.3468215\ttotal: 4.03s\tremaining: 10.6s\n",
      "275:\tlearn: 0.3466935\ttotal: 4.04s\tremaining: 10.6s\n",
      "276:\tlearn: 0.3465598\ttotal: 4.07s\tremaining: 10.6s\n",
      "277:\tlearn: 0.3464306\ttotal: 4.08s\tremaining: 10.6s\n",
      "278:\tlearn: 0.3462797\ttotal: 4.09s\tremaining: 10.6s\n",
      "279:\tlearn: 0.3461356\ttotal: 4.11s\tremaining: 10.6s\n",
      "280:\tlearn: 0.3459881\ttotal: 4.12s\tremaining: 10.5s\n",
      "281:\tlearn: 0.3457682\ttotal: 4.13s\tremaining: 10.5s\n",
      "282:\tlearn: 0.3456594\ttotal: 4.15s\tremaining: 10.5s\n",
      "283:\tlearn: 0.3455448\ttotal: 4.16s\tremaining: 10.5s\n",
      "284:\tlearn: 0.3453944\ttotal: 4.18s\tremaining: 10.5s\n",
      "285:\tlearn: 0.3452660\ttotal: 4.19s\tremaining: 10.5s\n",
      "286:\tlearn: 0.3449698\ttotal: 4.21s\tremaining: 10.5s\n",
      "287:\tlearn: 0.3448466\ttotal: 4.22s\tremaining: 10.4s\n",
      "288:\tlearn: 0.3447357\ttotal: 4.24s\tremaining: 10.4s\n",
      "289:\tlearn: 0.3446229\ttotal: 4.25s\tremaining: 10.4s\n",
      "290:\tlearn: 0.3445001\ttotal: 4.26s\tremaining: 10.4s\n",
      "291:\tlearn: 0.3442998\ttotal: 4.28s\tremaining: 10.4s\n",
      "292:\tlearn: 0.3441854\ttotal: 4.29s\tremaining: 10.3s\n",
      "293:\tlearn: 0.3440477\ttotal: 4.3s\tremaining: 10.3s\n",
      "294:\tlearn: 0.3438837\ttotal: 4.32s\tremaining: 10.3s\n",
      "295:\tlearn: 0.3437313\ttotal: 4.33s\tremaining: 10.3s\n",
      "296:\tlearn: 0.3436169\ttotal: 4.34s\tremaining: 10.3s\n",
      "297:\tlearn: 0.3434391\ttotal: 4.36s\tremaining: 10.3s\n",
      "298:\tlearn: 0.3433051\ttotal: 4.37s\tremaining: 10.3s\n",
      "299:\tlearn: 0.3431693\ttotal: 4.39s\tremaining: 10.2s\n",
      "300:\tlearn: 0.3430588\ttotal: 4.41s\tremaining: 10.2s\n",
      "301:\tlearn: 0.3429227\ttotal: 4.42s\tremaining: 10.2s\n",
      "302:\tlearn: 0.3428250\ttotal: 4.43s\tremaining: 10.2s\n",
      "303:\tlearn: 0.3426978\ttotal: 4.45s\tremaining: 10.2s\n",
      "304:\tlearn: 0.3425814\ttotal: 4.46s\tremaining: 10.2s\n",
      "305:\tlearn: 0.3424169\ttotal: 4.47s\tremaining: 10.1s\n",
      "306:\tlearn: 0.3422154\ttotal: 4.49s\tremaining: 10.1s\n",
      "307:\tlearn: 0.3420798\ttotal: 4.5s\tremaining: 10.1s\n",
      "308:\tlearn: 0.3419451\ttotal: 4.51s\tremaining: 10.1s\n",
      "309:\tlearn: 0.3417800\ttotal: 4.53s\tremaining: 10.1s\n",
      "310:\tlearn: 0.3416755\ttotal: 4.54s\tremaining: 10.1s\n",
      "311:\tlearn: 0.3415217\ttotal: 4.55s\tremaining: 10s\n",
      "312:\tlearn: 0.3413666\ttotal: 4.57s\tremaining: 10s\n",
      "313:\tlearn: 0.3412177\ttotal: 4.58s\tremaining: 10s\n",
      "314:\tlearn: 0.3410878\ttotal: 4.6s\tremaining: 10s\n",
      "315:\tlearn: 0.3409592\ttotal: 4.61s\tremaining: 9.98s\n",
      "316:\tlearn: 0.3408029\ttotal: 4.62s\tremaining: 9.96s\n",
      "317:\tlearn: 0.3406750\ttotal: 4.64s\tremaining: 9.95s\n",
      "318:\tlearn: 0.3405293\ttotal: 4.65s\tremaining: 9.93s\n",
      "319:\tlearn: 0.3404155\ttotal: 4.66s\tremaining: 9.91s\n",
      "320:\tlearn: 0.3402808\ttotal: 4.67s\tremaining: 9.89s\n",
      "321:\tlearn: 0.3401629\ttotal: 4.69s\tremaining: 9.87s\n",
      "322:\tlearn: 0.3400372\ttotal: 4.7s\tremaining: 9.85s\n",
      "323:\tlearn: 0.3399358\ttotal: 4.71s\tremaining: 9.84s\n",
      "324:\tlearn: 0.3398144\ttotal: 4.73s\tremaining: 9.82s\n",
      "325:\tlearn: 0.3397196\ttotal: 4.74s\tremaining: 9.8s\n",
      "326:\tlearn: 0.3396194\ttotal: 4.76s\tremaining: 9.79s\n",
      "327:\tlearn: 0.3394851\ttotal: 4.77s\tremaining: 9.77s\n",
      "328:\tlearn: 0.3393724\ttotal: 4.78s\tremaining: 9.76s\n",
      "329:\tlearn: 0.3392268\ttotal: 4.8s\tremaining: 9.74s\n",
      "330:\tlearn: 0.3390925\ttotal: 4.81s\tremaining: 9.73s\n",
      "331:\tlearn: 0.3389371\ttotal: 4.83s\tremaining: 9.71s\n",
      "332:\tlearn: 0.3388204\ttotal: 4.84s\tremaining: 9.69s\n",
      "333:\tlearn: 0.3386753\ttotal: 4.85s\tremaining: 9.68s\n",
      "334:\tlearn: 0.3385820\ttotal: 4.87s\tremaining: 9.67s\n",
      "335:\tlearn: 0.3384615\ttotal: 4.88s\tremaining: 9.65s\n",
      "336:\tlearn: 0.3383508\ttotal: 4.9s\tremaining: 9.64s\n",
      "337:\tlearn: 0.3382090\ttotal: 4.91s\tremaining: 9.62s\n",
      "338:\tlearn: 0.3380749\ttotal: 4.93s\tremaining: 9.62s\n",
      "339:\tlearn: 0.3379613\ttotal: 4.96s\tremaining: 9.63s\n",
      "340:\tlearn: 0.3378483\ttotal: 4.99s\tremaining: 9.64s\n",
      "341:\tlearn: 0.3376879\ttotal: 5.02s\tremaining: 9.65s\n",
      "342:\tlearn: 0.3375368\ttotal: 5.05s\tremaining: 9.68s\n",
      "343:\tlearn: 0.3374198\ttotal: 5.09s\tremaining: 9.7s\n",
      "344:\tlearn: 0.3372965\ttotal: 5.12s\tremaining: 9.72s\n",
      "345:\tlearn: 0.3371727\ttotal: 5.15s\tremaining: 9.73s\n",
      "346:\tlearn: 0.3370428\ttotal: 5.17s\tremaining: 9.72s\n",
      "347:\tlearn: 0.3369375\ttotal: 5.19s\tremaining: 9.72s\n",
      "348:\tlearn: 0.3368237\ttotal: 5.22s\tremaining: 9.74s\n",
      "349:\tlearn: 0.3367107\ttotal: 5.26s\tremaining: 9.76s\n",
      "350:\tlearn: 0.3365628\ttotal: 5.29s\tremaining: 9.78s\n",
      "351:\tlearn: 0.3364392\ttotal: 5.32s\tremaining: 9.8s\n",
      "352:\tlearn: 0.3362870\ttotal: 5.36s\tremaining: 9.82s\n",
      "353:\tlearn: 0.3361601\ttotal: 5.39s\tremaining: 9.83s\n",
      "354:\tlearn: 0.3360067\ttotal: 5.43s\tremaining: 9.87s\n",
      "355:\tlearn: 0.3358503\ttotal: 5.47s\tremaining: 9.89s\n",
      "356:\tlearn: 0.3356930\ttotal: 5.49s\tremaining: 9.88s\n",
      "357:\tlearn: 0.3355764\ttotal: 5.52s\tremaining: 9.9s\n",
      "358:\tlearn: 0.3354053\ttotal: 5.55s\tremaining: 9.92s\n",
      "359:\tlearn: 0.3352708\ttotal: 5.59s\tremaining: 9.94s\n",
      "360:\tlearn: 0.3351532\ttotal: 5.63s\tremaining: 9.96s\n",
      "361:\tlearn: 0.3349966\ttotal: 5.67s\tremaining: 9.98s\n",
      "362:\tlearn: 0.3349164\ttotal: 5.7s\tremaining: 10s\n",
      "363:\tlearn: 0.3347469\ttotal: 5.73s\tremaining: 10s\n",
      "364:\tlearn: 0.3346002\ttotal: 5.77s\tremaining: 10s\n",
      "365:\tlearn: 0.3344434\ttotal: 5.8s\tremaining: 10.1s\n",
      "366:\tlearn: 0.3343024\ttotal: 5.84s\tremaining: 10.1s\n",
      "367:\tlearn: 0.3341604\ttotal: 5.88s\tremaining: 10.1s\n",
      "368:\tlearn: 0.3340349\ttotal: 5.91s\tremaining: 10.1s\n",
      "369:\tlearn: 0.3339123\ttotal: 5.95s\tremaining: 10.1s\n",
      "370:\tlearn: 0.3337483\ttotal: 5.98s\tremaining: 10.1s\n",
      "371:\tlearn: 0.3336143\ttotal: 6s\tremaining: 10.1s\n",
      "372:\tlearn: 0.3335147\ttotal: 6.03s\tremaining: 10.1s\n",
      "373:\tlearn: 0.3333859\ttotal: 6.07s\tremaining: 10.2s\n",
      "374:\tlearn: 0.3332758\ttotal: 6.09s\tremaining: 10.2s\n",
      "375:\tlearn: 0.3331510\ttotal: 6.13s\tremaining: 10.2s\n",
      "376:\tlearn: 0.3328255\ttotal: 6.15s\tremaining: 10.2s\n",
      "377:\tlearn: 0.3327092\ttotal: 6.16s\tremaining: 10.1s\n",
      "378:\tlearn: 0.3325749\ttotal: 6.18s\tremaining: 10.1s\n",
      "379:\tlearn: 0.3324305\ttotal: 6.2s\tremaining: 10.1s\n",
      "380:\tlearn: 0.3322722\ttotal: 6.22s\tremaining: 10.1s\n",
      "381:\tlearn: 0.3321710\ttotal: 6.24s\tremaining: 10.1s\n",
      "382:\tlearn: 0.3319852\ttotal: 6.26s\tremaining: 10.1s\n",
      "383:\tlearn: 0.3319321\ttotal: 6.27s\tremaining: 10.1s\n",
      "384:\tlearn: 0.3318148\ttotal: 6.29s\tremaining: 10s\n",
      "385:\tlearn: 0.3316526\ttotal: 6.32s\tremaining: 10.1s\n",
      "386:\tlearn: 0.3315356\ttotal: 6.35s\tremaining: 10.1s\n",
      "387:\tlearn: 0.3314376\ttotal: 6.39s\tremaining: 10.1s\n",
      "388:\tlearn: 0.3313431\ttotal: 6.42s\tremaining: 10.1s\n",
      "389:\tlearn: 0.3312119\ttotal: 6.45s\tremaining: 10.1s\n",
      "390:\tlearn: 0.3308931\ttotal: 6.48s\tremaining: 10.1s\n",
      "391:\tlearn: 0.3307869\ttotal: 6.52s\tremaining: 10.1s\n",
      "392:\tlearn: 0.3306176\ttotal: 6.55s\tremaining: 10.1s\n",
      "393:\tlearn: 0.3305290\ttotal: 6.59s\tremaining: 10.1s\n",
      "394:\tlearn: 0.3304461\ttotal: 6.62s\tremaining: 10.1s\n",
      "395:\tlearn: 0.3303374\ttotal: 6.64s\tremaining: 10.1s\n",
      "396:\tlearn: 0.3302445\ttotal: 6.67s\tremaining: 10.1s\n",
      "397:\tlearn: 0.3299399\ttotal: 6.71s\tremaining: 10.1s\n",
      "398:\tlearn: 0.3298008\ttotal: 6.74s\tremaining: 10.2s\n",
      "399:\tlearn: 0.3296842\ttotal: 6.78s\tremaining: 10.2s\n",
      "400:\tlearn: 0.3295422\ttotal: 6.81s\tremaining: 10.2s\n",
      "401:\tlearn: 0.3294302\ttotal: 6.85s\tremaining: 10.2s\n",
      "402:\tlearn: 0.3293213\ttotal: 6.88s\tremaining: 10.2s\n",
      "403:\tlearn: 0.3291844\ttotal: 6.91s\tremaining: 10.2s\n",
      "404:\tlearn: 0.3290402\ttotal: 6.96s\tremaining: 10.2s\n",
      "405:\tlearn: 0.3289057\ttotal: 6.99s\tremaining: 10.2s\n",
      "406:\tlearn: 0.3287920\ttotal: 7.01s\tremaining: 10.2s\n",
      "407:\tlearn: 0.3286308\ttotal: 7.05s\tremaining: 10.2s\n",
      "408:\tlearn: 0.3284769\ttotal: 7.08s\tremaining: 10.2s\n",
      "409:\tlearn: 0.3283431\ttotal: 7.12s\tremaining: 10.2s\n",
      "410:\tlearn: 0.3282313\ttotal: 7.16s\tremaining: 10.3s\n",
      "411:\tlearn: 0.3280751\ttotal: 7.19s\tremaining: 10.3s\n",
      "412:\tlearn: 0.3279361\ttotal: 7.23s\tremaining: 10.3s\n",
      "413:\tlearn: 0.3278017\ttotal: 7.26s\tremaining: 10.3s\n",
      "414:\tlearn: 0.3277187\ttotal: 7.28s\tremaining: 10.3s\n",
      "415:\tlearn: 0.3275998\ttotal: 7.3s\tremaining: 10.2s\n",
      "416:\tlearn: 0.3274901\ttotal: 7.32s\tremaining: 10.2s\n",
      "417:\tlearn: 0.3273529\ttotal: 7.34s\tremaining: 10.2s\n",
      "418:\tlearn: 0.3272100\ttotal: 7.36s\tremaining: 10.2s\n",
      "419:\tlearn: 0.3270516\ttotal: 7.38s\tremaining: 10.2s\n",
      "420:\tlearn: 0.3269521\ttotal: 7.39s\tremaining: 10.2s\n",
      "421:\tlearn: 0.3268244\ttotal: 7.41s\tremaining: 10.1s\n",
      "422:\tlearn: 0.3267272\ttotal: 7.42s\tremaining: 10.1s\n",
      "423:\tlearn: 0.3265643\ttotal: 7.44s\tremaining: 10.1s\n",
      "424:\tlearn: 0.3264061\ttotal: 7.46s\tremaining: 10.1s\n",
      "425:\tlearn: 0.3263558\ttotal: 7.48s\tremaining: 10.1s\n",
      "426:\tlearn: 0.3262186\ttotal: 7.5s\tremaining: 10.1s\n",
      "427:\tlearn: 0.3261190\ttotal: 7.53s\tremaining: 10.1s\n",
      "428:\tlearn: 0.3260157\ttotal: 7.55s\tremaining: 10.1s\n",
      "429:\tlearn: 0.3258540\ttotal: 7.58s\tremaining: 10s\n",
      "430:\tlearn: 0.3257386\ttotal: 7.62s\tremaining: 10.1s\n",
      "431:\tlearn: 0.3256324\ttotal: 7.65s\tremaining: 10.1s\n",
      "432:\tlearn: 0.3255255\ttotal: 7.69s\tremaining: 10.1s\n",
      "433:\tlearn: 0.3254071\ttotal: 7.72s\tremaining: 10.1s\n",
      "434:\tlearn: 0.3252879\ttotal: 7.77s\tremaining: 10.1s\n",
      "435:\tlearn: 0.3251448\ttotal: 7.81s\tremaining: 10.1s\n",
      "436:\tlearn: 0.3249931\ttotal: 7.84s\tremaining: 10.1s\n",
      "437:\tlearn: 0.3248181\ttotal: 7.88s\tremaining: 10.1s\n",
      "438:\tlearn: 0.3247210\ttotal: 7.9s\tremaining: 10.1s\n",
      "439:\tlearn: 0.3245839\ttotal: 7.92s\tremaining: 10.1s\n",
      "440:\tlearn: 0.3244607\ttotal: 7.94s\tremaining: 10.1s\n",
      "441:\tlearn: 0.3243426\ttotal: 7.96s\tremaining: 10s\n",
      "442:\tlearn: 0.3242173\ttotal: 7.98s\tremaining: 10s\n",
      "443:\tlearn: 0.3241099\ttotal: 8s\tremaining: 10s\n",
      "444:\tlearn: 0.3240281\ttotal: 8.01s\tremaining: 9.99s\n",
      "445:\tlearn: 0.3239206\ttotal: 8.03s\tremaining: 9.97s\n",
      "446:\tlearn: 0.3238196\ttotal: 8.06s\tremaining: 9.97s\n",
      "447:\tlearn: 0.3236929\ttotal: 8.08s\tremaining: 9.96s\n",
      "448:\tlearn: 0.3233942\ttotal: 8.11s\tremaining: 9.96s\n",
      "449:\tlearn: 0.3232616\ttotal: 8.15s\tremaining: 9.96s\n",
      "450:\tlearn: 0.3231531\ttotal: 8.19s\tremaining: 9.97s\n",
      "451:\tlearn: 0.3230579\ttotal: 8.22s\tremaining: 9.97s\n",
      "452:\tlearn: 0.3229526\ttotal: 8.25s\tremaining: 9.96s\n",
      "453:\tlearn: 0.3228855\ttotal: 8.28s\tremaining: 9.96s\n",
      "454:\tlearn: 0.3227869\ttotal: 8.31s\tremaining: 9.96s\n",
      "455:\tlearn: 0.3226576\ttotal: 8.35s\tremaining: 9.96s\n",
      "456:\tlearn: 0.3225395\ttotal: 8.38s\tremaining: 9.96s\n",
      "457:\tlearn: 0.3223707\ttotal: 8.41s\tremaining: 9.96s\n",
      "458:\tlearn: 0.3222592\ttotal: 8.43s\tremaining: 9.94s\n",
      "459:\tlearn: 0.3221336\ttotal: 8.45s\tremaining: 9.92s\n",
      "460:\tlearn: 0.3220251\ttotal: 8.48s\tremaining: 9.91s\n",
      "461:\tlearn: 0.3218941\ttotal: 8.51s\tremaining: 9.91s\n",
      "462:\tlearn: 0.3217074\ttotal: 8.54s\tremaining: 9.91s\n",
      "463:\tlearn: 0.3215976\ttotal: 8.56s\tremaining: 9.89s\n",
      "464:\tlearn: 0.3214140\ttotal: 8.6s\tremaining: 9.89s\n",
      "465:\tlearn: 0.3212979\ttotal: 8.62s\tremaining: 9.88s\n",
      "466:\tlearn: 0.3211393\ttotal: 8.65s\tremaining: 9.87s\n",
      "467:\tlearn: 0.3210215\ttotal: 8.68s\tremaining: 9.87s\n",
      "468:\tlearn: 0.3208750\ttotal: 8.71s\tremaining: 9.86s\n",
      "469:\tlearn: 0.3207754\ttotal: 8.74s\tremaining: 9.86s\n",
      "470:\tlearn: 0.3206453\ttotal: 8.77s\tremaining: 9.85s\n",
      "471:\tlearn: 0.3205556\ttotal: 8.81s\tremaining: 9.85s\n",
      "472:\tlearn: 0.3204361\ttotal: 8.84s\tremaining: 9.85s\n",
      "473:\tlearn: 0.3203152\ttotal: 8.87s\tremaining: 9.84s\n",
      "474:\tlearn: 0.3202049\ttotal: 8.91s\tremaining: 9.84s\n",
      "475:\tlearn: 0.3200484\ttotal: 8.94s\tremaining: 9.84s\n",
      "476:\tlearn: 0.3198945\ttotal: 8.97s\tremaining: 9.83s\n",
      "477:\tlearn: 0.3197947\ttotal: 9s\tremaining: 9.82s\n",
      "478:\tlearn: 0.3196399\ttotal: 9.03s\tremaining: 9.82s\n",
      "479:\tlearn: 0.3195649\ttotal: 9.05s\tremaining: 9.81s\n",
      "480:\tlearn: 0.3194326\ttotal: 9.08s\tremaining: 9.8s\n",
      "481:\tlearn: 0.3193205\ttotal: 9.12s\tremaining: 9.8s\n",
      "482:\tlearn: 0.3191856\ttotal: 9.16s\tremaining: 9.8s\n",
      "483:\tlearn: 0.3191019\ttotal: 9.2s\tremaining: 9.8s\n",
      "484:\tlearn: 0.3190161\ttotal: 9.23s\tremaining: 9.8s\n",
      "485:\tlearn: 0.3189123\ttotal: 9.27s\tremaining: 9.8s\n",
      "486:\tlearn: 0.3187874\ttotal: 9.3s\tremaining: 9.8s\n",
      "487:\tlearn: 0.3186844\ttotal: 9.33s\tremaining: 9.79s\n",
      "488:\tlearn: 0.3185714\ttotal: 9.36s\tremaining: 9.78s\n",
      "489:\tlearn: 0.3184790\ttotal: 9.4s\tremaining: 9.78s\n",
      "490:\tlearn: 0.3183394\ttotal: 9.44s\tremaining: 9.79s\n",
      "491:\tlearn: 0.3182127\ttotal: 9.48s\tremaining: 9.79s\n",
      "492:\tlearn: 0.3180659\ttotal: 9.52s\tremaining: 9.79s\n",
      "493:\tlearn: 0.3179468\ttotal: 9.54s\tremaining: 9.78s\n",
      "494:\tlearn: 0.3178249\ttotal: 9.56s\tremaining: 9.76s\n",
      "495:\tlearn: 0.3177278\ttotal: 9.58s\tremaining: 9.73s\n",
      "496:\tlearn: 0.3175866\ttotal: 9.6s\tremaining: 9.71s\n",
      "497:\tlearn: 0.3174701\ttotal: 9.62s\tremaining: 9.69s\n",
      "498:\tlearn: 0.3173533\ttotal: 9.63s\tremaining: 9.67s\n",
      "499:\tlearn: 0.3171839\ttotal: 9.66s\tremaining: 9.66s\n",
      "500:\tlearn: 0.3170752\ttotal: 9.68s\tremaining: 9.64s\n",
      "501:\tlearn: 0.3169532\ttotal: 9.7s\tremaining: 9.62s\n",
      "502:\tlearn: 0.3168027\ttotal: 9.71s\tremaining: 9.6s\n",
      "503:\tlearn: 0.3167134\ttotal: 9.73s\tremaining: 9.58s\n",
      "504:\tlearn: 0.3165747\ttotal: 9.77s\tremaining: 9.57s\n",
      "505:\tlearn: 0.3164357\ttotal: 9.8s\tremaining: 9.56s\n",
      "506:\tlearn: 0.3163351\ttotal: 9.83s\tremaining: 9.56s\n",
      "507:\tlearn: 0.3162013\ttotal: 9.87s\tremaining: 9.56s\n",
      "508:\tlearn: 0.3161244\ttotal: 9.9s\tremaining: 9.55s\n",
      "509:\tlearn: 0.3160455\ttotal: 9.93s\tremaining: 9.54s\n",
      "510:\tlearn: 0.3158867\ttotal: 9.96s\tremaining: 9.53s\n",
      "511:\tlearn: 0.3157568\ttotal: 9.99s\tremaining: 9.52s\n",
      "512:\tlearn: 0.3156538\ttotal: 10s\tremaining: 9.52s\n",
      "513:\tlearn: 0.3155543\ttotal: 10.1s\tremaining: 9.51s\n",
      "514:\tlearn: 0.3154566\ttotal: 10.1s\tremaining: 9.5s\n",
      "515:\tlearn: 0.3153821\ttotal: 10.1s\tremaining: 9.49s\n",
      "516:\tlearn: 0.3152457\ttotal: 10.2s\tremaining: 9.48s\n",
      "517:\tlearn: 0.3151033\ttotal: 10.2s\tremaining: 9.48s\n",
      "518:\tlearn: 0.3150228\ttotal: 10.2s\tremaining: 9.48s\n",
      "519:\tlearn: 0.3149028\ttotal: 10.3s\tremaining: 9.47s\n",
      "520:\tlearn: 0.3148008\ttotal: 10.3s\tremaining: 9.47s\n",
      "521:\tlearn: 0.3146872\ttotal: 10.3s\tremaining: 9.45s\n",
      "522:\tlearn: 0.3145770\ttotal: 10.3s\tremaining: 9.43s\n",
      "523:\tlearn: 0.3144993\ttotal: 10.4s\tremaining: 9.4s\n",
      "524:\tlearn: 0.3143401\ttotal: 10.4s\tremaining: 9.38s\n",
      "525:\tlearn: 0.3142159\ttotal: 10.4s\tremaining: 9.38s\n",
      "526:\tlearn: 0.3141188\ttotal: 10.4s\tremaining: 9.36s\n",
      "527:\tlearn: 0.3140043\ttotal: 10.4s\tremaining: 9.34s\n",
      "528:\tlearn: 0.3139017\ttotal: 10.5s\tremaining: 9.33s\n",
      "529:\tlearn: 0.3137504\ttotal: 10.5s\tremaining: 9.32s\n",
      "530:\tlearn: 0.3136356\ttotal: 10.5s\tremaining: 9.31s\n",
      "531:\tlearn: 0.3135201\ttotal: 10.6s\tremaining: 9.3s\n",
      "532:\tlearn: 0.3134215\ttotal: 10.6s\tremaining: 9.29s\n",
      "533:\tlearn: 0.3133172\ttotal: 10.6s\tremaining: 9.28s\n",
      "534:\tlearn: 0.3132048\ttotal: 10.7s\tremaining: 9.27s\n",
      "535:\tlearn: 0.3130778\ttotal: 10.7s\tremaining: 9.26s\n",
      "536:\tlearn: 0.3129344\ttotal: 10.7s\tremaining: 9.25s\n",
      "537:\tlearn: 0.3128380\ttotal: 10.8s\tremaining: 9.24s\n",
      "538:\tlearn: 0.3127289\ttotal: 10.8s\tremaining: 9.23s\n",
      "539:\tlearn: 0.3126001\ttotal: 10.8s\tremaining: 9.21s\n",
      "540:\tlearn: 0.3124908\ttotal: 10.9s\tremaining: 9.21s\n",
      "541:\tlearn: 0.3123989\ttotal: 10.9s\tremaining: 9.2s\n",
      "542:\tlearn: 0.3122354\ttotal: 10.9s\tremaining: 9.18s\n",
      "543:\tlearn: 0.3121394\ttotal: 11s\tremaining: 9.18s\n",
      "544:\tlearn: 0.3120394\ttotal: 11s\tremaining: 9.17s\n",
      "545:\tlearn: 0.3119258\ttotal: 11s\tremaining: 9.16s\n",
      "546:\tlearn: 0.3118295\ttotal: 11s\tremaining: 9.14s\n",
      "547:\tlearn: 0.3117458\ttotal: 11.1s\tremaining: 9.12s\n",
      "548:\tlearn: 0.3115797\ttotal: 11.1s\tremaining: 9.1s\n",
      "549:\tlearn: 0.3114790\ttotal: 11.1s\tremaining: 9.07s\n",
      "550:\tlearn: 0.3113824\ttotal: 11.1s\tremaining: 9.05s\n",
      "551:\tlearn: 0.3112283\ttotal: 11.1s\tremaining: 9.05s\n",
      "552:\tlearn: 0.3111077\ttotal: 11.2s\tremaining: 9.04s\n",
      "553:\tlearn: 0.3109868\ttotal: 11.2s\tremaining: 9.02s\n",
      "554:\tlearn: 0.3107192\ttotal: 11.2s\tremaining: 9s\n",
      "555:\tlearn: 0.3106257\ttotal: 11.2s\tremaining: 8.98s\n",
      "556:\tlearn: 0.3105302\ttotal: 11.3s\tremaining: 8.96s\n",
      "557:\tlearn: 0.3104327\ttotal: 11.3s\tremaining: 8.94s\n",
      "558:\tlearn: 0.3103180\ttotal: 11.3s\tremaining: 8.92s\n",
      "559:\tlearn: 0.3102313\ttotal: 11.3s\tremaining: 8.89s\n",
      "560:\tlearn: 0.3101184\ttotal: 11.3s\tremaining: 8.87s\n",
      "561:\tlearn: 0.3099364\ttotal: 11.3s\tremaining: 8.84s\n",
      "562:\tlearn: 0.3098151\ttotal: 11.4s\tremaining: 8.81s\n",
      "563:\tlearn: 0.3097383\ttotal: 11.4s\tremaining: 8.79s\n",
      "564:\tlearn: 0.3096167\ttotal: 11.4s\tremaining: 8.77s\n",
      "565:\tlearn: 0.3094685\ttotal: 11.4s\tremaining: 8.74s\n",
      "566:\tlearn: 0.3093469\ttotal: 11.4s\tremaining: 8.72s\n",
      "567:\tlearn: 0.3092633\ttotal: 11.4s\tremaining: 8.69s\n",
      "568:\tlearn: 0.3091373\ttotal: 11.4s\tremaining: 8.66s\n",
      "569:\tlearn: 0.3090282\ttotal: 11.5s\tremaining: 8.64s\n",
      "570:\tlearn: 0.3088794\ttotal: 11.5s\tremaining: 8.61s\n",
      "571:\tlearn: 0.3087379\ttotal: 11.5s\tremaining: 8.59s\n",
      "572:\tlearn: 0.3084630\ttotal: 11.5s\tremaining: 8.56s\n",
      "573:\tlearn: 0.3083786\ttotal: 11.5s\tremaining: 8.54s\n",
      "574:\tlearn: 0.3082256\ttotal: 11.5s\tremaining: 8.52s\n",
      "575:\tlearn: 0.3081009\ttotal: 11.5s\tremaining: 8.49s\n",
      "576:\tlearn: 0.3079905\ttotal: 11.5s\tremaining: 8.46s\n",
      "577:\tlearn: 0.3079114\ttotal: 11.6s\tremaining: 8.44s\n",
      "578:\tlearn: 0.3078146\ttotal: 11.6s\tremaining: 8.41s\n",
      "579:\tlearn: 0.3077179\ttotal: 11.6s\tremaining: 8.39s\n",
      "580:\tlearn: 0.3076211\ttotal: 11.6s\tremaining: 8.37s\n",
      "581:\tlearn: 0.3075686\ttotal: 11.6s\tremaining: 8.35s\n",
      "582:\tlearn: 0.3074592\ttotal: 11.7s\tremaining: 8.33s\n",
      "583:\tlearn: 0.3073522\ttotal: 11.7s\tremaining: 8.31s\n",
      "584:\tlearn: 0.3071906\ttotal: 11.7s\tremaining: 8.28s\n",
      "585:\tlearn: 0.3070387\ttotal: 11.7s\tremaining: 8.26s\n",
      "586:\tlearn: 0.3069122\ttotal: 11.7s\tremaining: 8.24s\n",
      "587:\tlearn: 0.3067803\ttotal: 11.7s\tremaining: 8.21s\n",
      "588:\tlearn: 0.3066583\ttotal: 11.7s\tremaining: 8.19s\n",
      "589:\tlearn: 0.3065393\ttotal: 11.7s\tremaining: 8.16s\n",
      "590:\tlearn: 0.3064114\ttotal: 11.8s\tremaining: 8.14s\n",
      "591:\tlearn: 0.3063552\ttotal: 11.8s\tremaining: 8.11s\n",
      "592:\tlearn: 0.3062095\ttotal: 11.8s\tremaining: 8.09s\n",
      "593:\tlearn: 0.3060937\ttotal: 11.8s\tremaining: 8.07s\n",
      "594:\tlearn: 0.3059472\ttotal: 11.8s\tremaining: 8.04s\n",
      "595:\tlearn: 0.3058726\ttotal: 11.8s\tremaining: 8.02s\n",
      "596:\tlearn: 0.3057736\ttotal: 11.8s\tremaining: 8s\n",
      "597:\tlearn: 0.3056773\ttotal: 11.9s\tremaining: 7.97s\n",
      "598:\tlearn: 0.3055497\ttotal: 11.9s\tremaining: 7.95s\n",
      "599:\tlearn: 0.3054774\ttotal: 11.9s\tremaining: 7.92s\n",
      "600:\tlearn: 0.3053533\ttotal: 11.9s\tremaining: 7.9s\n",
      "601:\tlearn: 0.3052464\ttotal: 11.9s\tremaining: 7.87s\n",
      "602:\tlearn: 0.3051543\ttotal: 11.9s\tremaining: 7.85s\n",
      "603:\tlearn: 0.3050562\ttotal: 11.9s\tremaining: 7.83s\n",
      "604:\tlearn: 0.3049295\ttotal: 11.9s\tremaining: 7.8s\n",
      "605:\tlearn: 0.3048062\ttotal: 12s\tremaining: 7.78s\n",
      "606:\tlearn: 0.3046884\ttotal: 12s\tremaining: 7.75s\n",
      "607:\tlearn: 0.3045878\ttotal: 12s\tremaining: 7.73s\n",
      "608:\tlearn: 0.3044615\ttotal: 12s\tremaining: 7.71s\n",
      "609:\tlearn: 0.3043965\ttotal: 12s\tremaining: 7.69s\n",
      "610:\tlearn: 0.3043308\ttotal: 12s\tremaining: 7.66s\n",
      "611:\tlearn: 0.3042043\ttotal: 12s\tremaining: 7.64s\n",
      "612:\tlearn: 0.3040633\ttotal: 12.1s\tremaining: 7.62s\n",
      "613:\tlearn: 0.3039387\ttotal: 12.1s\tremaining: 7.59s\n",
      "614:\tlearn: 0.3037801\ttotal: 12.1s\tremaining: 7.57s\n",
      "615:\tlearn: 0.3037069\ttotal: 12.1s\tremaining: 7.54s\n",
      "616:\tlearn: 0.3035919\ttotal: 12.1s\tremaining: 7.52s\n",
      "617:\tlearn: 0.3034725\ttotal: 12.1s\tremaining: 7.5s\n",
      "618:\tlearn: 0.3033996\ttotal: 12.1s\tremaining: 7.47s\n",
      "619:\tlearn: 0.3033246\ttotal: 12.2s\tremaining: 7.45s\n",
      "620:\tlearn: 0.3032196\ttotal: 12.2s\tremaining: 7.42s\n",
      "621:\tlearn: 0.3030648\ttotal: 12.2s\tremaining: 7.4s\n",
      "622:\tlearn: 0.3029663\ttotal: 12.2s\tremaining: 7.38s\n",
      "623:\tlearn: 0.3028772\ttotal: 12.2s\tremaining: 7.36s\n",
      "624:\tlearn: 0.3027846\ttotal: 12.2s\tremaining: 7.33s\n",
      "625:\tlearn: 0.3026798\ttotal: 12.2s\tremaining: 7.31s\n",
      "626:\tlearn: 0.3025909\ttotal: 12.2s\tremaining: 7.29s\n",
      "627:\tlearn: 0.3023547\ttotal: 12.3s\tremaining: 7.26s\n",
      "628:\tlearn: 0.3023147\ttotal: 12.3s\tremaining: 7.24s\n",
      "629:\tlearn: 0.3022541\ttotal: 12.3s\tremaining: 7.23s\n",
      "630:\tlearn: 0.3021401\ttotal: 12.3s\tremaining: 7.21s\n",
      "631:\tlearn: 0.3020490\ttotal: 12.3s\tremaining: 7.18s\n",
      "632:\tlearn: 0.3019615\ttotal: 12.3s\tremaining: 7.16s\n",
      "633:\tlearn: 0.3018405\ttotal: 12.4s\tremaining: 7.13s\n",
      "634:\tlearn: 0.3017177\ttotal: 12.4s\tremaining: 7.11s\n",
      "635:\tlearn: 0.3016522\ttotal: 12.4s\tremaining: 7.09s\n",
      "636:\tlearn: 0.3015247\ttotal: 12.4s\tremaining: 7.07s\n",
      "637:\tlearn: 0.3014284\ttotal: 12.4s\tremaining: 7.04s\n",
      "638:\tlearn: 0.3013296\ttotal: 12.4s\tremaining: 7.02s\n",
      "639:\tlearn: 0.3012448\ttotal: 12.4s\tremaining: 7s\n",
      "640:\tlearn: 0.3011430\ttotal: 12.5s\tremaining: 6.97s\n",
      "641:\tlearn: 0.3010127\ttotal: 12.5s\tremaining: 6.95s\n",
      "642:\tlearn: 0.3009161\ttotal: 12.5s\tremaining: 6.93s\n",
      "643:\tlearn: 0.3008196\ttotal: 12.5s\tremaining: 6.91s\n",
      "644:\tlearn: 0.3006879\ttotal: 12.5s\tremaining: 6.88s\n",
      "645:\tlearn: 0.3004617\ttotal: 12.5s\tremaining: 6.86s\n",
      "646:\tlearn: 0.3003530\ttotal: 12.5s\tremaining: 6.84s\n",
      "647:\tlearn: 0.3002483\ttotal: 12.5s\tremaining: 6.82s\n",
      "648:\tlearn: 0.3001465\ttotal: 12.6s\tremaining: 6.79s\n",
      "649:\tlearn: 0.3000275\ttotal: 12.6s\tremaining: 6.77s\n",
      "650:\tlearn: 0.2999157\ttotal: 12.6s\tremaining: 6.75s\n",
      "651:\tlearn: 0.2998217\ttotal: 12.6s\tremaining: 6.72s\n",
      "652:\tlearn: 0.2997295\ttotal: 12.6s\tremaining: 6.7s\n",
      "653:\tlearn: 0.2995888\ttotal: 12.6s\tremaining: 6.68s\n",
      "654:\tlearn: 0.2994784\ttotal: 12.6s\tremaining: 6.66s\n",
      "655:\tlearn: 0.2994033\ttotal: 12.7s\tremaining: 6.64s\n",
      "656:\tlearn: 0.2993352\ttotal: 12.7s\tremaining: 6.62s\n",
      "657:\tlearn: 0.2992491\ttotal: 12.7s\tremaining: 6.59s\n",
      "658:\tlearn: 0.2991441\ttotal: 12.7s\tremaining: 6.57s\n",
      "659:\tlearn: 0.2990305\ttotal: 12.7s\tremaining: 6.55s\n",
      "660:\tlearn: 0.2989017\ttotal: 12.7s\tremaining: 6.53s\n",
      "661:\tlearn: 0.2987754\ttotal: 12.7s\tremaining: 6.5s\n",
      "662:\tlearn: 0.2986799\ttotal: 12.8s\tremaining: 6.48s\n",
      "663:\tlearn: 0.2985712\ttotal: 12.8s\tremaining: 6.46s\n",
      "664:\tlearn: 0.2984806\ttotal: 12.8s\tremaining: 6.44s\n",
      "665:\tlearn: 0.2983601\ttotal: 12.8s\tremaining: 6.42s\n",
      "666:\tlearn: 0.2982428\ttotal: 12.8s\tremaining: 6.39s\n",
      "667:\tlearn: 0.2981230\ttotal: 12.8s\tremaining: 6.37s\n",
      "668:\tlearn: 0.2980009\ttotal: 12.8s\tremaining: 6.35s\n",
      "669:\tlearn: 0.2978962\ttotal: 12.8s\tremaining: 6.33s\n",
      "670:\tlearn: 0.2977792\ttotal: 12.9s\tremaining: 6.31s\n",
      "671:\tlearn: 0.2976689\ttotal: 12.9s\tremaining: 6.29s\n",
      "672:\tlearn: 0.2975618\ttotal: 12.9s\tremaining: 6.26s\n",
      "673:\tlearn: 0.2974312\ttotal: 12.9s\tremaining: 6.24s\n",
      "674:\tlearn: 0.2973163\ttotal: 12.9s\tremaining: 6.22s\n",
      "675:\tlearn: 0.2972090\ttotal: 12.9s\tremaining: 6.2s\n",
      "676:\tlearn: 0.2970815\ttotal: 12.9s\tremaining: 6.17s\n",
      "677:\tlearn: 0.2969666\ttotal: 13s\tremaining: 6.15s\n",
      "678:\tlearn: 0.2968587\ttotal: 13s\tremaining: 6.13s\n",
      "679:\tlearn: 0.2967732\ttotal: 13s\tremaining: 6.11s\n",
      "680:\tlearn: 0.2966363\ttotal: 13s\tremaining: 6.09s\n",
      "681:\tlearn: 0.2965140\ttotal: 13s\tremaining: 6.07s\n",
      "682:\tlearn: 0.2964448\ttotal: 13s\tremaining: 6.04s\n",
      "683:\tlearn: 0.2963624\ttotal: 13s\tremaining: 6.02s\n",
      "684:\tlearn: 0.2962959\ttotal: 13.1s\tremaining: 6s\n",
      "685:\tlearn: 0.2961798\ttotal: 13.1s\tremaining: 5.98s\n",
      "686:\tlearn: 0.2960870\ttotal: 13.1s\tremaining: 5.96s\n",
      "687:\tlearn: 0.2958690\ttotal: 13.1s\tremaining: 5.94s\n",
      "688:\tlearn: 0.2958079\ttotal: 13.1s\tremaining: 5.92s\n",
      "689:\tlearn: 0.2957003\ttotal: 13.1s\tremaining: 5.89s\n",
      "690:\tlearn: 0.2956202\ttotal: 13.1s\tremaining: 5.87s\n",
      "691:\tlearn: 0.2955422\ttotal: 13.1s\tremaining: 5.85s\n",
      "692:\tlearn: 0.2954514\ttotal: 13.2s\tremaining: 5.83s\n",
      "693:\tlearn: 0.2953490\ttotal: 13.2s\tremaining: 5.81s\n",
      "694:\tlearn: 0.2952404\ttotal: 13.2s\tremaining: 5.79s\n",
      "695:\tlearn: 0.2951288\ttotal: 13.2s\tremaining: 5.76s\n",
      "696:\tlearn: 0.2950141\ttotal: 13.2s\tremaining: 5.74s\n",
      "697:\tlearn: 0.2949078\ttotal: 13.2s\tremaining: 5.72s\n",
      "698:\tlearn: 0.2948435\ttotal: 13.2s\tremaining: 5.7s\n",
      "699:\tlearn: 0.2947293\ttotal: 13.3s\tremaining: 5.68s\n",
      "700:\tlearn: 0.2946161\ttotal: 13.3s\tremaining: 5.66s\n",
      "701:\tlearn: 0.2945081\ttotal: 13.3s\tremaining: 5.64s\n",
      "702:\tlearn: 0.2944084\ttotal: 13.3s\tremaining: 5.62s\n",
      "703:\tlearn: 0.2943266\ttotal: 13.3s\tremaining: 5.6s\n",
      "704:\tlearn: 0.2942231\ttotal: 13.3s\tremaining: 5.58s\n",
      "705:\tlearn: 0.2940896\ttotal: 13.4s\tremaining: 5.56s\n",
      "706:\tlearn: 0.2939578\ttotal: 13.4s\tremaining: 5.54s\n",
      "707:\tlearn: 0.2938483\ttotal: 13.4s\tremaining: 5.52s\n",
      "708:\tlearn: 0.2937393\ttotal: 13.4s\tremaining: 5.5s\n",
      "709:\tlearn: 0.2936353\ttotal: 13.4s\tremaining: 5.48s\n",
      "710:\tlearn: 0.2935468\ttotal: 13.4s\tremaining: 5.45s\n",
      "711:\tlearn: 0.2934926\ttotal: 13.4s\tremaining: 5.43s\n",
      "712:\tlearn: 0.2932917\ttotal: 13.4s\tremaining: 5.41s\n",
      "713:\tlearn: 0.2931868\ttotal: 13.5s\tremaining: 5.39s\n",
      "714:\tlearn: 0.2930777\ttotal: 13.5s\tremaining: 5.37s\n",
      "715:\tlearn: 0.2929754\ttotal: 13.5s\tremaining: 5.35s\n",
      "716:\tlearn: 0.2927834\ttotal: 13.5s\tremaining: 5.33s\n",
      "717:\tlearn: 0.2926586\ttotal: 13.5s\tremaining: 5.31s\n",
      "718:\tlearn: 0.2925038\ttotal: 13.5s\tremaining: 5.29s\n",
      "719:\tlearn: 0.2924232\ttotal: 13.5s\tremaining: 5.27s\n",
      "720:\tlearn: 0.2923249\ttotal: 13.6s\tremaining: 5.25s\n",
      "721:\tlearn: 0.2922500\ttotal: 13.6s\tremaining: 5.22s\n",
      "722:\tlearn: 0.2921176\ttotal: 13.6s\tremaining: 5.2s\n",
      "723:\tlearn: 0.2920187\ttotal: 13.6s\tremaining: 5.18s\n",
      "724:\tlearn: 0.2919121\ttotal: 13.6s\tremaining: 5.16s\n",
      "725:\tlearn: 0.2918257\ttotal: 13.6s\tremaining: 5.14s\n",
      "726:\tlearn: 0.2917390\ttotal: 13.6s\tremaining: 5.12s\n",
      "727:\tlearn: 0.2916069\ttotal: 13.7s\tremaining: 5.1s\n",
      "728:\tlearn: 0.2915654\ttotal: 13.7s\tremaining: 5.08s\n",
      "729:\tlearn: 0.2914841\ttotal: 13.7s\tremaining: 5.06s\n",
      "730:\tlearn: 0.2913741\ttotal: 13.7s\tremaining: 5.04s\n",
      "731:\tlearn: 0.2912337\ttotal: 13.7s\tremaining: 5.02s\n",
      "732:\tlearn: 0.2911603\ttotal: 13.7s\tremaining: 5s\n",
      "733:\tlearn: 0.2911005\ttotal: 13.7s\tremaining: 4.97s\n",
      "734:\tlearn: 0.2909840\ttotal: 13.7s\tremaining: 4.96s\n",
      "735:\tlearn: 0.2908951\ttotal: 13.8s\tremaining: 4.93s\n",
      "736:\tlearn: 0.2908069\ttotal: 13.8s\tremaining: 4.91s\n",
      "737:\tlearn: 0.2906847\ttotal: 13.8s\tremaining: 4.89s\n",
      "738:\tlearn: 0.2905431\ttotal: 13.8s\tremaining: 4.87s\n",
      "739:\tlearn: 0.2904516\ttotal: 13.8s\tremaining: 4.85s\n",
      "740:\tlearn: 0.2903425\ttotal: 13.8s\tremaining: 4.83s\n",
      "741:\tlearn: 0.2902292\ttotal: 13.8s\tremaining: 4.81s\n",
      "742:\tlearn: 0.2901442\ttotal: 13.9s\tremaining: 4.79s\n",
      "743:\tlearn: 0.2900338\ttotal: 13.9s\tremaining: 4.77s\n",
      "744:\tlearn: 0.2898915\ttotal: 13.9s\tremaining: 4.75s\n",
      "745:\tlearn: 0.2897969\ttotal: 13.9s\tremaining: 4.73s\n",
      "746:\tlearn: 0.2897327\ttotal: 13.9s\tremaining: 4.71s\n",
      "747:\tlearn: 0.2896455\ttotal: 13.9s\tremaining: 4.69s\n",
      "748:\tlearn: 0.2895568\ttotal: 13.9s\tremaining: 4.67s\n",
      "749:\tlearn: 0.2894440\ttotal: 13.9s\tremaining: 4.65s\n",
      "750:\tlearn: 0.2893927\ttotal: 14s\tremaining: 4.63s\n",
      "751:\tlearn: 0.2893062\ttotal: 14s\tremaining: 4.61s\n",
      "752:\tlearn: 0.2892341\ttotal: 14s\tremaining: 4.59s\n",
      "753:\tlearn: 0.2891376\ttotal: 14s\tremaining: 4.57s\n",
      "754:\tlearn: 0.2890382\ttotal: 14s\tremaining: 4.55s\n",
      "755:\tlearn: 0.2889465\ttotal: 14s\tremaining: 4.53s\n",
      "756:\tlearn: 0.2888436\ttotal: 14s\tremaining: 4.51s\n",
      "757:\tlearn: 0.2887429\ttotal: 14.1s\tremaining: 4.49s\n",
      "758:\tlearn: 0.2886184\ttotal: 14.1s\tremaining: 4.47s\n",
      "759:\tlearn: 0.2885365\ttotal: 14.1s\tremaining: 4.45s\n",
      "760:\tlearn: 0.2884397\ttotal: 14.1s\tremaining: 4.43s\n",
      "761:\tlearn: 0.2883448\ttotal: 14.1s\tremaining: 4.41s\n",
      "762:\tlearn: 0.2882456\ttotal: 14.1s\tremaining: 4.39s\n",
      "763:\tlearn: 0.2881959\ttotal: 14.1s\tremaining: 4.37s\n",
      "764:\tlearn: 0.2881151\ttotal: 14.2s\tremaining: 4.35s\n",
      "765:\tlearn: 0.2880083\ttotal: 14.2s\tremaining: 4.33s\n",
      "766:\tlearn: 0.2879025\ttotal: 14.2s\tremaining: 4.31s\n",
      "767:\tlearn: 0.2878207\ttotal: 14.2s\tremaining: 4.29s\n",
      "768:\tlearn: 0.2876972\ttotal: 14.2s\tremaining: 4.27s\n",
      "769:\tlearn: 0.2876082\ttotal: 14.2s\tremaining: 4.25s\n",
      "770:\tlearn: 0.2875013\ttotal: 14.2s\tremaining: 4.23s\n",
      "771:\tlearn: 0.2874374\ttotal: 14.3s\tremaining: 4.21s\n",
      "772:\tlearn: 0.2873088\ttotal: 14.3s\tremaining: 4.19s\n",
      "773:\tlearn: 0.2872108\ttotal: 14.3s\tremaining: 4.17s\n",
      "774:\tlearn: 0.2871282\ttotal: 14.3s\tremaining: 4.15s\n",
      "775:\tlearn: 0.2870633\ttotal: 14.3s\tremaining: 4.13s\n",
      "776:\tlearn: 0.2869761\ttotal: 14.3s\tremaining: 4.12s\n",
      "777:\tlearn: 0.2868657\ttotal: 14.4s\tremaining: 4.09s\n",
      "778:\tlearn: 0.2868035\ttotal: 14.4s\tremaining: 4.07s\n",
      "779:\tlearn: 0.2865796\ttotal: 14.4s\tremaining: 4.05s\n",
      "780:\tlearn: 0.2864908\ttotal: 14.4s\tremaining: 4.04s\n",
      "781:\tlearn: 0.2863853\ttotal: 14.4s\tremaining: 4.01s\n",
      "782:\tlearn: 0.2862825\ttotal: 14.4s\tremaining: 4s\n",
      "783:\tlearn: 0.2862135\ttotal: 14.4s\tremaining: 3.98s\n",
      "784:\tlearn: 0.2860913\ttotal: 14.4s\tremaining: 3.96s\n",
      "785:\tlearn: 0.2859829\ttotal: 14.5s\tremaining: 3.94s\n",
      "786:\tlearn: 0.2859175\ttotal: 14.5s\tremaining: 3.92s\n",
      "787:\tlearn: 0.2858104\ttotal: 14.5s\tremaining: 3.9s\n",
      "788:\tlearn: 0.2856958\ttotal: 14.5s\tremaining: 3.88s\n",
      "789:\tlearn: 0.2855632\ttotal: 14.5s\tremaining: 3.86s\n",
      "790:\tlearn: 0.2854480\ttotal: 14.5s\tremaining: 3.84s\n",
      "791:\tlearn: 0.2853544\ttotal: 14.5s\tremaining: 3.82s\n",
      "792:\tlearn: 0.2852652\ttotal: 14.6s\tremaining: 3.8s\n",
      "793:\tlearn: 0.2851875\ttotal: 14.6s\tremaining: 3.78s\n",
      "794:\tlearn: 0.2850625\ttotal: 14.6s\tremaining: 3.76s\n",
      "795:\tlearn: 0.2849616\ttotal: 14.6s\tremaining: 3.74s\n",
      "796:\tlearn: 0.2848741\ttotal: 14.6s\tremaining: 3.72s\n",
      "797:\tlearn: 0.2848013\ttotal: 14.6s\tremaining: 3.7s\n",
      "798:\tlearn: 0.2846849\ttotal: 14.6s\tremaining: 3.68s\n",
      "799:\tlearn: 0.2845573\ttotal: 14.6s\tremaining: 3.66s\n",
      "800:\tlearn: 0.2844757\ttotal: 14.7s\tremaining: 3.64s\n",
      "801:\tlearn: 0.2843594\ttotal: 14.7s\tremaining: 3.62s\n",
      "802:\tlearn: 0.2842836\ttotal: 14.7s\tremaining: 3.6s\n",
      "803:\tlearn: 0.2841788\ttotal: 14.7s\tremaining: 3.58s\n",
      "804:\tlearn: 0.2841006\ttotal: 14.7s\tremaining: 3.56s\n",
      "805:\tlearn: 0.2840151\ttotal: 14.7s\tremaining: 3.54s\n",
      "806:\tlearn: 0.2839205\ttotal: 14.7s\tremaining: 3.53s\n",
      "807:\tlearn: 0.2838227\ttotal: 14.8s\tremaining: 3.51s\n",
      "808:\tlearn: 0.2837207\ttotal: 14.8s\tremaining: 3.49s\n",
      "809:\tlearn: 0.2836221\ttotal: 14.8s\tremaining: 3.47s\n",
      "810:\tlearn: 0.2835121\ttotal: 14.8s\tremaining: 3.45s\n",
      "811:\tlearn: 0.2834171\ttotal: 14.8s\tremaining: 3.43s\n",
      "812:\tlearn: 0.2833046\ttotal: 14.8s\tremaining: 3.41s\n",
      "813:\tlearn: 0.2831668\ttotal: 14.8s\tremaining: 3.39s\n",
      "814:\tlearn: 0.2830294\ttotal: 14.8s\tremaining: 3.37s\n",
      "815:\tlearn: 0.2829241\ttotal: 14.9s\tremaining: 3.35s\n",
      "816:\tlearn: 0.2828142\ttotal: 14.9s\tremaining: 3.33s\n",
      "817:\tlearn: 0.2827301\ttotal: 14.9s\tremaining: 3.31s\n",
      "818:\tlearn: 0.2826513\ttotal: 14.9s\tremaining: 3.29s\n",
      "819:\tlearn: 0.2825912\ttotal: 14.9s\tremaining: 3.27s\n",
      "820:\tlearn: 0.2825261\ttotal: 14.9s\tremaining: 3.26s\n",
      "821:\tlearn: 0.2824008\ttotal: 14.9s\tremaining: 3.24s\n",
      "822:\tlearn: 0.2823313\ttotal: 15s\tremaining: 3.22s\n",
      "823:\tlearn: 0.2822824\ttotal: 15s\tremaining: 3.2s\n",
      "824:\tlearn: 0.2821469\ttotal: 15s\tremaining: 3.18s\n",
      "825:\tlearn: 0.2820159\ttotal: 15s\tremaining: 3.16s\n",
      "826:\tlearn: 0.2818990\ttotal: 15s\tremaining: 3.14s\n",
      "827:\tlearn: 0.2817790\ttotal: 15s\tremaining: 3.12s\n",
      "828:\tlearn: 0.2816740\ttotal: 15s\tremaining: 3.1s\n",
      "829:\tlearn: 0.2815923\ttotal: 15.1s\tremaining: 3.08s\n",
      "830:\tlearn: 0.2814640\ttotal: 15.1s\tremaining: 3.06s\n",
      "831:\tlearn: 0.2813745\ttotal: 15.1s\tremaining: 3.05s\n",
      "832:\tlearn: 0.2812953\ttotal: 15.1s\tremaining: 3.03s\n",
      "833:\tlearn: 0.2812136\ttotal: 15.1s\tremaining: 3.01s\n",
      "834:\tlearn: 0.2811086\ttotal: 15.1s\tremaining: 2.99s\n",
      "835:\tlearn: 0.2809969\ttotal: 15.1s\tremaining: 2.97s\n",
      "836:\tlearn: 0.2809240\ttotal: 15.2s\tremaining: 2.95s\n",
      "837:\tlearn: 0.2808035\ttotal: 15.2s\tremaining: 2.93s\n",
      "838:\tlearn: 0.2807303\ttotal: 15.2s\tremaining: 2.91s\n",
      "839:\tlearn: 0.2806039\ttotal: 15.2s\tremaining: 2.89s\n",
      "840:\tlearn: 0.2804864\ttotal: 15.2s\tremaining: 2.88s\n",
      "841:\tlearn: 0.2804409\ttotal: 15.2s\tremaining: 2.86s\n",
      "842:\tlearn: 0.2803598\ttotal: 15.2s\tremaining: 2.84s\n",
      "843:\tlearn: 0.2802787\ttotal: 15.3s\tremaining: 2.82s\n",
      "844:\tlearn: 0.2801418\ttotal: 15.3s\tremaining: 2.8s\n",
      "845:\tlearn: 0.2800580\ttotal: 15.3s\tremaining: 2.78s\n",
      "846:\tlearn: 0.2799507\ttotal: 15.3s\tremaining: 2.76s\n",
      "847:\tlearn: 0.2798652\ttotal: 15.3s\tremaining: 2.75s\n",
      "848:\tlearn: 0.2797707\ttotal: 15.3s\tremaining: 2.73s\n",
      "849:\tlearn: 0.2796697\ttotal: 15.4s\tremaining: 2.71s\n",
      "850:\tlearn: 0.2796170\ttotal: 15.4s\tremaining: 2.69s\n",
      "851:\tlearn: 0.2795483\ttotal: 15.4s\tremaining: 2.67s\n",
      "852:\tlearn: 0.2794656\ttotal: 15.4s\tremaining: 2.65s\n",
      "853:\tlearn: 0.2793880\ttotal: 15.4s\tremaining: 2.63s\n",
      "854:\tlearn: 0.2793316\ttotal: 15.4s\tremaining: 2.62s\n",
      "855:\tlearn: 0.2792465\ttotal: 15.4s\tremaining: 2.6s\n",
      "856:\tlearn: 0.2791418\ttotal: 15.4s\tremaining: 2.58s\n",
      "857:\tlearn: 0.2790573\ttotal: 15.5s\tremaining: 2.56s\n",
      "858:\tlearn: 0.2789856\ttotal: 15.5s\tremaining: 2.54s\n",
      "859:\tlearn: 0.2788990\ttotal: 15.5s\tremaining: 2.52s\n",
      "860:\tlearn: 0.2787883\ttotal: 15.5s\tremaining: 2.5s\n",
      "861:\tlearn: 0.2786998\ttotal: 15.5s\tremaining: 2.48s\n",
      "862:\tlearn: 0.2786171\ttotal: 15.5s\tremaining: 2.46s\n",
      "863:\tlearn: 0.2785286\ttotal: 15.5s\tremaining: 2.45s\n",
      "864:\tlearn: 0.2784404\ttotal: 15.6s\tremaining: 2.43s\n",
      "865:\tlearn: 0.2783185\ttotal: 15.6s\tremaining: 2.41s\n",
      "866:\tlearn: 0.2782450\ttotal: 15.6s\tremaining: 2.39s\n",
      "867:\tlearn: 0.2781510\ttotal: 15.6s\tremaining: 2.37s\n",
      "868:\tlearn: 0.2780598\ttotal: 15.6s\tremaining: 2.35s\n",
      "869:\tlearn: 0.2779739\ttotal: 15.6s\tremaining: 2.33s\n",
      "870:\tlearn: 0.2778799\ttotal: 15.6s\tremaining: 2.31s\n",
      "871:\tlearn: 0.2777736\ttotal: 15.7s\tremaining: 2.3s\n",
      "872:\tlearn: 0.2776672\ttotal: 15.7s\tremaining: 2.28s\n",
      "873:\tlearn: 0.2775439\ttotal: 15.7s\tremaining: 2.26s\n",
      "874:\tlearn: 0.2774402\ttotal: 15.7s\tremaining: 2.24s\n",
      "875:\tlearn: 0.2773220\ttotal: 15.7s\tremaining: 2.22s\n",
      "876:\tlearn: 0.2772690\ttotal: 15.7s\tremaining: 2.21s\n",
      "877:\tlearn: 0.2771369\ttotal: 15.7s\tremaining: 2.19s\n",
      "878:\tlearn: 0.2770597\ttotal: 15.7s\tremaining: 2.17s\n",
      "879:\tlearn: 0.2769735\ttotal: 15.8s\tremaining: 2.15s\n",
      "880:\tlearn: 0.2768468\ttotal: 15.8s\tremaining: 2.13s\n",
      "881:\tlearn: 0.2767283\ttotal: 15.8s\tremaining: 2.11s\n",
      "882:\tlearn: 0.2766492\ttotal: 15.8s\tremaining: 2.09s\n",
      "883:\tlearn: 0.2765517\ttotal: 15.8s\tremaining: 2.08s\n",
      "884:\tlearn: 0.2764643\ttotal: 15.8s\tremaining: 2.06s\n",
      "885:\tlearn: 0.2763333\ttotal: 15.8s\tremaining: 2.04s\n",
      "886:\tlearn: 0.2761994\ttotal: 15.9s\tremaining: 2.02s\n",
      "887:\tlearn: 0.2761068\ttotal: 15.9s\tremaining: 2s\n",
      "888:\tlearn: 0.2759756\ttotal: 15.9s\tremaining: 1.98s\n",
      "889:\tlearn: 0.2758354\ttotal: 15.9s\tremaining: 1.96s\n",
      "890:\tlearn: 0.2757469\ttotal: 15.9s\tremaining: 1.95s\n",
      "891:\tlearn: 0.2756341\ttotal: 15.9s\tremaining: 1.93s\n",
      "892:\tlearn: 0.2755400\ttotal: 15.9s\tremaining: 1.91s\n",
      "893:\tlearn: 0.2754298\ttotal: 16s\tremaining: 1.89s\n",
      "894:\tlearn: 0.2752953\ttotal: 16s\tremaining: 1.87s\n",
      "895:\tlearn: 0.2752592\ttotal: 16s\tremaining: 1.85s\n",
      "896:\tlearn: 0.2751522\ttotal: 16s\tremaining: 1.84s\n",
      "897:\tlearn: 0.2750625\ttotal: 16s\tremaining: 1.82s\n",
      "898:\tlearn: 0.2749818\ttotal: 16s\tremaining: 1.8s\n",
      "899:\tlearn: 0.2749038\ttotal: 16s\tremaining: 1.78s\n",
      "900:\tlearn: 0.2747933\ttotal: 16s\tremaining: 1.76s\n",
      "901:\tlearn: 0.2746962\ttotal: 16.1s\tremaining: 1.74s\n",
      "902:\tlearn: 0.2745866\ttotal: 16.1s\tremaining: 1.73s\n",
      "903:\tlearn: 0.2744620\ttotal: 16.1s\tremaining: 1.71s\n",
      "904:\tlearn: 0.2743545\ttotal: 16.1s\tremaining: 1.69s\n",
      "905:\tlearn: 0.2742709\ttotal: 16.1s\tremaining: 1.67s\n",
      "906:\tlearn: 0.2741395\ttotal: 16.1s\tremaining: 1.65s\n",
      "907:\tlearn: 0.2740629\ttotal: 16.1s\tremaining: 1.64s\n",
      "908:\tlearn: 0.2739809\ttotal: 16.2s\tremaining: 1.62s\n",
      "909:\tlearn: 0.2738628\ttotal: 16.2s\tremaining: 1.6s\n",
      "910:\tlearn: 0.2737728\ttotal: 16.2s\tremaining: 1.58s\n",
      "911:\tlearn: 0.2737070\ttotal: 16.2s\tremaining: 1.56s\n",
      "912:\tlearn: 0.2735839\ttotal: 16.2s\tremaining: 1.54s\n",
      "913:\tlearn: 0.2735074\ttotal: 16.2s\tremaining: 1.53s\n",
      "914:\tlearn: 0.2733962\ttotal: 16.2s\tremaining: 1.51s\n",
      "915:\tlearn: 0.2732740\ttotal: 16.2s\tremaining: 1.49s\n",
      "916:\tlearn: 0.2731943\ttotal: 16.3s\tremaining: 1.47s\n",
      "917:\tlearn: 0.2730661\ttotal: 16.3s\tremaining: 1.45s\n",
      "918:\tlearn: 0.2729773\ttotal: 16.3s\tremaining: 1.44s\n",
      "919:\tlearn: 0.2728757\ttotal: 16.3s\tremaining: 1.42s\n",
      "920:\tlearn: 0.2727763\ttotal: 16.3s\tremaining: 1.4s\n",
      "921:\tlearn: 0.2727015\ttotal: 16.4s\tremaining: 1.38s\n",
      "922:\tlearn: 0.2726138\ttotal: 16.4s\tremaining: 1.36s\n",
      "923:\tlearn: 0.2725491\ttotal: 16.4s\tremaining: 1.35s\n",
      "924:\tlearn: 0.2724589\ttotal: 16.4s\tremaining: 1.33s\n",
      "925:\tlearn: 0.2723429\ttotal: 16.4s\tremaining: 1.31s\n",
      "926:\tlearn: 0.2722686\ttotal: 16.4s\tremaining: 1.29s\n",
      "927:\tlearn: 0.2721532\ttotal: 16.4s\tremaining: 1.27s\n",
      "928:\tlearn: 0.2720105\ttotal: 16.4s\tremaining: 1.26s\n",
      "929:\tlearn: 0.2719074\ttotal: 16.5s\tremaining: 1.24s\n",
      "930:\tlearn: 0.2718200\ttotal: 16.5s\tremaining: 1.22s\n",
      "931:\tlearn: 0.2717302\ttotal: 16.5s\tremaining: 1.2s\n",
      "932:\tlearn: 0.2716323\ttotal: 16.5s\tremaining: 1.18s\n",
      "933:\tlearn: 0.2715270\ttotal: 16.5s\tremaining: 1.17s\n",
      "934:\tlearn: 0.2714504\ttotal: 16.5s\tremaining: 1.15s\n",
      "935:\tlearn: 0.2713975\ttotal: 16.5s\tremaining: 1.13s\n",
      "936:\tlearn: 0.2711944\ttotal: 16.6s\tremaining: 1.11s\n",
      "937:\tlearn: 0.2710951\ttotal: 16.6s\tremaining: 1.09s\n",
      "938:\tlearn: 0.2710221\ttotal: 16.6s\tremaining: 1.08s\n",
      "939:\tlearn: 0.2709499\ttotal: 16.6s\tremaining: 1.06s\n",
      "940:\tlearn: 0.2708880\ttotal: 16.6s\tremaining: 1.04s\n",
      "941:\tlearn: 0.2708132\ttotal: 16.6s\tremaining: 1.02s\n",
      "942:\tlearn: 0.2707301\ttotal: 16.6s\tremaining: 1s\n",
      "943:\tlearn: 0.2706557\ttotal: 16.6s\tremaining: 987ms\n",
      "944:\tlearn: 0.2705774\ttotal: 16.7s\tremaining: 970ms\n",
      "945:\tlearn: 0.2703930\ttotal: 16.7s\tremaining: 952ms\n",
      "946:\tlearn: 0.2703017\ttotal: 16.7s\tremaining: 934ms\n",
      "947:\tlearn: 0.2702389\ttotal: 16.7s\tremaining: 916ms\n",
      "948:\tlearn: 0.2701520\ttotal: 16.7s\tremaining: 898ms\n",
      "949:\tlearn: 0.2700658\ttotal: 16.7s\tremaining: 880ms\n",
      "950:\tlearn: 0.2700114\ttotal: 16.7s\tremaining: 862ms\n",
      "951:\tlearn: 0.2699024\ttotal: 16.8s\tremaining: 845ms\n",
      "952:\tlearn: 0.2697592\ttotal: 16.8s\tremaining: 827ms\n",
      "953:\tlearn: 0.2696951\ttotal: 16.8s\tremaining: 809ms\n",
      "954:\tlearn: 0.2696076\ttotal: 16.8s\tremaining: 791ms\n",
      "955:\tlearn: 0.2695077\ttotal: 16.8s\tremaining: 774ms\n",
      "956:\tlearn: 0.2694070\ttotal: 16.8s\tremaining: 756ms\n",
      "957:\tlearn: 0.2692796\ttotal: 16.8s\tremaining: 738ms\n",
      "958:\tlearn: 0.2691547\ttotal: 16.9s\tremaining: 720ms\n",
      "959:\tlearn: 0.2690606\ttotal: 16.9s\tremaining: 703ms\n",
      "960:\tlearn: 0.2689727\ttotal: 16.9s\tremaining: 685ms\n",
      "961:\tlearn: 0.2689175\ttotal: 16.9s\tremaining: 667ms\n",
      "962:\tlearn: 0.2688085\ttotal: 16.9s\tremaining: 650ms\n",
      "963:\tlearn: 0.2687799\ttotal: 16.9s\tremaining: 632ms\n",
      "964:\tlearn: 0.2686769\ttotal: 16.9s\tremaining: 614ms\n",
      "965:\tlearn: 0.2685805\ttotal: 16.9s\tremaining: 597ms\n",
      "966:\tlearn: 0.2684570\ttotal: 17s\tremaining: 579ms\n",
      "967:\tlearn: 0.2683762\ttotal: 17s\tremaining: 561ms\n",
      "968:\tlearn: 0.2682597\ttotal: 17s\tremaining: 544ms\n",
      "969:\tlearn: 0.2681919\ttotal: 17s\tremaining: 526ms\n",
      "970:\tlearn: 0.2681207\ttotal: 17s\tremaining: 508ms\n",
      "971:\tlearn: 0.2680468\ttotal: 17s\tremaining: 491ms\n",
      "972:\tlearn: 0.2679145\ttotal: 17s\tremaining: 473ms\n",
      "973:\tlearn: 0.2678415\ttotal: 17.1s\tremaining: 455ms\n",
      "974:\tlearn: 0.2677735\ttotal: 17.1s\tremaining: 438ms\n",
      "975:\tlearn: 0.2676843\ttotal: 17.1s\tremaining: 420ms\n",
      "976:\tlearn: 0.2675610\ttotal: 17.1s\tremaining: 402ms\n",
      "977:\tlearn: 0.2674620\ttotal: 17.1s\tremaining: 385ms\n",
      "978:\tlearn: 0.2673604\ttotal: 17.1s\tremaining: 367ms\n",
      "979:\tlearn: 0.2672589\ttotal: 17.1s\tremaining: 350ms\n",
      "980:\tlearn: 0.2672057\ttotal: 17.1s\tremaining: 332ms\n",
      "981:\tlearn: 0.2671096\ttotal: 17.2s\tremaining: 315ms\n",
      "982:\tlearn: 0.2670030\ttotal: 17.2s\tremaining: 297ms\n",
      "983:\tlearn: 0.2669133\ttotal: 17.2s\tremaining: 280ms\n",
      "984:\tlearn: 0.2668279\ttotal: 17.2s\tremaining: 262ms\n",
      "985:\tlearn: 0.2667656\ttotal: 17.2s\tremaining: 245ms\n",
      "986:\tlearn: 0.2667140\ttotal: 17.2s\tremaining: 227ms\n",
      "987:\tlearn: 0.2666088\ttotal: 17.2s\tremaining: 209ms\n",
      "988:\tlearn: 0.2664044\ttotal: 17.3s\tremaining: 192ms\n",
      "989:\tlearn: 0.2662857\ttotal: 17.3s\tremaining: 175ms\n",
      "990:\tlearn: 0.2661833\ttotal: 17.3s\tremaining: 157ms\n",
      "991:\tlearn: 0.2661164\ttotal: 17.3s\tremaining: 140ms\n",
      "992:\tlearn: 0.2660648\ttotal: 17.3s\tremaining: 122ms\n",
      "993:\tlearn: 0.2659771\ttotal: 17.3s\tremaining: 105ms\n",
      "994:\tlearn: 0.2659062\ttotal: 17.4s\tremaining: 87.2ms\n",
      "995:\tlearn: 0.2658098\ttotal: 17.4s\tremaining: 69.8ms\n",
      "996:\tlearn: 0.2657091\ttotal: 17.4s\tremaining: 52.3ms\n",
      "997:\tlearn: 0.2656402\ttotal: 17.4s\tremaining: 34.9ms\n",
      "998:\tlearn: 0.2655647\ttotal: 17.4s\tremaining: 17.4ms\n",
      "999:\tlearn: 0.2654190\ttotal: 17.4s\tremaining: 0us\n"
     ]
    }
   ],
   "source": [
    "cb_model.fit(X_train,Y_train)\n",
    "Y_predict = cb_model.predict(X_test)"
   ]
  },
  {
   "cell_type": "code",
   "execution_count": null,
   "id": "6ZOzKfl0ogO_",
   "metadata": {
    "colab": {
     "base_uri": "https://localhost:8080/"
    },
    "id": "6ZOzKfl0ogO_",
    "outputId": "421ade5f-6474-480b-9838-bdbef656f0c6",
    "scrolled": true
   },
   "outputs": [
    {
     "data": {
      "text/plain": [
       "array([[3422,  319],\n",
       "       [ 428, 1831]])"
      ]
     },
     "execution_count": 95,
     "metadata": {},
     "output_type": "execute_result"
    }
   ],
   "source": [
    "confusion_matrix(Y_test,Y_predict)"
   ]
  },
  {
   "cell_type": "code",
   "execution_count": null,
   "id": "1IHjKGTMogPA",
   "metadata": {
    "colab": {
     "base_uri": "https://localhost:8080/"
    },
    "id": "1IHjKGTMogPA",
    "outputId": "fe38220e-dd49-4b24-dcf3-8038a411745a",
    "scrolled": true
   },
   "outputs": [
    {
     "name": "stdout",
     "output_type": "stream",
     "text": [
      "              precision    recall  f1-score   support\n",
      "\n",
      "           0       0.89      0.91      0.90      3741\n",
      "           1       0.85      0.81      0.83      2259\n",
      "\n",
      "    accuracy                           0.88      6000\n",
      "   macro avg       0.87      0.86      0.87      6000\n",
      "weighted avg       0.87      0.88      0.87      6000\n",
      "\n"
     ]
    }
   ],
   "source": [
    "print(classification_report(Y_test,Y_predict))"
   ]
  },
  {
   "cell_type": "code",
   "execution_count": null,
   "id": "BKrlstrCogPA",
   "metadata": {
    "colab": {
     "base_uri": "https://localhost:8080/"
    },
    "id": "BKrlstrCogPA",
    "outputId": "c18dcee9-622f-466b-e987-4c8d0219f6a4",
    "scrolled": true
   },
   "outputs": [
    {
     "data": {
      "text/plain": [
       "0.8305738262644592"
      ]
     },
     "execution_count": 97,
     "metadata": {},
     "output_type": "execute_result"
    }
   ],
   "source": [
    "f1_score(Y_test,Y_predict)"
   ]
  },
  {
   "cell_type": "code",
   "execution_count": null,
   "id": "jg6uCesbogPA",
   "metadata": {
    "id": "jg6uCesbogPA"
   },
   "outputs": [],
   "source": [
    "Y_predict_prob = cb_model.predict_proba(X_test)"
   ]
  },
  {
   "cell_type": "code",
   "execution_count": null,
   "id": "RLgwjh0KogPB",
   "metadata": {
    "colab": {
     "base_uri": "https://localhost:8080/"
    },
    "id": "RLgwjh0KogPB",
    "outputId": "7268bd64-2586-47d7-881f-c18dee826168"
   },
   "outputs": [
    {
     "data": {
      "text/plain": [
       "0.39054054054054055"
      ]
     },
     "execution_count": 99,
     "metadata": {},
     "output_type": "execute_result"
    }
   ],
   "source": [
    "Threshold_Finder(Y_test,Y_predict_prob)"
   ]
  },
  {
   "cell_type": "code",
   "execution_count": null,
   "id": "0ik7oo_HogPB",
   "metadata": {
    "colab": {
     "base_uri": "https://localhost:8080/"
    },
    "id": "0ik7oo_HogPB",
    "outputId": "560ee4df-9eff-4b18-ff29-15c7fc8d3ec3",
    "scrolled": true
   },
   "outputs": [
    {
     "name": "stdout",
     "output_type": "stream",
     "text": [
      "              precision    recall  f1-score   support\n",
      "\n",
      "           0       0.91      0.89      0.90      3741\n",
      "           1       0.82      0.85      0.84      2259\n",
      "\n",
      "    accuracy                           0.87      6000\n",
      "   macro avg       0.87      0.87      0.87      6000\n",
      "weighted avg       0.88      0.87      0.88      6000\n",
      "\n"
     ]
    }
   ],
   "source": [
    "Y_predict = Y_predict_prob[:,1] > Threshold_Finder(Y_test,Y_predict_prob)\n",
    "print(classification_report(Y_test,Y_predict))"
   ]
  },
  {
   "cell_type": "code",
   "execution_count": null,
   "id": "hhpjs14xmuCb",
   "metadata": {
    "colab": {
     "base_uri": "https://localhost:8080/"
    },
    "id": "hhpjs14xmuCb",
    "outputId": "a847b204-2e37-4848-c096-9b67c34ea724"
   },
   "outputs": [
    {
     "data": {
      "text/plain": [
       "0.8837418747002546"
      ]
     },
     "execution_count": 101,
     "metadata": {},
     "output_type": "execute_result"
    }
   ],
   "source": [
    "roc_auc_score(Y_test,Y_predict_prob[:,1])"
   ]
  },
  {
   "cell_type": "code",
   "execution_count": null,
   "id": "_LXQlctCoInI",
   "metadata": {
    "colab": {
     "base_uri": "https://localhost:8080/"
    },
    "id": "_LXQlctCoInI",
    "outputId": "dfed9aa6-9727-49d8-c748-5c4bff9c1ac0"
   },
   "outputs": [
    {
     "data": {
      "text/plain": [
       "0.8746666666666667"
      ]
     },
     "execution_count": 102,
     "metadata": {},
     "output_type": "execute_result"
    }
   ],
   "source": [
    "accuracy_score(Y_test,Y_predict)"
   ]
  },
  {
   "cell_type": "code",
   "execution_count": null,
   "id": "zj48KfeRrCBn",
   "metadata": {
    "colab": {
     "base_uri": "https://localhost:8080/"
    },
    "id": "zj48KfeRrCBn",
    "outputId": "325a619c-0dc3-48da-8a4e-2ba2e99ee8ab"
   },
   "outputs": [
    {
     "name": "stdout",
     "output_type": "stream",
     "text": [
      "CPU times: user 1.61 s, sys: 86.9 ms, total: 1.7 s\n",
      "Wall time: 37.2 s\n"
     ]
    },
    {
     "data": {
      "text/plain": [
       "0.8724810232909943"
      ]
     },
     "execution_count": 103,
     "metadata": {},
     "output_type": "execute_result"
    }
   ],
   "source": [
    "%%time\n",
    "dtree_clf_model = DecisionTreeClassifier()\n",
    "\n",
    "dtree_clf_params = {\n",
    "    'class_weight':[None,'balanced'],\n",
    "    'criterion':['entropy','gini'],\n",
    "    'max_depth':[None,5,10,15,20,30,50,70],\n",
    "    'min_samples_leaf':[1,2,5,10,15,20],\n",
    "    'min_samples_split':[2,5,10,15,20]\n",
    "}\n",
    "\n",
    "dtree_clf_random_search = RandomizedSearchCV(dtree_clf_model,param_distributions=dtree_clf_params,\n",
    "                                             cv = 5, n_iter=10,scoring='roc_auc',n_jobs=-1)\n",
    "\n",
    "dtree_clf_random_search.fit(X_train,Y_train)\n",
    "dtree_clf_random_search.best_score_"
   ]
  },
  {
   "cell_type": "code",
   "execution_count": null,
   "id": "3u0O-qotPhQ4",
   "metadata": {
    "id": "3u0O-qotPhQ4"
   },
   "outputs": [],
   "source": [
    "dtree_clf_model = dtree_clf_random_search.best_estimator_"
   ]
  },
  {
   "cell_type": "code",
   "execution_count": null,
   "id": "Jz3Xi1H5PhRE",
   "metadata": {
    "id": "Jz3Xi1H5PhRE"
   },
   "outputs": [],
   "source": [
    "dtree_clf_model.fit(X_train,Y_train)\n",
    "Y_predict = dtree_clf_model.predict(X_test)"
   ]
  },
  {
   "cell_type": "code",
   "execution_count": null,
   "id": "xnxzObUtPhRE",
   "metadata": {
    "colab": {
     "base_uri": "https://localhost:8080/"
    },
    "id": "xnxzObUtPhRE",
    "outputId": "0dc88fff-ce0e-42c1-889a-bd540cb38701",
    "scrolled": true
   },
   "outputs": [
    {
     "data": {
      "text/plain": [
       "array([[3361,  380],\n",
       "       [ 475, 1784]])"
      ]
     },
     "execution_count": 106,
     "metadata": {},
     "output_type": "execute_result"
    }
   ],
   "source": [
    "confusion_matrix(Y_test,Y_predict)"
   ]
  },
  {
   "cell_type": "code",
   "execution_count": null,
   "id": "_mK-1xDMPhRE",
   "metadata": {
    "colab": {
     "base_uri": "https://localhost:8080/"
    },
    "id": "_mK-1xDMPhRE",
    "outputId": "82014835-dec0-4af9-9b45-d41e83e34df7",
    "scrolled": true
   },
   "outputs": [
    {
     "name": "stdout",
     "output_type": "stream",
     "text": [
      "              precision    recall  f1-score   support\n",
      "\n",
      "           0       0.88      0.90      0.89      3741\n",
      "           1       0.82      0.79      0.81      2259\n",
      "\n",
      "    accuracy                           0.86      6000\n",
      "   macro avg       0.85      0.84      0.85      6000\n",
      "weighted avg       0.86      0.86      0.86      6000\n",
      "\n"
     ]
    }
   ],
   "source": [
    "print(classification_report(Y_test,Y_predict))"
   ]
  },
  {
   "cell_type": "code",
   "execution_count": null,
   "id": "9Y_m_NL_PhRE",
   "metadata": {
    "colab": {
     "base_uri": "https://localhost:8080/"
    },
    "id": "9Y_m_NL_PhRE",
    "outputId": "742b38bc-6f95-4f71-974f-c9630924e1ad",
    "scrolled": true
   },
   "outputs": [
    {
     "data": {
      "text/plain": [
       "0.8066922903007009"
      ]
     },
     "execution_count": 108,
     "metadata": {},
     "output_type": "execute_result"
    }
   ],
   "source": [
    "f1_score(Y_test,Y_predict)"
   ]
  },
  {
   "cell_type": "code",
   "execution_count": null,
   "id": "c2KA5ELhPhRF",
   "metadata": {
    "id": "c2KA5ELhPhRF"
   },
   "outputs": [],
   "source": [
    "Y_predict_prob = dtree_clf_model.predict_proba(X_test)"
   ]
  },
  {
   "cell_type": "code",
   "execution_count": null,
   "id": "eK5Fg7fNPhRF",
   "metadata": {
    "colab": {
     "base_uri": "https://localhost:8080/"
    },
    "id": "eK5Fg7fNPhRF",
    "outputId": "446d3eef-fcd0-4a54-8d67-b86eead285f6"
   },
   "outputs": [
    {
     "data": {
      "text/plain": [
       "0.4450450450450451"
      ]
     },
     "execution_count": 110,
     "metadata": {},
     "output_type": "execute_result"
    }
   ],
   "source": [
    "Threshold_Finder(Y_test,Y_predict_prob)"
   ]
  },
  {
   "cell_type": "code",
   "execution_count": null,
   "id": "szltyHjwPhRF",
   "metadata": {
    "colab": {
     "base_uri": "https://localhost:8080/"
    },
    "id": "szltyHjwPhRF",
    "outputId": "04133073-5900-4da8-c43a-eaef4c422ade",
    "scrolled": true
   },
   "outputs": [
    {
     "name": "stdout",
     "output_type": "stream",
     "text": [
      "              precision    recall  f1-score   support\n",
      "\n",
      "           0       0.88      0.89      0.89      3741\n",
      "           1       0.82      0.80      0.81      2259\n",
      "\n",
      "    accuracy                           0.86      6000\n",
      "   macro avg       0.85      0.85      0.85      6000\n",
      "weighted avg       0.86      0.86      0.86      6000\n",
      "\n"
     ]
    }
   ],
   "source": [
    "Y_predict = Y_predict_prob[:,1] > Threshold_Finder(Y_test,Y_predict_prob)\n",
    "print(classification_report(Y_test,Y_predict))"
   ]
  },
  {
   "cell_type": "code",
   "execution_count": null,
   "id": "bSEddlVTP8ym",
   "metadata": {
    "colab": {
     "base_uri": "https://localhost:8080/"
    },
    "id": "bSEddlVTP8ym",
    "outputId": "e363fdde-7159-4772-b033-5350e8adcfc0"
   },
   "outputs": [
    {
     "name": "stdout",
     "output_type": "stream",
     "text": [
      "CPU times: user 1min 39s, sys: 7.47 s, total: 1min 46s\n",
      "Wall time: 1h 13min 26s\n"
     ]
    },
    {
     "data": {
      "text/plain": [
       "0.889465651526206"
      ]
     },
     "execution_count": 114,
     "metadata": {},
     "output_type": "execute_result"
    }
   ],
   "source": [
    "%%time\n",
    "rf_clf_model = RandomForestClassifier()\n",
    "\n",
    "rf_clf_params = {\n",
    "    'n_estimators':[100,200,300,500,700,1000], #number of individual decision trees to be created\n",
    "    'max_features': [5,10,20,25,30,35], #how many features would be available at a split\n",
    "    'bootstrap': [True, False], #should different data subsets go in or not\n",
    "    'class_weight':[None,'balanced'],\n",
    "    'criterion':['entropy','gini'],\n",
    "    'max_depth':[None,5,10,15,20,30,50,70],\n",
    "    'min_samples_leaf':[1,2,5,10,15,20],\n",
    "    'min_samples_split':[2,5,10,15,20]\n",
    "}\n",
    "\n",
    "rf_clf_random_search = RandomizedSearchCV(rf_clf_model,param_distributions=rf_clf_params,\n",
    "                                             cv = 5, n_jobs=-1, n_iter=10,scoring='roc_auc')\n",
    "\n",
    "rf_clf_random_search.fit(X_train,Y_train)\n",
    "rf_clf_random_search.best_score_"
   ]
  },
  {
   "cell_type": "code",
   "execution_count": null,
   "id": "HFpfYOLYP9kU",
   "metadata": {
    "id": "HFpfYOLYP9kU"
   },
   "outputs": [],
   "source": [
    "rf_clf_model = dtree_clf_random_search.best_estimator_"
   ]
  },
  {
   "cell_type": "code",
   "execution_count": null,
   "id": "Bh-PgOwxP9ka",
   "metadata": {
    "id": "Bh-PgOwxP9ka"
   },
   "outputs": [],
   "source": [
    "rf_clf_model.fit(X_train,Y_train)\n",
    "Y_predict = rf_clf_model.predict(X_test)"
   ]
  },
  {
   "cell_type": "code",
   "execution_count": null,
   "id": "nStYqhlYP9ka",
   "metadata": {
    "colab": {
     "base_uri": "https://localhost:8080/"
    },
    "id": "nStYqhlYP9ka",
    "outputId": "f5d08b8e-5472-4602-d5ea-a5a80876c311",
    "scrolled": true
   },
   "outputs": [
    {
     "data": {
      "text/plain": [
       "array([[3363,  378],\n",
       "       [ 475, 1784]])"
      ]
     },
     "execution_count": 117,
     "metadata": {},
     "output_type": "execute_result"
    }
   ],
   "source": [
    "confusion_matrix(Y_test,Y_predict)"
   ]
  },
  {
   "cell_type": "code",
   "execution_count": null,
   "id": "HGC0-QRAP9kb",
   "metadata": {
    "colab": {
     "base_uri": "https://localhost:8080/"
    },
    "id": "HGC0-QRAP9kb",
    "outputId": "3a13c15a-ac83-4305-edb0-e7aba0688138",
    "scrolled": true
   },
   "outputs": [
    {
     "name": "stdout",
     "output_type": "stream",
     "text": [
      "              precision    recall  f1-score   support\n",
      "\n",
      "           0       0.88      0.90      0.89      3741\n",
      "           1       0.83      0.79      0.81      2259\n",
      "\n",
      "    accuracy                           0.86      6000\n",
      "   macro avg       0.85      0.84      0.85      6000\n",
      "weighted avg       0.86      0.86      0.86      6000\n",
      "\n"
     ]
    }
   ],
   "source": [
    "print(classification_report(Y_test,Y_predict))"
   ]
  },
  {
   "cell_type": "code",
   "execution_count": null,
   "id": "M6_go2RtP9kb",
   "metadata": {
    "colab": {
     "base_uri": "https://localhost:8080/"
    },
    "id": "M6_go2RtP9kb",
    "outputId": "6f210cc5-3f06-449e-cca9-24ed7e2aa85c",
    "scrolled": true
   },
   "outputs": [
    {
     "data": {
      "text/plain": [
       "0.8070572268717485"
      ]
     },
     "execution_count": 119,
     "metadata": {},
     "output_type": "execute_result"
    }
   ],
   "source": [
    "f1_score(Y_test,Y_predict)"
   ]
  },
  {
   "cell_type": "code",
   "execution_count": null,
   "id": "rB2mt0-bP9kb",
   "metadata": {
    "id": "rB2mt0-bP9kb"
   },
   "outputs": [],
   "source": [
    "Y_predict_prob = rf_clf_model.predict_proba(X_test)"
   ]
  },
  {
   "cell_type": "code",
   "execution_count": null,
   "id": "Y0BDv_Q9P9kb",
   "metadata": {
    "colab": {
     "base_uri": "https://localhost:8080/"
    },
    "id": "Y0BDv_Q9P9kb",
    "outputId": "aeedc9be-83cc-43f0-fd82-ea67f595fbbc"
   },
   "outputs": [
    {
     "data": {
      "text/plain": [
       "0.4450450450450451"
      ]
     },
     "execution_count": 121,
     "metadata": {},
     "output_type": "execute_result"
    }
   ],
   "source": [
    "Threshold_Finder(Y_test,Y_predict_prob)"
   ]
  },
  {
   "cell_type": "code",
   "execution_count": null,
   "id": "wX6kpYxBP9kb",
   "metadata": {
    "colab": {
     "base_uri": "https://localhost:8080/"
    },
    "id": "wX6kpYxBP9kb",
    "outputId": "fe3c3fa5-c65f-41c8-c869-09d202e3ee6e",
    "scrolled": true
   },
   "outputs": [
    {
     "name": "stdout",
     "output_type": "stream",
     "text": [
      "              precision    recall  f1-score   support\n",
      "\n",
      "           0       0.88      0.89      0.89      3741\n",
      "           1       0.82      0.80      0.81      2259\n",
      "\n",
      "    accuracy                           0.86      6000\n",
      "   macro avg       0.85      0.85      0.85      6000\n",
      "weighted avg       0.86      0.86      0.86      6000\n",
      "\n"
     ]
    }
   ],
   "source": [
    "Y_predict = Y_predict_prob[:,1] > Threshold_Finder(Y_test,Y_predict_prob)\n",
    "print(classification_report(Y_test,Y_predict))"
   ]
  },
  {
   "cell_type": "code",
   "execution_count": null,
   "id": "tgQaoxvaOQnj",
   "metadata": {
    "colab": {
     "base_uri": "https://localhost:8080/"
    },
    "id": "tgQaoxvaOQnj",
    "outputId": "e7dc2d42-dd9e-4a6c-c1a9-6215657ef09b"
   },
   "outputs": [
    {
     "name": "stdout",
     "output_type": "stream",
     "text": [
      "0:\tlearn: 0.4910770\ttotal: 18.2ms\tremaining: 12.7s\n",
      "1:\tlearn: 0.4631929\ttotal: 38.5ms\tremaining: 13.4s\n",
      "2:\tlearn: 0.4439984\ttotal: 49.3ms\tremaining: 11.5s\n",
      "3:\tlearn: 0.4326397\ttotal: 63ms\tremaining: 11s\n",
      "4:\tlearn: 0.4267872\ttotal: 73.5ms\tremaining: 10.2s\n",
      "5:\tlearn: 0.4221899\ttotal: 83.2ms\tremaining: 9.62s\n",
      "6:\tlearn: 0.4192316\ttotal: 98.6ms\tremaining: 9.76s\n",
      "7:\tlearn: 0.4183684\ttotal: 112ms\tremaining: 9.64s\n",
      "8:\tlearn: 0.4124583\ttotal: 127ms\tremaining: 9.78s\n",
      "9:\tlearn: 0.4108027\ttotal: 140ms\tremaining: 9.63s\n",
      "10:\tlearn: 0.4096621\ttotal: 146ms\tremaining: 9.12s\n",
      "11:\tlearn: 0.4084841\ttotal: 151ms\tremaining: 8.64s\n",
      "12:\tlearn: 0.4064864\ttotal: 156ms\tremaining: 8.23s\n",
      "13:\tlearn: 0.4056487\ttotal: 161ms\tremaining: 7.91s\n",
      "14:\tlearn: 0.4043958\ttotal: 167ms\tremaining: 7.63s\n",
      "15:\tlearn: 0.4037841\ttotal: 173ms\tremaining: 7.38s\n",
      "16:\tlearn: 0.4033970\ttotal: 179ms\tremaining: 7.18s\n",
      "17:\tlearn: 0.4029414\ttotal: 184ms\tremaining: 6.99s\n",
      "18:\tlearn: 0.4021635\ttotal: 190ms\tremaining: 6.82s\n",
      "19:\tlearn: 0.4018177\ttotal: 196ms\tremaining: 6.67s\n",
      "20:\tlearn: 0.4015770\ttotal: 203ms\tremaining: 6.56s\n",
      "21:\tlearn: 0.4010789\ttotal: 209ms\tremaining: 6.43s\n",
      "22:\tlearn: 0.4008135\ttotal: 219ms\tremaining: 6.44s\n",
      "23:\tlearn: 0.4004247\ttotal: 225ms\tremaining: 6.33s\n",
      "24:\tlearn: 0.4001183\ttotal: 231ms\tremaining: 6.22s\n",
      "25:\tlearn: 0.3998474\ttotal: 236ms\tremaining: 6.13s\n",
      "26:\tlearn: 0.3976896\ttotal: 242ms\tremaining: 6.03s\n",
      "27:\tlearn: 0.3969053\ttotal: 248ms\tremaining: 5.96s\n",
      "28:\tlearn: 0.3966695\ttotal: 255ms\tremaining: 5.89s\n",
      "29:\tlearn: 0.3962775\ttotal: 260ms\tremaining: 5.81s\n",
      "30:\tlearn: 0.3960769\ttotal: 266ms\tremaining: 5.75s\n",
      "31:\tlearn: 0.3946181\ttotal: 272ms\tremaining: 5.68s\n",
      "32:\tlearn: 0.3943634\ttotal: 278ms\tremaining: 5.62s\n",
      "33:\tlearn: 0.3935452\ttotal: 284ms\tremaining: 5.57s\n",
      "34:\tlearn: 0.3930959\ttotal: 290ms\tremaining: 5.52s\n",
      "35:\tlearn: 0.3927585\ttotal: 296ms\tremaining: 5.46s\n",
      "36:\tlearn: 0.3924132\ttotal: 303ms\tremaining: 5.42s\n",
      "37:\tlearn: 0.3921591\ttotal: 309ms\tremaining: 5.37s\n",
      "38:\tlearn: 0.3915605\ttotal: 315ms\tremaining: 5.33s\n",
      "39:\tlearn: 0.3912388\ttotal: 320ms\tremaining: 5.29s\n",
      "40:\tlearn: 0.3893632\ttotal: 326ms\tremaining: 5.25s\n",
      "41:\tlearn: 0.3891527\ttotal: 332ms\tremaining: 5.2s\n",
      "42:\tlearn: 0.3888965\ttotal: 338ms\tremaining: 5.16s\n",
      "43:\tlearn: 0.3884438\ttotal: 343ms\tremaining: 5.12s\n",
      "44:\tlearn: 0.3882832\ttotal: 349ms\tremaining: 5.08s\n",
      "45:\tlearn: 0.3871225\ttotal: 355ms\tremaining: 5.05s\n",
      "46:\tlearn: 0.3868945\ttotal: 361ms\tremaining: 5.02s\n",
      "47:\tlearn: 0.3865732\ttotal: 367ms\tremaining: 4.99s\n",
      "48:\tlearn: 0.3862655\ttotal: 373ms\tremaining: 4.95s\n",
      "49:\tlearn: 0.3860051\ttotal: 379ms\tremaining: 4.92s\n",
      "50:\tlearn: 0.3858744\ttotal: 385ms\tremaining: 4.89s\n",
      "51:\tlearn: 0.3856158\ttotal: 390ms\tremaining: 4.86s\n",
      "52:\tlearn: 0.3852910\ttotal: 396ms\tremaining: 4.84s\n",
      "53:\tlearn: 0.3850419\ttotal: 402ms\tremaining: 4.81s\n",
      "54:\tlearn: 0.3843586\ttotal: 408ms\tremaining: 4.78s\n",
      "55:\tlearn: 0.3841395\ttotal: 416ms\tremaining: 4.78s\n",
      "56:\tlearn: 0.3838860\ttotal: 423ms\tremaining: 4.77s\n",
      "57:\tlearn: 0.3836761\ttotal: 428ms\tremaining: 4.74s\n",
      "58:\tlearn: 0.3834907\ttotal: 434ms\tremaining: 4.72s\n",
      "59:\tlearn: 0.3832471\ttotal: 440ms\tremaining: 4.7s\n",
      "60:\tlearn: 0.3829801\ttotal: 446ms\tremaining: 4.67s\n",
      "61:\tlearn: 0.3828517\ttotal: 453ms\tremaining: 4.66s\n",
      "62:\tlearn: 0.3825769\ttotal: 459ms\tremaining: 4.64s\n",
      "63:\tlearn: 0.3822776\ttotal: 465ms\tremaining: 4.62s\n",
      "64:\tlearn: 0.3798758\ttotal: 470ms\tremaining: 4.59s\n",
      "65:\tlearn: 0.3792174\ttotal: 476ms\tremaining: 4.57s\n",
      "66:\tlearn: 0.3789210\ttotal: 482ms\tremaining: 4.55s\n",
      "67:\tlearn: 0.3786329\ttotal: 488ms\tremaining: 4.53s\n",
      "68:\tlearn: 0.3782488\ttotal: 493ms\tremaining: 4.51s\n",
      "69:\tlearn: 0.3780171\ttotal: 499ms\tremaining: 4.5s\n",
      "70:\tlearn: 0.3778217\ttotal: 505ms\tremaining: 4.47s\n",
      "71:\tlearn: 0.3775320\ttotal: 511ms\tremaining: 4.45s\n",
      "72:\tlearn: 0.3772099\ttotal: 516ms\tremaining: 4.43s\n",
      "73:\tlearn: 0.3768200\ttotal: 522ms\tremaining: 4.42s\n",
      "74:\tlearn: 0.3765876\ttotal: 528ms\tremaining: 4.4s\n",
      "75:\tlearn: 0.3763359\ttotal: 534ms\tremaining: 4.38s\n",
      "76:\tlearn: 0.3761153\ttotal: 540ms\tremaining: 4.37s\n",
      "77:\tlearn: 0.3759745\ttotal: 545ms\tremaining: 4.35s\n",
      "78:\tlearn: 0.3757564\ttotal: 551ms\tremaining: 4.33s\n",
      "79:\tlearn: 0.3754869\ttotal: 557ms\tremaining: 4.32s\n",
      "80:\tlearn: 0.3753268\ttotal: 564ms\tremaining: 4.31s\n",
      "81:\tlearn: 0.3751854\ttotal: 570ms\tremaining: 4.29s\n",
      "82:\tlearn: 0.3749969\ttotal: 575ms\tremaining: 4.27s\n",
      "83:\tlearn: 0.3747773\ttotal: 583ms\tremaining: 4.27s\n",
      "84:\tlearn: 0.3745843\ttotal: 599ms\tremaining: 4.33s\n",
      "85:\tlearn: 0.3742566\ttotal: 614ms\tremaining: 4.38s\n",
      "86:\tlearn: 0.3740682\ttotal: 620ms\tremaining: 4.37s\n",
      "87:\tlearn: 0.3737418\ttotal: 626ms\tremaining: 4.35s\n",
      "88:\tlearn: 0.3736535\ttotal: 631ms\tremaining: 4.33s\n",
      "89:\tlearn: 0.3734270\ttotal: 637ms\tremaining: 4.32s\n",
      "90:\tlearn: 0.3732168\ttotal: 644ms\tremaining: 4.31s\n",
      "91:\tlearn: 0.3730580\ttotal: 650ms\tremaining: 4.3s\n",
      "92:\tlearn: 0.3728258\ttotal: 656ms\tremaining: 4.28s\n",
      "93:\tlearn: 0.3726079\ttotal: 662ms\tremaining: 4.27s\n",
      "94:\tlearn: 0.3721532\ttotal: 668ms\tremaining: 4.25s\n",
      "95:\tlearn: 0.3719337\ttotal: 673ms\tremaining: 4.24s\n",
      "96:\tlearn: 0.3717391\ttotal: 679ms\tremaining: 4.22s\n",
      "97:\tlearn: 0.3716166\ttotal: 685ms\tremaining: 4.21s\n",
      "98:\tlearn: 0.3714572\ttotal: 691ms\tremaining: 4.19s\n",
      "99:\tlearn: 0.3712774\ttotal: 696ms\tremaining: 4.18s\n",
      "100:\tlearn: 0.3710323\ttotal: 702ms\tremaining: 4.17s\n",
      "101:\tlearn: 0.3708047\ttotal: 708ms\tremaining: 4.15s\n",
      "102:\tlearn: 0.3698475\ttotal: 713ms\tremaining: 4.13s\n",
      "103:\tlearn: 0.3695923\ttotal: 719ms\tremaining: 4.12s\n",
      "104:\tlearn: 0.3693645\ttotal: 725ms\tremaining: 4.11s\n",
      "105:\tlearn: 0.3691689\ttotal: 731ms\tremaining: 4.09s\n",
      "106:\tlearn: 0.3690129\ttotal: 736ms\tremaining: 4.08s\n",
      "107:\tlearn: 0.3687825\ttotal: 742ms\tremaining: 4.07s\n",
      "108:\tlearn: 0.3685207\ttotal: 748ms\tremaining: 4.06s\n",
      "109:\tlearn: 0.3682668\ttotal: 755ms\tremaining: 4.05s\n",
      "110:\tlearn: 0.3680459\ttotal: 761ms\tremaining: 4.04s\n",
      "111:\tlearn: 0.3677815\ttotal: 767ms\tremaining: 4.03s\n",
      "112:\tlearn: 0.3675428\ttotal: 772ms\tremaining: 4.01s\n",
      "113:\tlearn: 0.3673330\ttotal: 778ms\tremaining: 4s\n",
      "114:\tlearn: 0.3671057\ttotal: 784ms\tremaining: 3.99s\n",
      "115:\tlearn: 0.3669518\ttotal: 790ms\tremaining: 3.98s\n",
      "116:\tlearn: 0.3667826\ttotal: 795ms\tremaining: 3.96s\n",
      "117:\tlearn: 0.3666668\ttotal: 801ms\tremaining: 3.95s\n",
      "118:\tlearn: 0.3665693\ttotal: 806ms\tremaining: 3.94s\n",
      "119:\tlearn: 0.3664137\ttotal: 817ms\tremaining: 3.95s\n",
      "120:\tlearn: 0.3661569\ttotal: 823ms\tremaining: 3.94s\n",
      "121:\tlearn: 0.3659631\ttotal: 829ms\tremaining: 3.93s\n",
      "122:\tlearn: 0.3654580\ttotal: 835ms\tremaining: 3.92s\n",
      "123:\tlearn: 0.3653178\ttotal: 840ms\tremaining: 3.9s\n",
      "124:\tlearn: 0.3651556\ttotal: 846ms\tremaining: 3.89s\n",
      "125:\tlearn: 0.3650175\ttotal: 852ms\tremaining: 3.88s\n",
      "126:\tlearn: 0.3647554\ttotal: 858ms\tremaining: 3.87s\n",
      "127:\tlearn: 0.3646159\ttotal: 864ms\tremaining: 3.86s\n",
      "128:\tlearn: 0.3644300\ttotal: 869ms\tremaining: 3.85s\n",
      "129:\tlearn: 0.3643346\ttotal: 875ms\tremaining: 3.84s\n",
      "130:\tlearn: 0.3640009\ttotal: 881ms\tremaining: 3.83s\n",
      "131:\tlearn: 0.3638959\ttotal: 887ms\tremaining: 3.82s\n",
      "132:\tlearn: 0.3637599\ttotal: 893ms\tremaining: 3.81s\n",
      "133:\tlearn: 0.3634811\ttotal: 899ms\tremaining: 3.8s\n",
      "134:\tlearn: 0.3633009\ttotal: 904ms\tremaining: 3.78s\n",
      "135:\tlearn: 0.3630994\ttotal: 910ms\tremaining: 3.77s\n",
      "136:\tlearn: 0.3629627\ttotal: 915ms\tremaining: 3.76s\n",
      "137:\tlearn: 0.3627506\ttotal: 921ms\tremaining: 3.75s\n",
      "138:\tlearn: 0.3626165\ttotal: 927ms\tremaining: 3.74s\n",
      "139:\tlearn: 0.3624692\ttotal: 934ms\tremaining: 3.73s\n",
      "140:\tlearn: 0.3623186\ttotal: 939ms\tremaining: 3.72s\n",
      "141:\tlearn: 0.3622517\ttotal: 945ms\tremaining: 3.71s\n",
      "142:\tlearn: 0.3621898\ttotal: 951ms\tremaining: 3.7s\n",
      "143:\tlearn: 0.3619166\ttotal: 957ms\tremaining: 3.69s\n",
      "144:\tlearn: 0.3617756\ttotal: 963ms\tremaining: 3.69s\n",
      "145:\tlearn: 0.3616544\ttotal: 969ms\tremaining: 3.68s\n",
      "146:\tlearn: 0.3612616\ttotal: 977ms\tremaining: 3.67s\n",
      "147:\tlearn: 0.3611570\ttotal: 982ms\tremaining: 3.66s\n",
      "148:\tlearn: 0.3609737\ttotal: 989ms\tremaining: 3.66s\n",
      "149:\tlearn: 0.3607464\ttotal: 995ms\tremaining: 3.65s\n",
      "150:\tlearn: 0.3605866\ttotal: 1s\tremaining: 3.64s\n",
      "151:\tlearn: 0.3604770\ttotal: 1.01s\tremaining: 3.63s\n",
      "152:\tlearn: 0.3603030\ttotal: 1.01s\tremaining: 3.63s\n",
      "153:\tlearn: 0.3600840\ttotal: 1.02s\tremaining: 3.62s\n",
      "154:\tlearn: 0.3598921\ttotal: 1.03s\tremaining: 3.61s\n",
      "155:\tlearn: 0.3597064\ttotal: 1.03s\tremaining: 3.61s\n",
      "156:\tlearn: 0.3596606\ttotal: 1.04s\tremaining: 3.6s\n",
      "157:\tlearn: 0.3595500\ttotal: 1.04s\tremaining: 3.59s\n",
      "158:\tlearn: 0.3593880\ttotal: 1.05s\tremaining: 3.58s\n",
      "159:\tlearn: 0.3591853\ttotal: 1.06s\tremaining: 3.57s\n",
      "160:\tlearn: 0.3590220\ttotal: 1.06s\tremaining: 3.56s\n",
      "161:\tlearn: 0.3588449\ttotal: 1.07s\tremaining: 3.56s\n",
      "162:\tlearn: 0.3585931\ttotal: 1.08s\tremaining: 3.55s\n",
      "163:\tlearn: 0.3583732\ttotal: 1.08s\tremaining: 3.54s\n",
      "164:\tlearn: 0.3581072\ttotal: 1.09s\tremaining: 3.53s\n",
      "165:\tlearn: 0.3579991\ttotal: 1.09s\tremaining: 3.52s\n",
      "166:\tlearn: 0.3577876\ttotal: 1.1s\tremaining: 3.51s\n",
      "167:\tlearn: 0.3576061\ttotal: 1.1s\tremaining: 3.5s\n",
      "168:\tlearn: 0.3574665\ttotal: 1.12s\tremaining: 3.51s\n",
      "169:\tlearn: 0.3573364\ttotal: 1.12s\tremaining: 3.51s\n",
      "170:\tlearn: 0.3572155\ttotal: 1.13s\tremaining: 3.5s\n",
      "171:\tlearn: 0.3571226\ttotal: 1.14s\tremaining: 3.49s\n",
      "172:\tlearn: 0.3569175\ttotal: 1.14s\tremaining: 3.48s\n",
      "173:\tlearn: 0.3567929\ttotal: 1.15s\tremaining: 3.47s\n",
      "174:\tlearn: 0.3565818\ttotal: 1.15s\tremaining: 3.46s\n",
      "175:\tlearn: 0.3565302\ttotal: 1.16s\tremaining: 3.46s\n",
      "176:\tlearn: 0.3562811\ttotal: 1.17s\tremaining: 3.45s\n",
      "177:\tlearn: 0.3562144\ttotal: 1.17s\tremaining: 3.44s\n",
      "178:\tlearn: 0.3560100\ttotal: 1.18s\tremaining: 3.43s\n",
      "179:\tlearn: 0.3558349\ttotal: 1.19s\tremaining: 3.42s\n",
      "180:\tlearn: 0.3556858\ttotal: 1.19s\tremaining: 3.42s\n",
      "181:\tlearn: 0.3554658\ttotal: 1.2s\tremaining: 3.4s\n",
      "182:\tlearn: 0.3553210\ttotal: 1.2s\tremaining: 3.4s\n",
      "183:\tlearn: 0.3552653\ttotal: 1.21s\tremaining: 3.39s\n",
      "184:\tlearn: 0.3550694\ttotal: 1.22s\tremaining: 3.39s\n",
      "185:\tlearn: 0.3549628\ttotal: 1.22s\tremaining: 3.38s\n",
      "186:\tlearn: 0.3547891\ttotal: 1.23s\tremaining: 3.37s\n",
      "187:\tlearn: 0.3546269\ttotal: 1.23s\tremaining: 3.36s\n",
      "188:\tlearn: 0.3545546\ttotal: 1.24s\tremaining: 3.35s\n",
      "189:\tlearn: 0.3543686\ttotal: 1.25s\tremaining: 3.35s\n",
      "190:\tlearn: 0.3541248\ttotal: 1.25s\tremaining: 3.34s\n",
      "191:\tlearn: 0.3540099\ttotal: 1.26s\tremaining: 3.33s\n",
      "192:\tlearn: 0.3537472\ttotal: 1.26s\tremaining: 3.32s\n",
      "193:\tlearn: 0.3534842\ttotal: 1.27s\tremaining: 3.31s\n",
      "194:\tlearn: 0.3532481\ttotal: 1.28s\tremaining: 3.31s\n",
      "195:\tlearn: 0.3530791\ttotal: 1.28s\tremaining: 3.3s\n",
      "196:\tlearn: 0.3529378\ttotal: 1.29s\tremaining: 3.29s\n",
      "197:\tlearn: 0.3528641\ttotal: 1.29s\tremaining: 3.28s\n",
      "198:\tlearn: 0.3526685\ttotal: 1.3s\tremaining: 3.27s\n",
      "199:\tlearn: 0.3524426\ttotal: 1.31s\tremaining: 3.27s\n",
      "200:\tlearn: 0.3523091\ttotal: 1.31s\tremaining: 3.26s\n",
      "201:\tlearn: 0.3522292\ttotal: 1.32s\tremaining: 3.25s\n",
      "202:\tlearn: 0.3521015\ttotal: 1.32s\tremaining: 3.24s\n",
      "203:\tlearn: 0.3519534\ttotal: 1.33s\tremaining: 3.23s\n",
      "204:\tlearn: 0.3518534\ttotal: 1.33s\tremaining: 3.22s\n",
      "205:\tlearn: 0.3517549\ttotal: 1.34s\tremaining: 3.22s\n",
      "206:\tlearn: 0.3516687\ttotal: 1.35s\tremaining: 3.21s\n",
      "207:\tlearn: 0.3514478\ttotal: 1.35s\tremaining: 3.2s\n",
      "208:\tlearn: 0.3513180\ttotal: 1.36s\tremaining: 3.19s\n",
      "209:\tlearn: 0.3511789\ttotal: 1.36s\tremaining: 3.19s\n",
      "210:\tlearn: 0.3509875\ttotal: 1.37s\tremaining: 3.18s\n",
      "211:\tlearn: 0.3508743\ttotal: 1.38s\tremaining: 3.17s\n",
      "212:\tlearn: 0.3507050\ttotal: 1.38s\tremaining: 3.16s\n",
      "213:\tlearn: 0.3506443\ttotal: 1.39s\tremaining: 3.15s\n",
      "214:\tlearn: 0.3503955\ttotal: 1.39s\tremaining: 3.15s\n",
      "215:\tlearn: 0.3502572\ttotal: 1.4s\tremaining: 3.14s\n",
      "216:\tlearn: 0.3500865\ttotal: 1.41s\tremaining: 3.14s\n",
      "217:\tlearn: 0.3499144\ttotal: 1.42s\tremaining: 3.13s\n",
      "218:\tlearn: 0.3498341\ttotal: 1.42s\tremaining: 3.12s\n",
      "219:\tlearn: 0.3496989\ttotal: 1.43s\tremaining: 3.11s\n",
      "220:\tlearn: 0.3495299\ttotal: 1.43s\tremaining: 3.11s\n",
      "221:\tlearn: 0.3493329\ttotal: 1.44s\tremaining: 3.1s\n",
      "222:\tlearn: 0.3492159\ttotal: 1.45s\tremaining: 3.09s\n",
      "223:\tlearn: 0.3491322\ttotal: 1.45s\tremaining: 3.08s\n",
      "224:\tlearn: 0.3490431\ttotal: 1.46s\tremaining: 3.08s\n",
      "225:\tlearn: 0.3489267\ttotal: 1.46s\tremaining: 3.07s\n",
      "226:\tlearn: 0.3488241\ttotal: 1.47s\tremaining: 3.07s\n",
      "227:\tlearn: 0.3486646\ttotal: 1.48s\tremaining: 3.06s\n",
      "228:\tlearn: 0.3484854\ttotal: 1.48s\tremaining: 3.05s\n",
      "229:\tlearn: 0.3483196\ttotal: 1.49s\tremaining: 3.04s\n",
      "230:\tlearn: 0.3482166\ttotal: 1.5s\tremaining: 3.04s\n",
      "231:\tlearn: 0.3480944\ttotal: 1.5s\tremaining: 3.03s\n",
      "232:\tlearn: 0.3480316\ttotal: 1.51s\tremaining: 3.02s\n",
      "233:\tlearn: 0.3479198\ttotal: 1.51s\tremaining: 3.02s\n",
      "234:\tlearn: 0.3478141\ttotal: 1.52s\tremaining: 3.01s\n",
      "235:\tlearn: 0.3476827\ttotal: 1.52s\tremaining: 3s\n",
      "236:\tlearn: 0.3475219\ttotal: 1.53s\tremaining: 2.99s\n",
      "237:\tlearn: 0.3473921\ttotal: 1.54s\tremaining: 2.98s\n",
      "238:\tlearn: 0.3471912\ttotal: 1.54s\tremaining: 2.97s\n",
      "239:\tlearn: 0.3470871\ttotal: 1.55s\tremaining: 2.97s\n",
      "240:\tlearn: 0.3468723\ttotal: 1.55s\tremaining: 2.96s\n",
      "241:\tlearn: 0.3468155\ttotal: 1.56s\tremaining: 2.96s\n",
      "242:\tlearn: 0.3467071\ttotal: 1.57s\tremaining: 2.96s\n",
      "243:\tlearn: 0.3464636\ttotal: 1.59s\tremaining: 2.97s\n",
      "244:\tlearn: 0.3460335\ttotal: 1.6s\tremaining: 2.97s\n",
      "245:\tlearn: 0.3458045\ttotal: 1.6s\tremaining: 2.96s\n",
      "246:\tlearn: 0.3453484\ttotal: 1.61s\tremaining: 2.96s\n",
      "247:\tlearn: 0.3451915\ttotal: 1.62s\tremaining: 2.95s\n",
      "248:\tlearn: 0.3449854\ttotal: 1.62s\tremaining: 2.94s\n",
      "249:\tlearn: 0.3448737\ttotal: 1.63s\tremaining: 2.93s\n",
      "250:\tlearn: 0.3445707\ttotal: 1.64s\tremaining: 2.93s\n",
      "251:\tlearn: 0.3444391\ttotal: 1.64s\tremaining: 2.92s\n",
      "252:\tlearn: 0.3441133\ttotal: 1.65s\tremaining: 2.91s\n",
      "253:\tlearn: 0.3439578\ttotal: 1.65s\tremaining: 2.9s\n",
      "254:\tlearn: 0.3438063\ttotal: 1.66s\tremaining: 2.89s\n",
      "255:\tlearn: 0.3436995\ttotal: 1.66s\tremaining: 2.89s\n",
      "256:\tlearn: 0.3436496\ttotal: 1.67s\tremaining: 2.88s\n",
      "257:\tlearn: 0.3434955\ttotal: 1.68s\tremaining: 2.87s\n",
      "258:\tlearn: 0.3433538\ttotal: 1.68s\tremaining: 2.87s\n",
      "259:\tlearn: 0.3430407\ttotal: 1.69s\tremaining: 2.86s\n",
      "260:\tlearn: 0.3429829\ttotal: 1.7s\tremaining: 2.85s\n",
      "261:\tlearn: 0.3427935\ttotal: 1.7s\tremaining: 2.84s\n",
      "262:\tlearn: 0.3426539\ttotal: 1.71s\tremaining: 2.84s\n",
      "263:\tlearn: 0.3424870\ttotal: 1.71s\tremaining: 2.83s\n",
      "264:\tlearn: 0.3422969\ttotal: 1.72s\tremaining: 2.82s\n",
      "265:\tlearn: 0.3421355\ttotal: 1.73s\tremaining: 2.82s\n",
      "266:\tlearn: 0.3420159\ttotal: 1.73s\tremaining: 2.81s\n",
      "267:\tlearn: 0.3418201\ttotal: 1.74s\tremaining: 2.8s\n",
      "268:\tlearn: 0.3416750\ttotal: 1.74s\tremaining: 2.79s\n",
      "269:\tlearn: 0.3415507\ttotal: 1.75s\tremaining: 2.79s\n",
      "270:\tlearn: 0.3413829\ttotal: 1.75s\tremaining: 2.78s\n",
      "271:\tlearn: 0.3411658\ttotal: 1.76s\tremaining: 2.77s\n",
      "272:\tlearn: 0.3410754\ttotal: 1.77s\tremaining: 2.77s\n",
      "273:\tlearn: 0.3410113\ttotal: 1.77s\tremaining: 2.76s\n",
      "274:\tlearn: 0.3408779\ttotal: 1.78s\tremaining: 2.75s\n",
      "275:\tlearn: 0.3407704\ttotal: 1.79s\tremaining: 2.75s\n",
      "276:\tlearn: 0.3407010\ttotal: 1.79s\tremaining: 2.74s\n",
      "277:\tlearn: 0.3405474\ttotal: 1.8s\tremaining: 2.74s\n",
      "278:\tlearn: 0.3403587\ttotal: 1.81s\tremaining: 2.73s\n",
      "279:\tlearn: 0.3401856\ttotal: 1.81s\tremaining: 2.72s\n",
      "280:\tlearn: 0.3400824\ttotal: 1.82s\tremaining: 2.72s\n",
      "281:\tlearn: 0.3400002\ttotal: 1.83s\tremaining: 2.71s\n",
      "282:\tlearn: 0.3399018\ttotal: 1.83s\tremaining: 2.7s\n",
      "283:\tlearn: 0.3397443\ttotal: 1.84s\tremaining: 2.69s\n",
      "284:\tlearn: 0.3390451\ttotal: 1.84s\tremaining: 2.69s\n",
      "285:\tlearn: 0.3389295\ttotal: 1.85s\tremaining: 2.68s\n",
      "286:\tlearn: 0.3387153\ttotal: 1.86s\tremaining: 2.67s\n",
      "287:\tlearn: 0.3386950\ttotal: 1.86s\tremaining: 2.67s\n",
      "288:\tlearn: 0.3385456\ttotal: 1.87s\tremaining: 2.66s\n",
      "289:\tlearn: 0.3384228\ttotal: 1.88s\tremaining: 2.65s\n",
      "290:\tlearn: 0.3382203\ttotal: 1.88s\tremaining: 2.65s\n",
      "291:\tlearn: 0.3381214\ttotal: 1.89s\tremaining: 2.64s\n",
      "292:\tlearn: 0.3379326\ttotal: 1.89s\tremaining: 2.63s\n",
      "293:\tlearn: 0.3376314\ttotal: 1.9s\tremaining: 2.63s\n",
      "294:\tlearn: 0.3374471\ttotal: 1.91s\tremaining: 2.62s\n",
      "295:\tlearn: 0.3373073\ttotal: 1.91s\tremaining: 2.61s\n",
      "296:\tlearn: 0.3369997\ttotal: 1.92s\tremaining: 2.6s\n",
      "297:\tlearn: 0.3368637\ttotal: 1.92s\tremaining: 2.6s\n",
      "298:\tlearn: 0.3366389\ttotal: 1.93s\tremaining: 2.59s\n",
      "299:\tlearn: 0.3364602\ttotal: 1.94s\tremaining: 2.58s\n",
      "300:\tlearn: 0.3363744\ttotal: 1.94s\tremaining: 2.57s\n",
      "301:\tlearn: 0.3361472\ttotal: 1.95s\tremaining: 2.57s\n",
      "302:\tlearn: 0.3359894\ttotal: 1.95s\tremaining: 2.56s\n",
      "303:\tlearn: 0.3358134\ttotal: 1.96s\tremaining: 2.55s\n",
      "304:\tlearn: 0.3355738\ttotal: 1.96s\tremaining: 2.54s\n",
      "305:\tlearn: 0.3354919\ttotal: 1.97s\tremaining: 2.54s\n",
      "306:\tlearn: 0.3353502\ttotal: 1.98s\tremaining: 2.53s\n",
      "307:\tlearn: 0.3351680\ttotal: 1.98s\tremaining: 2.52s\n",
      "308:\tlearn: 0.3350066\ttotal: 1.99s\tremaining: 2.52s\n",
      "309:\tlearn: 0.3349121\ttotal: 2s\tremaining: 2.51s\n",
      "310:\tlearn: 0.3348558\ttotal: 2.01s\tremaining: 2.51s\n",
      "311:\tlearn: 0.3347683\ttotal: 2.01s\tremaining: 2.5s\n",
      "312:\tlearn: 0.3346003\ttotal: 2.02s\tremaining: 2.5s\n",
      "313:\tlearn: 0.3343664\ttotal: 2.03s\tremaining: 2.49s\n",
      "314:\tlearn: 0.3342411\ttotal: 2.03s\tremaining: 2.49s\n",
      "315:\tlearn: 0.3341060\ttotal: 2.04s\tremaining: 2.48s\n",
      "316:\tlearn: 0.3339404\ttotal: 2.05s\tremaining: 2.47s\n",
      "317:\tlearn: 0.3337827\ttotal: 2.05s\tremaining: 2.46s\n",
      "318:\tlearn: 0.3336158\ttotal: 2.06s\tremaining: 2.46s\n",
      "319:\tlearn: 0.3334593\ttotal: 2.06s\tremaining: 2.45s\n",
      "320:\tlearn: 0.3333360\ttotal: 2.07s\tremaining: 2.44s\n",
      "321:\tlearn: 0.3332505\ttotal: 2.08s\tremaining: 2.44s\n",
      "322:\tlearn: 0.3328387\ttotal: 2.08s\tremaining: 2.43s\n",
      "323:\tlearn: 0.3326627\ttotal: 2.09s\tremaining: 2.42s\n",
      "324:\tlearn: 0.3325851\ttotal: 2.09s\tremaining: 2.42s\n",
      "325:\tlearn: 0.3323927\ttotal: 2.1s\tremaining: 2.41s\n",
      "326:\tlearn: 0.3321904\ttotal: 2.1s\tremaining: 2.4s\n",
      "327:\tlearn: 0.3321145\ttotal: 2.11s\tremaining: 2.4s\n",
      "328:\tlearn: 0.3319701\ttotal: 2.12s\tremaining: 2.39s\n",
      "329:\tlearn: 0.3318955\ttotal: 2.12s\tremaining: 2.38s\n",
      "330:\tlearn: 0.3318157\ttotal: 2.13s\tremaining: 2.37s\n",
      "331:\tlearn: 0.3316423\ttotal: 2.13s\tremaining: 2.37s\n",
      "332:\tlearn: 0.3315438\ttotal: 2.14s\tremaining: 2.36s\n",
      "333:\tlearn: 0.3314568\ttotal: 2.15s\tremaining: 2.35s\n",
      "334:\tlearn: 0.3313036\ttotal: 2.15s\tremaining: 2.35s\n",
      "335:\tlearn: 0.3311652\ttotal: 2.16s\tremaining: 2.34s\n",
      "336:\tlearn: 0.3310899\ttotal: 2.17s\tremaining: 2.33s\n",
      "337:\tlearn: 0.3309929\ttotal: 2.17s\tremaining: 2.33s\n",
      "338:\tlearn: 0.3308234\ttotal: 2.18s\tremaining: 2.32s\n",
      "339:\tlearn: 0.3306452\ttotal: 2.18s\tremaining: 2.31s\n",
      "340:\tlearn: 0.3303734\ttotal: 2.19s\tremaining: 2.3s\n",
      "341:\tlearn: 0.3303295\ttotal: 2.19s\tremaining: 2.3s\n",
      "342:\tlearn: 0.3301867\ttotal: 2.2s\tremaining: 2.29s\n",
      "343:\tlearn: 0.3300143\ttotal: 2.21s\tremaining: 2.29s\n",
      "344:\tlearn: 0.3299042\ttotal: 2.21s\tremaining: 2.28s\n",
      "345:\tlearn: 0.3298750\ttotal: 2.22s\tremaining: 2.27s\n",
      "346:\tlearn: 0.3297441\ttotal: 2.23s\tremaining: 2.27s\n",
      "347:\tlearn: 0.3295819\ttotal: 2.23s\tremaining: 2.26s\n",
      "348:\tlearn: 0.3294001\ttotal: 2.24s\tremaining: 2.25s\n",
      "349:\tlearn: 0.3293215\ttotal: 2.24s\tremaining: 2.24s\n",
      "350:\tlearn: 0.3291702\ttotal: 2.25s\tremaining: 2.24s\n",
      "351:\tlearn: 0.3290518\ttotal: 2.26s\tremaining: 2.23s\n",
      "352:\tlearn: 0.3289630\ttotal: 2.26s\tremaining: 2.22s\n",
      "353:\tlearn: 0.3288404\ttotal: 2.27s\tremaining: 2.22s\n",
      "354:\tlearn: 0.3287367\ttotal: 2.27s\tremaining: 2.21s\n",
      "355:\tlearn: 0.3285946\ttotal: 2.28s\tremaining: 2.2s\n",
      "356:\tlearn: 0.3284602\ttotal: 2.29s\tremaining: 2.19s\n",
      "357:\tlearn: 0.3283520\ttotal: 2.29s\tremaining: 2.19s\n",
      "358:\tlearn: 0.3282189\ttotal: 2.3s\tremaining: 2.18s\n",
      "359:\tlearn: 0.3280479\ttotal: 2.3s\tremaining: 2.18s\n",
      "360:\tlearn: 0.3278884\ttotal: 2.31s\tremaining: 2.17s\n",
      "361:\tlearn: 0.3277155\ttotal: 2.31s\tremaining: 2.16s\n",
      "362:\tlearn: 0.3276332\ttotal: 2.32s\tremaining: 2.15s\n",
      "363:\tlearn: 0.3275556\ttotal: 2.33s\tremaining: 2.15s\n",
      "364:\tlearn: 0.3273996\ttotal: 2.33s\tremaining: 2.14s\n",
      "365:\tlearn: 0.3273299\ttotal: 2.34s\tremaining: 2.13s\n",
      "366:\tlearn: 0.3271126\ttotal: 2.34s\tremaining: 2.13s\n",
      "367:\tlearn: 0.3269859\ttotal: 2.35s\tremaining: 2.12s\n",
      "368:\tlearn: 0.3268726\ttotal: 2.36s\tremaining: 2.11s\n",
      "369:\tlearn: 0.3266813\ttotal: 2.36s\tremaining: 2.11s\n",
      "370:\tlearn: 0.3265374\ttotal: 2.37s\tremaining: 2.1s\n",
      "371:\tlearn: 0.3264142\ttotal: 2.37s\tremaining: 2.09s\n",
      "372:\tlearn: 0.3263167\ttotal: 2.38s\tremaining: 2.09s\n",
      "373:\tlearn: 0.3262442\ttotal: 2.38s\tremaining: 2.08s\n",
      "374:\tlearn: 0.3261336\ttotal: 2.39s\tremaining: 2.07s\n",
      "375:\tlearn: 0.3260577\ttotal: 2.4s\tremaining: 2.07s\n",
      "376:\tlearn: 0.3259287\ttotal: 2.41s\tremaining: 2.06s\n",
      "377:\tlearn: 0.3257989\ttotal: 2.41s\tremaining: 2.05s\n",
      "378:\tlearn: 0.3256626\ttotal: 2.42s\tremaining: 2.05s\n",
      "379:\tlearn: 0.3255729\ttotal: 2.42s\tremaining: 2.04s\n",
      "380:\tlearn: 0.3253985\ttotal: 2.43s\tremaining: 2.03s\n",
      "381:\tlearn: 0.3252614\ttotal: 2.43s\tremaining: 2.03s\n",
      "382:\tlearn: 0.3250807\ttotal: 2.44s\tremaining: 2.02s\n",
      "383:\tlearn: 0.3249084\ttotal: 2.44s\tremaining: 2.01s\n",
      "384:\tlearn: 0.3247596\ttotal: 2.45s\tremaining: 2s\n",
      "385:\tlearn: 0.3246587\ttotal: 2.46s\tremaining: 2s\n",
      "386:\tlearn: 0.3245373\ttotal: 2.46s\tremaining: 1.99s\n",
      "387:\tlearn: 0.3243589\ttotal: 2.47s\tremaining: 1.99s\n",
      "388:\tlearn: 0.3242204\ttotal: 2.48s\tremaining: 1.98s\n",
      "389:\tlearn: 0.3241486\ttotal: 2.48s\tremaining: 1.97s\n",
      "390:\tlearn: 0.3240305\ttotal: 2.49s\tremaining: 1.97s\n",
      "391:\tlearn: 0.3238204\ttotal: 2.5s\tremaining: 1.96s\n",
      "392:\tlearn: 0.3237033\ttotal: 2.5s\tremaining: 1.95s\n",
      "393:\tlearn: 0.3235881\ttotal: 2.51s\tremaining: 1.95s\n",
      "394:\tlearn: 0.3233924\ttotal: 2.51s\tremaining: 1.94s\n",
      "395:\tlearn: 0.3232619\ttotal: 2.52s\tremaining: 1.93s\n",
      "396:\tlearn: 0.3230973\ttotal: 2.52s\tremaining: 1.93s\n",
      "397:\tlearn: 0.3229454\ttotal: 2.53s\tremaining: 1.92s\n",
      "398:\tlearn: 0.3228600\ttotal: 2.53s\tremaining: 1.91s\n",
      "399:\tlearn: 0.3227682\ttotal: 2.54s\tremaining: 1.91s\n",
      "400:\tlearn: 0.3227129\ttotal: 2.54s\tremaining: 1.9s\n",
      "401:\tlearn: 0.3225860\ttotal: 2.55s\tremaining: 1.89s\n",
      "402:\tlearn: 0.3225178\ttotal: 2.56s\tremaining: 1.89s\n",
      "403:\tlearn: 0.3223139\ttotal: 2.58s\tremaining: 1.89s\n",
      "404:\tlearn: 0.3220991\ttotal: 2.59s\tremaining: 1.88s\n",
      "405:\tlearn: 0.3220185\ttotal: 2.59s\tremaining: 1.88s\n",
      "406:\tlearn: 0.3218879\ttotal: 2.6s\tremaining: 1.87s\n",
      "407:\tlearn: 0.3218018\ttotal: 2.61s\tremaining: 1.87s\n",
      "408:\tlearn: 0.3217227\ttotal: 2.61s\tremaining: 1.86s\n",
      "409:\tlearn: 0.3216731\ttotal: 2.62s\tremaining: 1.85s\n",
      "410:\tlearn: 0.3215980\ttotal: 2.63s\tremaining: 1.85s\n",
      "411:\tlearn: 0.3213701\ttotal: 2.63s\tremaining: 1.84s\n",
      "412:\tlearn: 0.3211978\ttotal: 2.64s\tremaining: 1.83s\n",
      "413:\tlearn: 0.3210386\ttotal: 2.64s\tremaining: 1.83s\n",
      "414:\tlearn: 0.3209447\ttotal: 2.65s\tremaining: 1.82s\n",
      "415:\tlearn: 0.3208353\ttotal: 2.65s\tremaining: 1.81s\n",
      "416:\tlearn: 0.3207892\ttotal: 2.66s\tremaining: 1.8s\n",
      "417:\tlearn: 0.3206776\ttotal: 2.67s\tremaining: 1.8s\n",
      "418:\tlearn: 0.3205067\ttotal: 2.67s\tremaining: 1.79s\n",
      "419:\tlearn: 0.3204068\ttotal: 2.68s\tremaining: 1.78s\n",
      "420:\tlearn: 0.3202017\ttotal: 2.68s\tremaining: 1.78s\n",
      "421:\tlearn: 0.3201435\ttotal: 2.69s\tremaining: 1.77s\n",
      "422:\tlearn: 0.3201050\ttotal: 2.69s\tremaining: 1.76s\n",
      "423:\tlearn: 0.3199340\ttotal: 2.7s\tremaining: 1.76s\n",
      "424:\tlearn: 0.3198465\ttotal: 2.71s\tremaining: 1.75s\n",
      "425:\tlearn: 0.3197401\ttotal: 2.71s\tremaining: 1.75s\n",
      "426:\tlearn: 0.3196504\ttotal: 2.72s\tremaining: 1.74s\n",
      "427:\tlearn: 0.3194920\ttotal: 2.73s\tremaining: 1.73s\n",
      "428:\tlearn: 0.3194009\ttotal: 2.73s\tremaining: 1.73s\n",
      "429:\tlearn: 0.3193093\ttotal: 2.74s\tremaining: 1.72s\n",
      "430:\tlearn: 0.3191806\ttotal: 2.74s\tremaining: 1.71s\n",
      "431:\tlearn: 0.3190584\ttotal: 2.75s\tremaining: 1.71s\n",
      "432:\tlearn: 0.3189317\ttotal: 2.75s\tremaining: 1.7s\n",
      "433:\tlearn: 0.3188202\ttotal: 2.76s\tremaining: 1.69s\n",
      "434:\tlearn: 0.3186673\ttotal: 2.77s\tremaining: 1.69s\n",
      "435:\tlearn: 0.3185781\ttotal: 2.77s\tremaining: 1.68s\n",
      "436:\tlearn: 0.3184665\ttotal: 2.78s\tremaining: 1.67s\n",
      "437:\tlearn: 0.3182959\ttotal: 2.78s\tremaining: 1.67s\n",
      "438:\tlearn: 0.3181535\ttotal: 2.79s\tremaining: 1.66s\n",
      "439:\tlearn: 0.3180877\ttotal: 2.8s\tremaining: 1.65s\n",
      "440:\tlearn: 0.3179416\ttotal: 2.8s\tremaining: 1.65s\n",
      "441:\tlearn: 0.3177690\ttotal: 2.81s\tremaining: 1.64s\n",
      "442:\tlearn: 0.3176879\ttotal: 2.81s\tremaining: 1.63s\n",
      "443:\tlearn: 0.3175104\ttotal: 2.82s\tremaining: 1.63s\n",
      "444:\tlearn: 0.3173871\ttotal: 2.83s\tremaining: 1.62s\n",
      "445:\tlearn: 0.3172246\ttotal: 2.83s\tremaining: 1.61s\n",
      "446:\tlearn: 0.3171369\ttotal: 2.84s\tremaining: 1.61s\n",
      "447:\tlearn: 0.3170742\ttotal: 2.84s\tremaining: 1.6s\n",
      "448:\tlearn: 0.3169638\ttotal: 2.85s\tremaining: 1.59s\n",
      "449:\tlearn: 0.3168597\ttotal: 2.85s\tremaining: 1.59s\n",
      "450:\tlearn: 0.3167565\ttotal: 2.86s\tremaining: 1.58s\n",
      "451:\tlearn: 0.3166501\ttotal: 2.87s\tremaining: 1.57s\n",
      "452:\tlearn: 0.3165117\ttotal: 2.87s\tremaining: 1.57s\n",
      "453:\tlearn: 0.3163809\ttotal: 2.88s\tremaining: 1.56s\n",
      "454:\tlearn: 0.3162940\ttotal: 2.88s\tremaining: 1.55s\n",
      "455:\tlearn: 0.3162345\ttotal: 2.89s\tremaining: 1.55s\n",
      "456:\tlearn: 0.3161885\ttotal: 2.9s\tremaining: 1.54s\n",
      "457:\tlearn: 0.3161021\ttotal: 2.9s\tremaining: 1.53s\n",
      "458:\tlearn: 0.3159947\ttotal: 2.91s\tremaining: 1.53s\n",
      "459:\tlearn: 0.3158616\ttotal: 2.92s\tremaining: 1.52s\n",
      "460:\tlearn: 0.3157285\ttotal: 2.92s\tremaining: 1.51s\n",
      "461:\tlearn: 0.3155643\ttotal: 2.93s\tremaining: 1.51s\n",
      "462:\tlearn: 0.3154125\ttotal: 2.93s\tremaining: 1.5s\n",
      "463:\tlearn: 0.3152679\ttotal: 2.94s\tremaining: 1.5s\n",
      "464:\tlearn: 0.3151682\ttotal: 2.94s\tremaining: 1.49s\n",
      "465:\tlearn: 0.3150701\ttotal: 2.95s\tremaining: 1.48s\n",
      "466:\tlearn: 0.3149066\ttotal: 2.96s\tremaining: 1.48s\n",
      "467:\tlearn: 0.3147669\ttotal: 2.96s\tremaining: 1.47s\n",
      "468:\tlearn: 0.3146910\ttotal: 2.97s\tremaining: 1.46s\n",
      "469:\tlearn: 0.3145954\ttotal: 2.98s\tremaining: 1.46s\n",
      "470:\tlearn: 0.3144072\ttotal: 2.98s\tremaining: 1.45s\n",
      "471:\tlearn: 0.3143543\ttotal: 2.99s\tremaining: 1.45s\n",
      "472:\tlearn: 0.3142962\ttotal: 3s\tremaining: 1.44s\n",
      "473:\tlearn: 0.3142066\ttotal: 3.01s\tremaining: 1.43s\n",
      "474:\tlearn: 0.3141192\ttotal: 3.01s\tremaining: 1.43s\n",
      "475:\tlearn: 0.3139268\ttotal: 3.02s\tremaining: 1.42s\n",
      "476:\tlearn: 0.3137777\ttotal: 3.02s\tremaining: 1.41s\n",
      "477:\tlearn: 0.3136956\ttotal: 3.03s\tremaining: 1.41s\n",
      "478:\tlearn: 0.3135876\ttotal: 3.04s\tremaining: 1.4s\n",
      "479:\tlearn: 0.3135308\ttotal: 3.04s\tremaining: 1.39s\n",
      "480:\tlearn: 0.3134021\ttotal: 3.05s\tremaining: 1.39s\n",
      "481:\tlearn: 0.3132562\ttotal: 3.06s\tremaining: 1.38s\n",
      "482:\tlearn: 0.3131313\ttotal: 3.06s\tremaining: 1.38s\n",
      "483:\tlearn: 0.3129673\ttotal: 3.07s\tremaining: 1.37s\n",
      "484:\tlearn: 0.3128255\ttotal: 3.07s\tremaining: 1.36s\n",
      "485:\tlearn: 0.3126838\ttotal: 3.08s\tremaining: 1.35s\n",
      "486:\tlearn: 0.3124953\ttotal: 3.08s\tremaining: 1.35s\n",
      "487:\tlearn: 0.3123666\ttotal: 3.09s\tremaining: 1.34s\n",
      "488:\tlearn: 0.3122991\ttotal: 3.1s\tremaining: 1.34s\n",
      "489:\tlearn: 0.3121333\ttotal: 3.1s\tremaining: 1.33s\n",
      "490:\tlearn: 0.3120460\ttotal: 3.11s\tremaining: 1.32s\n",
      "491:\tlearn: 0.3119269\ttotal: 3.11s\tremaining: 1.32s\n",
      "492:\tlearn: 0.3117908\ttotal: 3.12s\tremaining: 1.31s\n",
      "493:\tlearn: 0.3116135\ttotal: 3.12s\tremaining: 1.3s\n",
      "494:\tlearn: 0.3114645\ttotal: 3.13s\tremaining: 1.3s\n",
      "495:\tlearn: 0.3113174\ttotal: 3.14s\tremaining: 1.29s\n",
      "496:\tlearn: 0.3112327\ttotal: 3.14s\tremaining: 1.28s\n",
      "497:\tlearn: 0.3110703\ttotal: 3.15s\tremaining: 1.28s\n",
      "498:\tlearn: 0.3108940\ttotal: 3.15s\tremaining: 1.27s\n",
      "499:\tlearn: 0.3107500\ttotal: 3.16s\tremaining: 1.26s\n",
      "500:\tlearn: 0.3106285\ttotal: 3.17s\tremaining: 1.26s\n",
      "501:\tlearn: 0.3104750\ttotal: 3.17s\tremaining: 1.25s\n",
      "502:\tlearn: 0.3103759\ttotal: 3.18s\tremaining: 1.24s\n",
      "503:\tlearn: 0.3102532\ttotal: 3.18s\tremaining: 1.24s\n",
      "504:\tlearn: 0.3101159\ttotal: 3.19s\tremaining: 1.23s\n",
      "505:\tlearn: 0.3100370\ttotal: 3.2s\tremaining: 1.23s\n",
      "506:\tlearn: 0.3098378\ttotal: 3.2s\tremaining: 1.22s\n",
      "507:\tlearn: 0.3096611\ttotal: 3.21s\tremaining: 1.21s\n",
      "508:\tlearn: 0.3095108\ttotal: 3.21s\tremaining: 1.21s\n",
      "509:\tlearn: 0.3093407\ttotal: 3.22s\tremaining: 1.2s\n",
      "510:\tlearn: 0.3092435\ttotal: 3.23s\tremaining: 1.19s\n",
      "511:\tlearn: 0.3091673\ttotal: 3.23s\tremaining: 1.19s\n",
      "512:\tlearn: 0.3090635\ttotal: 3.24s\tremaining: 1.18s\n",
      "513:\tlearn: 0.3088833\ttotal: 3.24s\tremaining: 1.17s\n",
      "514:\tlearn: 0.3087197\ttotal: 3.25s\tremaining: 1.17s\n",
      "515:\tlearn: 0.3086528\ttotal: 3.25s\tremaining: 1.16s\n",
      "516:\tlearn: 0.3085313\ttotal: 3.26s\tremaining: 1.15s\n",
      "517:\tlearn: 0.3084722\ttotal: 3.27s\tremaining: 1.15s\n",
      "518:\tlearn: 0.3083869\ttotal: 3.27s\tremaining: 1.14s\n",
      "519:\tlearn: 0.3082437\ttotal: 3.28s\tremaining: 1.14s\n",
      "520:\tlearn: 0.3082090\ttotal: 3.28s\tremaining: 1.13s\n",
      "521:\tlearn: 0.3080511\ttotal: 3.29s\tremaining: 1.12s\n",
      "522:\tlearn: 0.3079696\ttotal: 3.3s\tremaining: 1.11s\n",
      "523:\tlearn: 0.3078794\ttotal: 3.3s\tremaining: 1.11s\n",
      "524:\tlearn: 0.3078210\ttotal: 3.31s\tremaining: 1.1s\n",
      "525:\tlearn: 0.3076966\ttotal: 3.31s\tremaining: 1.1s\n",
      "526:\tlearn: 0.3075322\ttotal: 3.32s\tremaining: 1.09s\n",
      "527:\tlearn: 0.3074169\ttotal: 3.33s\tremaining: 1.08s\n",
      "528:\tlearn: 0.3072862\ttotal: 3.33s\tremaining: 1.08s\n",
      "529:\tlearn: 0.3070423\ttotal: 3.34s\tremaining: 1.07s\n",
      "530:\tlearn: 0.3069559\ttotal: 3.34s\tremaining: 1.06s\n",
      "531:\tlearn: 0.3068955\ttotal: 3.35s\tremaining: 1.06s\n",
      "532:\tlearn: 0.3067587\ttotal: 3.36s\tremaining: 1.05s\n",
      "533:\tlearn: 0.3066886\ttotal: 3.36s\tremaining: 1.04s\n",
      "534:\tlearn: 0.3065461\ttotal: 3.37s\tremaining: 1.04s\n",
      "535:\tlearn: 0.3063429\ttotal: 3.38s\tremaining: 1.03s\n",
      "536:\tlearn: 0.3062892\ttotal: 3.38s\tremaining: 1.03s\n",
      "537:\tlearn: 0.3061627\ttotal: 3.39s\tremaining: 1.02s\n",
      "538:\tlearn: 0.3060134\ttotal: 3.4s\tremaining: 1.01s\n",
      "539:\tlearn: 0.3059274\ttotal: 3.4s\tremaining: 1.01s\n",
      "540:\tlearn: 0.3057652\ttotal: 3.41s\tremaining: 1s\n",
      "541:\tlearn: 0.3056943\ttotal: 3.41s\tremaining: 995ms\n",
      "542:\tlearn: 0.3055936\ttotal: 3.42s\tremaining: 989ms\n",
      "543:\tlearn: 0.3054062\ttotal: 3.42s\tremaining: 982ms\n",
      "544:\tlearn: 0.3052627\ttotal: 3.43s\tremaining: 976ms\n",
      "545:\tlearn: 0.3050580\ttotal: 3.44s\tremaining: 970ms\n",
      "546:\tlearn: 0.3049004\ttotal: 3.44s\tremaining: 963ms\n",
      "547:\tlearn: 0.3048042\ttotal: 3.45s\tremaining: 957ms\n",
      "548:\tlearn: 0.3046875\ttotal: 3.46s\tremaining: 951ms\n",
      "549:\tlearn: 0.3045322\ttotal: 3.46s\tremaining: 944ms\n",
      "550:\tlearn: 0.3043690\ttotal: 3.47s\tremaining: 938ms\n",
      "551:\tlearn: 0.3041631\ttotal: 3.47s\tremaining: 931ms\n",
      "552:\tlearn: 0.3041182\ttotal: 3.48s\tremaining: 925ms\n",
      "553:\tlearn: 0.3039604\ttotal: 3.49s\tremaining: 919ms\n",
      "554:\tlearn: 0.3038499\ttotal: 3.49s\tremaining: 913ms\n",
      "555:\tlearn: 0.3038180\ttotal: 3.5s\tremaining: 906ms\n",
      "556:\tlearn: 0.3036681\ttotal: 3.5s\tremaining: 900ms\n",
      "557:\tlearn: 0.3035088\ttotal: 3.51s\tremaining: 893ms\n",
      "558:\tlearn: 0.3033927\ttotal: 3.52s\tremaining: 887ms\n",
      "559:\tlearn: 0.3032744\ttotal: 3.52s\tremaining: 880ms\n",
      "560:\tlearn: 0.3031595\ttotal: 3.53s\tremaining: 874ms\n",
      "561:\tlearn: 0.3030433\ttotal: 3.53s\tremaining: 868ms\n",
      "562:\tlearn: 0.3029675\ttotal: 3.55s\tremaining: 863ms\n",
      "563:\tlearn: 0.3028491\ttotal: 3.56s\tremaining: 858ms\n",
      "564:\tlearn: 0.3027707\ttotal: 3.57s\tremaining: 852ms\n",
      "565:\tlearn: 0.3026448\ttotal: 3.57s\tremaining: 846ms\n",
      "566:\tlearn: 0.3025126\ttotal: 3.58s\tremaining: 840ms\n",
      "567:\tlearn: 0.3023555\ttotal: 3.59s\tremaining: 834ms\n",
      "568:\tlearn: 0.3022521\ttotal: 3.6s\tremaining: 828ms\n",
      "569:\tlearn: 0.3021340\ttotal: 3.6s\tremaining: 822ms\n",
      "570:\tlearn: 0.3019570\ttotal: 3.61s\tremaining: 815ms\n",
      "571:\tlearn: 0.3017403\ttotal: 3.61s\tremaining: 809ms\n",
      "572:\tlearn: 0.3016447\ttotal: 3.62s\tremaining: 802ms\n",
      "573:\tlearn: 0.3014995\ttotal: 3.63s\tremaining: 796ms\n",
      "574:\tlearn: 0.3013263\ttotal: 3.63s\tremaining: 790ms\n",
      "575:\tlearn: 0.3011936\ttotal: 3.64s\tremaining: 783ms\n",
      "576:\tlearn: 0.3010886\ttotal: 3.64s\tremaining: 777ms\n",
      "577:\tlearn: 0.3010109\ttotal: 3.65s\tremaining: 770ms\n",
      "578:\tlearn: 0.3009314\ttotal: 3.65s\tremaining: 764ms\n",
      "579:\tlearn: 0.3008093\ttotal: 3.66s\tremaining: 757ms\n",
      "580:\tlearn: 0.3007159\ttotal: 3.67s\tremaining: 751ms\n",
      "581:\tlearn: 0.3006122\ttotal: 3.67s\tremaining: 745ms\n",
      "582:\tlearn: 0.3004840\ttotal: 3.68s\tremaining: 738ms\n",
      "583:\tlearn: 0.3003858\ttotal: 3.69s\tremaining: 732ms\n",
      "584:\tlearn: 0.3002687\ttotal: 3.69s\tremaining: 726ms\n",
      "585:\tlearn: 0.3000952\ttotal: 3.7s\tremaining: 720ms\n",
      "586:\tlearn: 0.3000276\ttotal: 3.7s\tremaining: 713ms\n",
      "587:\tlearn: 0.2999392\ttotal: 3.71s\tremaining: 707ms\n",
      "588:\tlearn: 0.2998086\ttotal: 3.71s\tremaining: 700ms\n",
      "589:\tlearn: 0.2996640\ttotal: 3.72s\tremaining: 694ms\n",
      "590:\tlearn: 0.2995924\ttotal: 3.73s\tremaining: 687ms\n",
      "591:\tlearn: 0.2995097\ttotal: 3.73s\tremaining: 681ms\n",
      "592:\tlearn: 0.2993659\ttotal: 3.74s\tremaining: 675ms\n",
      "593:\tlearn: 0.2991714\ttotal: 3.74s\tremaining: 668ms\n",
      "594:\tlearn: 0.2991043\ttotal: 3.75s\tremaining: 662ms\n",
      "595:\tlearn: 0.2989934\ttotal: 3.75s\tremaining: 655ms\n",
      "596:\tlearn: 0.2989294\ttotal: 3.76s\tremaining: 649ms\n",
      "597:\tlearn: 0.2988670\ttotal: 3.77s\tremaining: 643ms\n",
      "598:\tlearn: 0.2987325\ttotal: 3.77s\tremaining: 636ms\n",
      "599:\tlearn: 0.2986339\ttotal: 3.78s\tremaining: 630ms\n",
      "600:\tlearn: 0.2985594\ttotal: 3.79s\tremaining: 625ms\n",
      "601:\tlearn: 0.2984302\ttotal: 3.8s\tremaining: 618ms\n",
      "602:\tlearn: 0.2983269\ttotal: 3.8s\tremaining: 612ms\n",
      "603:\tlearn: 0.2982595\ttotal: 3.81s\tremaining: 605ms\n",
      "604:\tlearn: 0.2981399\ttotal: 3.82s\tremaining: 600ms\n",
      "605:\tlearn: 0.2980687\ttotal: 3.83s\tremaining: 594ms\n",
      "606:\tlearn: 0.2979776\ttotal: 3.83s\tremaining: 587ms\n",
      "607:\tlearn: 0.2979002\ttotal: 3.84s\tremaining: 581ms\n",
      "608:\tlearn: 0.2977962\ttotal: 3.84s\tremaining: 575ms\n",
      "609:\tlearn: 0.2976962\ttotal: 3.85s\tremaining: 568ms\n",
      "610:\tlearn: 0.2976457\ttotal: 3.86s\tremaining: 562ms\n",
      "611:\tlearn: 0.2975577\ttotal: 3.86s\tremaining: 555ms\n",
      "612:\tlearn: 0.2974751\ttotal: 3.87s\tremaining: 549ms\n",
      "613:\tlearn: 0.2974397\ttotal: 3.87s\tremaining: 543ms\n",
      "614:\tlearn: 0.2973290\ttotal: 3.88s\tremaining: 536ms\n",
      "615:\tlearn: 0.2972559\ttotal: 3.88s\tremaining: 530ms\n",
      "616:\tlearn: 0.2971546\ttotal: 3.89s\tremaining: 524ms\n",
      "617:\tlearn: 0.2970034\ttotal: 3.92s\tremaining: 520ms\n",
      "618:\tlearn: 0.2969069\ttotal: 3.93s\tremaining: 514ms\n",
      "619:\tlearn: 0.2967555\ttotal: 3.93s\tremaining: 508ms\n",
      "620:\tlearn: 0.2966735\ttotal: 3.94s\tremaining: 501ms\n",
      "621:\tlearn: 0.2965583\ttotal: 3.95s\tremaining: 495ms\n",
      "622:\tlearn: 0.2964814\ttotal: 3.95s\tremaining: 488ms\n",
      "623:\tlearn: 0.2964074\ttotal: 3.96s\tremaining: 482ms\n",
      "624:\tlearn: 0.2963011\ttotal: 3.96s\tremaining: 476ms\n",
      "625:\tlearn: 0.2962680\ttotal: 3.97s\tremaining: 470ms\n",
      "626:\tlearn: 0.2961075\ttotal: 3.98s\tremaining: 463ms\n",
      "627:\tlearn: 0.2959703\ttotal: 3.98s\tremaining: 457ms\n",
      "628:\tlearn: 0.2959025\ttotal: 3.99s\tremaining: 451ms\n",
      "629:\tlearn: 0.2957226\ttotal: 4s\tremaining: 444ms\n",
      "630:\tlearn: 0.2956455\ttotal: 4s\tremaining: 438ms\n",
      "631:\tlearn: 0.2955680\ttotal: 4.01s\tremaining: 432ms\n",
      "632:\tlearn: 0.2954517\ttotal: 4.02s\tremaining: 425ms\n",
      "633:\tlearn: 0.2953677\ttotal: 4.02s\tremaining: 419ms\n",
      "634:\tlearn: 0.2952305\ttotal: 4.03s\tremaining: 412ms\n",
      "635:\tlearn: 0.2951153\ttotal: 4.03s\tremaining: 406ms\n",
      "636:\tlearn: 0.2949566\ttotal: 4.04s\tremaining: 400ms\n",
      "637:\tlearn: 0.2948700\ttotal: 4.04s\tremaining: 393ms\n",
      "638:\tlearn: 0.2947175\ttotal: 4.05s\tremaining: 387ms\n",
      "639:\tlearn: 0.2946042\ttotal: 4.06s\tremaining: 380ms\n",
      "640:\tlearn: 0.2944391\ttotal: 4.06s\tremaining: 374ms\n",
      "641:\tlearn: 0.2943372\ttotal: 4.07s\tremaining: 367ms\n",
      "642:\tlearn: 0.2941343\ttotal: 4.07s\tremaining: 361ms\n",
      "643:\tlearn: 0.2940337\ttotal: 4.08s\tremaining: 355ms\n",
      "644:\tlearn: 0.2939514\ttotal: 4.08s\tremaining: 348ms\n",
      "645:\tlearn: 0.2937506\ttotal: 4.09s\tremaining: 342ms\n",
      "646:\tlearn: 0.2936219\ttotal: 4.1s\tremaining: 336ms\n",
      "647:\tlearn: 0.2934973\ttotal: 4.1s\tremaining: 329ms\n",
      "648:\tlearn: 0.2933543\ttotal: 4.11s\tremaining: 323ms\n",
      "649:\tlearn: 0.2931736\ttotal: 4.11s\tremaining: 316ms\n",
      "650:\tlearn: 0.2930395\ttotal: 4.12s\tremaining: 310ms\n",
      "651:\tlearn: 0.2929854\ttotal: 4.12s\tremaining: 304ms\n",
      "652:\tlearn: 0.2928935\ttotal: 4.13s\tremaining: 297ms\n",
      "653:\tlearn: 0.2927671\ttotal: 4.14s\tremaining: 291ms\n",
      "654:\tlearn: 0.2926498\ttotal: 4.14s\tremaining: 285ms\n",
      "655:\tlearn: 0.2925989\ttotal: 4.15s\tremaining: 278ms\n",
      "656:\tlearn: 0.2924473\ttotal: 4.15s\tremaining: 272ms\n",
      "657:\tlearn: 0.2923712\ttotal: 4.16s\tremaining: 266ms\n",
      "658:\tlearn: 0.2922716\ttotal: 4.17s\tremaining: 259ms\n",
      "659:\tlearn: 0.2921409\ttotal: 4.17s\tremaining: 253ms\n",
      "660:\tlearn: 0.2919549\ttotal: 4.18s\tremaining: 246ms\n",
      "661:\tlearn: 0.2918422\ttotal: 4.18s\tremaining: 240ms\n",
      "662:\tlearn: 0.2917138\ttotal: 4.19s\tremaining: 234ms\n",
      "663:\tlearn: 0.2916834\ttotal: 4.2s\tremaining: 228ms\n",
      "664:\tlearn: 0.2915301\ttotal: 4.2s\tremaining: 221ms\n",
      "665:\tlearn: 0.2914100\ttotal: 4.21s\tremaining: 215ms\n",
      "666:\tlearn: 0.2913258\ttotal: 4.22s\tremaining: 209ms\n",
      "667:\tlearn: 0.2912366\ttotal: 4.22s\tremaining: 202ms\n",
      "668:\tlearn: 0.2911762\ttotal: 4.23s\tremaining: 196ms\n",
      "669:\tlearn: 0.2911123\ttotal: 4.23s\tremaining: 190ms\n",
      "670:\tlearn: 0.2910062\ttotal: 4.24s\tremaining: 183ms\n",
      "671:\tlearn: 0.2908908\ttotal: 4.25s\tremaining: 177ms\n",
      "672:\tlearn: 0.2908201\ttotal: 4.25s\tremaining: 171ms\n",
      "673:\tlearn: 0.2907114\ttotal: 4.26s\tremaining: 164ms\n",
      "674:\tlearn: 0.2906427\ttotal: 4.26s\tremaining: 158ms\n",
      "675:\tlearn: 0.2904649\ttotal: 4.27s\tremaining: 152ms\n",
      "676:\tlearn: 0.2903269\ttotal: 4.28s\tremaining: 145ms\n",
      "677:\tlearn: 0.2901800\ttotal: 4.28s\tremaining: 139ms\n",
      "678:\tlearn: 0.2900245\ttotal: 4.29s\tremaining: 133ms\n",
      "679:\tlearn: 0.2899204\ttotal: 4.29s\tremaining: 126ms\n",
      "680:\tlearn: 0.2897670\ttotal: 4.3s\tremaining: 120ms\n",
      "681:\tlearn: 0.2895382\ttotal: 4.31s\tremaining: 114ms\n",
      "682:\tlearn: 0.2894630\ttotal: 4.31s\tremaining: 107ms\n",
      "683:\tlearn: 0.2893480\ttotal: 4.32s\tremaining: 101ms\n",
      "684:\tlearn: 0.2891646\ttotal: 4.33s\tremaining: 94.7ms\n",
      "685:\tlearn: 0.2889634\ttotal: 4.33s\tremaining: 88.4ms\n",
      "686:\tlearn: 0.2888577\ttotal: 4.34s\tremaining: 82.1ms\n",
      "687:\tlearn: 0.2888032\ttotal: 4.34s\tremaining: 75.7ms\n",
      "688:\tlearn: 0.2886357\ttotal: 4.35s\tremaining: 69.4ms\n",
      "689:\tlearn: 0.2884599\ttotal: 4.36s\tremaining: 63.1ms\n",
      "690:\tlearn: 0.2884313\ttotal: 4.36s\tremaining: 56.8ms\n",
      "691:\tlearn: 0.2883452\ttotal: 4.37s\tremaining: 50.5ms\n",
      "692:\tlearn: 0.2882678\ttotal: 4.37s\tremaining: 44.2ms\n",
      "693:\tlearn: 0.2882237\ttotal: 4.38s\tremaining: 37.9ms\n",
      "694:\tlearn: 0.2881430\ttotal: 4.38s\tremaining: 31.5ms\n",
      "695:\tlearn: 0.2880061\ttotal: 4.39s\tremaining: 25.3ms\n",
      "696:\tlearn: 0.2879208\ttotal: 4.4s\tremaining: 18.9ms\n",
      "697:\tlearn: 0.2878268\ttotal: 4.41s\tremaining: 12.6ms\n",
      "698:\tlearn: 0.2877486\ttotal: 4.41s\tremaining: 6.31ms\n",
      "699:\tlearn: 0.2876611\ttotal: 4.42s\tremaining: 0us\n",
      "CPU times: user 8.52 s, sys: 459 ms, total: 8.98 s\n",
      "Wall time: 42.8 s\n"
     ]
    },
    {
     "data": {
      "text/plain": [
       "0.8647770375760011"
      ]
     },
     "execution_count": 123,
     "metadata": {},
     "output_type": "execute_result"
    }
   ],
   "source": [
    "%%time\n",
    "cb_clf_model = CatBoostClassifier()\n",
    "\n",
    "cb_clf_params = {\n",
    "   'n_estimators':[50,100,200,500,700],\n",
    "   'learning_rate': [0.01,.05,0.1,0.4,0.8,1],\n",
    "   'max_depth':[1,2,3,4,5,6],\n",
    "   'subsample':[0.5,0.8,1],\n",
    "   'colsample_bylevel':[i/10.0 for i in range(5,10)],\n",
    "   'l2_leaf_reg':[1e-5, 1e-2, 0.1, 1, 100]\n",
    "}\n",
    "\n",
    "cb_clf_random_search = RandomizedSearchCV(cb_clf_model,param_distributions=cb_clf_params,\n",
    "                                             cv = 5, n_iter=2,scoring='roc_auc',n_jobs=-1)\n",
    "\n",
    "cb_clf_random_search.fit(X_train,Y_train)\n",
    "cb_clf_random_search.best_score_"
   ]
  },
  {
   "cell_type": "code",
   "execution_count": null,
   "id": "QmSKAhOEOrx3",
   "metadata": {
    "id": "QmSKAhOEOrx3"
   },
   "outputs": [],
   "source": [
    "cb_clf_model = cb_clf_random_search.best_estimator_"
   ]
  },
  {
   "cell_type": "code",
   "execution_count": null,
   "id": "szJDdRkUOrx4",
   "metadata": {
    "colab": {
     "base_uri": "https://localhost:8080/"
    },
    "id": "szJDdRkUOrx4",
    "outputId": "baae92fc-41f5-485f-ded0-81e2817eeefa"
   },
   "outputs": [
    {
     "name": "stdout",
     "output_type": "stream",
     "text": [
      "0:\tlearn: 0.4910770\ttotal: 13.1ms\tremaining: 9.16s\n",
      "1:\tlearn: 0.4631929\ttotal: 19ms\tremaining: 6.64s\n",
      "2:\tlearn: 0.4439984\ttotal: 26.6ms\tremaining: 6.18s\n",
      "3:\tlearn: 0.4326397\ttotal: 32.9ms\tremaining: 5.72s\n",
      "4:\tlearn: 0.4267872\ttotal: 38.5ms\tremaining: 5.35s\n",
      "5:\tlearn: 0.4221899\ttotal: 43.9ms\tremaining: 5.08s\n",
      "6:\tlearn: 0.4192316\ttotal: 49.5ms\tremaining: 4.9s\n",
      "7:\tlearn: 0.4183684\ttotal: 54.7ms\tremaining: 4.73s\n",
      "8:\tlearn: 0.4124583\ttotal: 60.2ms\tremaining: 4.62s\n",
      "9:\tlearn: 0.4108027\ttotal: 65.6ms\tremaining: 4.53s\n",
      "10:\tlearn: 0.4096621\ttotal: 71.4ms\tremaining: 4.47s\n",
      "11:\tlearn: 0.4084841\ttotal: 76.6ms\tremaining: 4.39s\n",
      "12:\tlearn: 0.4064864\ttotal: 84.3ms\tremaining: 4.46s\n",
      "13:\tlearn: 0.4056487\ttotal: 90.1ms\tremaining: 4.42s\n",
      "14:\tlearn: 0.4043958\ttotal: 95.7ms\tremaining: 4.37s\n",
      "15:\tlearn: 0.4037841\ttotal: 102ms\tremaining: 4.35s\n",
      "16:\tlearn: 0.4033970\ttotal: 107ms\tremaining: 4.32s\n",
      "17:\tlearn: 0.4029414\ttotal: 113ms\tremaining: 4.28s\n",
      "18:\tlearn: 0.4021635\ttotal: 119ms\tremaining: 4.26s\n",
      "19:\tlearn: 0.4018177\ttotal: 125ms\tremaining: 4.25s\n",
      "20:\tlearn: 0.4015770\ttotal: 131ms\tremaining: 4.23s\n",
      "21:\tlearn: 0.4010789\ttotal: 136ms\tremaining: 4.2s\n",
      "22:\tlearn: 0.4008135\ttotal: 143ms\tremaining: 4.2s\n",
      "23:\tlearn: 0.4004247\ttotal: 148ms\tremaining: 4.18s\n",
      "24:\tlearn: 0.4001183\ttotal: 154ms\tremaining: 4.16s\n",
      "25:\tlearn: 0.3998474\ttotal: 160ms\tremaining: 4.15s\n",
      "26:\tlearn: 0.3976896\ttotal: 166ms\tremaining: 4.13s\n",
      "27:\tlearn: 0.3969053\ttotal: 171ms\tremaining: 4.11s\n",
      "28:\tlearn: 0.3966695\ttotal: 177ms\tremaining: 4.11s\n",
      "29:\tlearn: 0.3962775\ttotal: 185ms\tremaining: 4.13s\n",
      "30:\tlearn: 0.3960769\ttotal: 192ms\tremaining: 4.14s\n",
      "31:\tlearn: 0.3946181\ttotal: 197ms\tremaining: 4.12s\n",
      "32:\tlearn: 0.3943634\ttotal: 203ms\tremaining: 4.11s\n",
      "33:\tlearn: 0.3935452\ttotal: 213ms\tremaining: 4.17s\n",
      "34:\tlearn: 0.3930959\ttotal: 219ms\tremaining: 4.16s\n",
      "35:\tlearn: 0.3927585\ttotal: 228ms\tremaining: 4.2s\n",
      "36:\tlearn: 0.3924132\ttotal: 233ms\tremaining: 4.18s\n",
      "37:\tlearn: 0.3921591\ttotal: 239ms\tremaining: 4.17s\n",
      "38:\tlearn: 0.3915605\ttotal: 245ms\tremaining: 4.15s\n",
      "39:\tlearn: 0.3912388\ttotal: 251ms\tremaining: 4.14s\n",
      "40:\tlearn: 0.3893632\ttotal: 256ms\tremaining: 4.12s\n",
      "41:\tlearn: 0.3891527\ttotal: 262ms\tremaining: 4.11s\n",
      "42:\tlearn: 0.3888965\ttotal: 268ms\tremaining: 4.09s\n",
      "43:\tlearn: 0.3884438\ttotal: 274ms\tremaining: 4.08s\n",
      "44:\tlearn: 0.3882832\ttotal: 279ms\tremaining: 4.06s\n",
      "45:\tlearn: 0.3871225\ttotal: 285ms\tremaining: 4.05s\n",
      "46:\tlearn: 0.3868945\ttotal: 291ms\tremaining: 4.05s\n",
      "47:\tlearn: 0.3865732\ttotal: 297ms\tremaining: 4.04s\n",
      "48:\tlearn: 0.3862655\ttotal: 303ms\tremaining: 4.02s\n",
      "49:\tlearn: 0.3860051\ttotal: 308ms\tremaining: 4.01s\n",
      "50:\tlearn: 0.3858744\ttotal: 316ms\tremaining: 4.02s\n",
      "51:\tlearn: 0.3856158\ttotal: 321ms\tremaining: 4s\n",
      "52:\tlearn: 0.3852910\ttotal: 328ms\tremaining: 4s\n",
      "53:\tlearn: 0.3850419\ttotal: 333ms\tremaining: 3.99s\n",
      "54:\tlearn: 0.3843586\ttotal: 340ms\tremaining: 3.98s\n",
      "55:\tlearn: 0.3841395\ttotal: 345ms\tremaining: 3.97s\n",
      "56:\tlearn: 0.3838860\ttotal: 351ms\tremaining: 3.96s\n",
      "57:\tlearn: 0.3836761\ttotal: 357ms\tremaining: 3.95s\n",
      "58:\tlearn: 0.3834907\ttotal: 365ms\tremaining: 3.96s\n",
      "59:\tlearn: 0.3832471\ttotal: 371ms\tremaining: 3.95s\n",
      "60:\tlearn: 0.3829801\ttotal: 377ms\tremaining: 3.94s\n",
      "61:\tlearn: 0.3828517\ttotal: 383ms\tremaining: 3.94s\n",
      "62:\tlearn: 0.3825769\ttotal: 389ms\tremaining: 3.93s\n",
      "63:\tlearn: 0.3822776\ttotal: 394ms\tremaining: 3.92s\n",
      "64:\tlearn: 0.3798758\ttotal: 400ms\tremaining: 3.9s\n",
      "65:\tlearn: 0.3792174\ttotal: 406ms\tremaining: 3.9s\n",
      "66:\tlearn: 0.3789210\ttotal: 414ms\tremaining: 3.91s\n",
      "67:\tlearn: 0.3786329\ttotal: 419ms\tremaining: 3.9s\n",
      "68:\tlearn: 0.3782488\ttotal: 429ms\tremaining: 3.92s\n",
      "69:\tlearn: 0.3780171\ttotal: 435ms\tremaining: 3.91s\n",
      "70:\tlearn: 0.3778217\ttotal: 440ms\tremaining: 3.9s\n",
      "71:\tlearn: 0.3775320\ttotal: 446ms\tremaining: 3.89s\n",
      "72:\tlearn: 0.3772099\ttotal: 452ms\tremaining: 3.88s\n",
      "73:\tlearn: 0.3768200\ttotal: 458ms\tremaining: 3.87s\n",
      "74:\tlearn: 0.3765876\ttotal: 464ms\tremaining: 3.87s\n",
      "75:\tlearn: 0.3763359\ttotal: 470ms\tremaining: 3.86s\n",
      "76:\tlearn: 0.3761153\ttotal: 476ms\tremaining: 3.85s\n",
      "77:\tlearn: 0.3759745\ttotal: 481ms\tremaining: 3.84s\n",
      "78:\tlearn: 0.3757564\ttotal: 488ms\tremaining: 3.83s\n",
      "79:\tlearn: 0.3754869\ttotal: 493ms\tremaining: 3.82s\n",
      "80:\tlearn: 0.3753268\ttotal: 500ms\tremaining: 3.82s\n",
      "81:\tlearn: 0.3751854\ttotal: 506ms\tremaining: 3.81s\n",
      "82:\tlearn: 0.3749969\ttotal: 511ms\tremaining: 3.8s\n",
      "83:\tlearn: 0.3747773\ttotal: 517ms\tremaining: 3.79s\n",
      "84:\tlearn: 0.3745843\ttotal: 524ms\tremaining: 3.79s\n",
      "85:\tlearn: 0.3742566\ttotal: 529ms\tremaining: 3.78s\n",
      "86:\tlearn: 0.3740682\ttotal: 535ms\tremaining: 3.77s\n",
      "87:\tlearn: 0.3737418\ttotal: 542ms\tremaining: 3.77s\n",
      "88:\tlearn: 0.3736535\ttotal: 547ms\tremaining: 3.76s\n",
      "89:\tlearn: 0.3734270\ttotal: 553ms\tremaining: 3.75s\n",
      "90:\tlearn: 0.3732168\ttotal: 559ms\tremaining: 3.74s\n",
      "91:\tlearn: 0.3730580\ttotal: 565ms\tremaining: 3.73s\n",
      "92:\tlearn: 0.3728258\ttotal: 570ms\tremaining: 3.72s\n",
      "93:\tlearn: 0.3726079\ttotal: 576ms\tremaining: 3.72s\n",
      "94:\tlearn: 0.3721532\ttotal: 582ms\tremaining: 3.71s\n",
      "95:\tlearn: 0.3719337\ttotal: 587ms\tremaining: 3.69s\n",
      "96:\tlearn: 0.3717391\ttotal: 593ms\tremaining: 3.69s\n",
      "97:\tlearn: 0.3716166\ttotal: 599ms\tremaining: 3.68s\n",
      "98:\tlearn: 0.3714572\ttotal: 605ms\tremaining: 3.67s\n",
      "99:\tlearn: 0.3712774\ttotal: 618ms\tremaining: 3.71s\n",
      "100:\tlearn: 0.3710323\ttotal: 627ms\tremaining: 3.72s\n",
      "101:\tlearn: 0.3708047\ttotal: 632ms\tremaining: 3.71s\n",
      "102:\tlearn: 0.3698475\ttotal: 638ms\tremaining: 3.69s\n",
      "103:\tlearn: 0.3695923\ttotal: 643ms\tremaining: 3.69s\n",
      "104:\tlearn: 0.3693645\ttotal: 649ms\tremaining: 3.68s\n",
      "105:\tlearn: 0.3691689\ttotal: 655ms\tremaining: 3.67s\n",
      "106:\tlearn: 0.3690129\ttotal: 662ms\tremaining: 3.67s\n",
      "107:\tlearn: 0.3687825\ttotal: 672ms\tremaining: 3.69s\n",
      "108:\tlearn: 0.3685207\ttotal: 678ms\tremaining: 3.67s\n",
      "109:\tlearn: 0.3682668\ttotal: 683ms\tremaining: 3.67s\n",
      "110:\tlearn: 0.3680459\ttotal: 689ms\tremaining: 3.66s\n",
      "111:\tlearn: 0.3677815\ttotal: 695ms\tremaining: 3.65s\n",
      "112:\tlearn: 0.3675428\ttotal: 700ms\tremaining: 3.64s\n",
      "113:\tlearn: 0.3673330\ttotal: 706ms\tremaining: 3.63s\n",
      "114:\tlearn: 0.3671057\ttotal: 712ms\tremaining: 3.62s\n",
      "115:\tlearn: 0.3669518\ttotal: 717ms\tremaining: 3.61s\n",
      "116:\tlearn: 0.3667826\ttotal: 723ms\tremaining: 3.6s\n",
      "117:\tlearn: 0.3666668\ttotal: 729ms\tremaining: 3.59s\n",
      "118:\tlearn: 0.3665693\ttotal: 734ms\tremaining: 3.58s\n",
      "119:\tlearn: 0.3664137\ttotal: 740ms\tremaining: 3.58s\n",
      "120:\tlearn: 0.3661569\ttotal: 746ms\tremaining: 3.57s\n",
      "121:\tlearn: 0.3659631\ttotal: 752ms\tremaining: 3.56s\n",
      "122:\tlearn: 0.3654580\ttotal: 758ms\tremaining: 3.56s\n",
      "123:\tlearn: 0.3653178\ttotal: 764ms\tremaining: 3.55s\n",
      "124:\tlearn: 0.3651556\ttotal: 770ms\tremaining: 3.54s\n",
      "125:\tlearn: 0.3650175\ttotal: 775ms\tremaining: 3.53s\n",
      "126:\tlearn: 0.3647554\ttotal: 780ms\tremaining: 3.52s\n",
      "127:\tlearn: 0.3646159\ttotal: 787ms\tremaining: 3.52s\n",
      "128:\tlearn: 0.3644300\ttotal: 793ms\tremaining: 3.51s\n",
      "129:\tlearn: 0.3643346\ttotal: 798ms\tremaining: 3.5s\n",
      "130:\tlearn: 0.3640009\ttotal: 804ms\tremaining: 3.49s\n",
      "131:\tlearn: 0.3638959\ttotal: 815ms\tremaining: 3.51s\n",
      "132:\tlearn: 0.3637599\ttotal: 824ms\tremaining: 3.51s\n",
      "133:\tlearn: 0.3634811\ttotal: 831ms\tremaining: 3.51s\n",
      "134:\tlearn: 0.3633009\ttotal: 836ms\tremaining: 3.5s\n",
      "135:\tlearn: 0.3630994\ttotal: 842ms\tremaining: 3.49s\n",
      "136:\tlearn: 0.3629627\ttotal: 848ms\tremaining: 3.49s\n",
      "137:\tlearn: 0.3627506\ttotal: 854ms\tremaining: 3.48s\n",
      "138:\tlearn: 0.3626165\ttotal: 860ms\tremaining: 3.47s\n",
      "139:\tlearn: 0.3624692\ttotal: 866ms\tremaining: 3.46s\n",
      "140:\tlearn: 0.3623186\ttotal: 871ms\tremaining: 3.45s\n",
      "141:\tlearn: 0.3622517\ttotal: 878ms\tremaining: 3.45s\n",
      "142:\tlearn: 0.3621898\ttotal: 883ms\tremaining: 3.44s\n",
      "143:\tlearn: 0.3619166\ttotal: 889ms\tremaining: 3.43s\n",
      "144:\tlearn: 0.3617756\ttotal: 895ms\tremaining: 3.43s\n",
      "145:\tlearn: 0.3616544\ttotal: 901ms\tremaining: 3.42s\n",
      "146:\tlearn: 0.3612616\ttotal: 908ms\tremaining: 3.41s\n",
      "147:\tlearn: 0.3611570\ttotal: 913ms\tremaining: 3.41s\n",
      "148:\tlearn: 0.3609737\ttotal: 919ms\tremaining: 3.4s\n",
      "149:\tlearn: 0.3607464\ttotal: 925ms\tremaining: 3.39s\n",
      "150:\tlearn: 0.3605866\ttotal: 934ms\tremaining: 3.4s\n",
      "151:\tlearn: 0.3604770\ttotal: 940ms\tremaining: 3.39s\n",
      "152:\tlearn: 0.3603030\ttotal: 946ms\tremaining: 3.38s\n",
      "153:\tlearn: 0.3600840\ttotal: 952ms\tremaining: 3.38s\n",
      "154:\tlearn: 0.3598921\ttotal: 958ms\tremaining: 3.37s\n",
      "155:\tlearn: 0.3597064\ttotal: 964ms\tremaining: 3.36s\n",
      "156:\tlearn: 0.3596606\ttotal: 970ms\tremaining: 3.35s\n",
      "157:\tlearn: 0.3595500\ttotal: 982ms\tremaining: 3.37s\n",
      "158:\tlearn: 0.3593880\ttotal: 998ms\tremaining: 3.4s\n",
      "159:\tlearn: 0.3591853\ttotal: 1s\tremaining: 3.39s\n",
      "160:\tlearn: 0.3590220\ttotal: 1.01s\tremaining: 3.4s\n",
      "161:\tlearn: 0.3588449\ttotal: 1.02s\tremaining: 3.4s\n",
      "162:\tlearn: 0.3585931\ttotal: 1.03s\tremaining: 3.4s\n",
      "163:\tlearn: 0.3583732\ttotal: 1.04s\tremaining: 3.39s\n",
      "164:\tlearn: 0.3581072\ttotal: 1.04s\tremaining: 3.38s\n",
      "165:\tlearn: 0.3579991\ttotal: 1.05s\tremaining: 3.37s\n",
      "166:\tlearn: 0.3577876\ttotal: 1.05s\tremaining: 3.36s\n",
      "167:\tlearn: 0.3576061\ttotal: 1.06s\tremaining: 3.36s\n",
      "168:\tlearn: 0.3574665\ttotal: 1.06s\tremaining: 3.35s\n",
      "169:\tlearn: 0.3573364\ttotal: 1.07s\tremaining: 3.34s\n",
      "170:\tlearn: 0.3572155\ttotal: 1.08s\tremaining: 3.33s\n",
      "171:\tlearn: 0.3571226\ttotal: 1.08s\tremaining: 3.33s\n",
      "172:\tlearn: 0.3569175\ttotal: 1.09s\tremaining: 3.32s\n",
      "173:\tlearn: 0.3567929\ttotal: 1.09s\tremaining: 3.31s\n",
      "174:\tlearn: 0.3565818\ttotal: 1.1s\tremaining: 3.3s\n",
      "175:\tlearn: 0.3565302\ttotal: 1.11s\tremaining: 3.3s\n",
      "176:\tlearn: 0.3562811\ttotal: 1.11s\tremaining: 3.29s\n",
      "177:\tlearn: 0.3562144\ttotal: 1.12s\tremaining: 3.28s\n",
      "178:\tlearn: 0.3560100\ttotal: 1.13s\tremaining: 3.3s\n",
      "179:\tlearn: 0.3558349\ttotal: 1.14s\tremaining: 3.3s\n",
      "180:\tlearn: 0.3556858\ttotal: 1.15s\tremaining: 3.29s\n",
      "181:\tlearn: 0.3554658\ttotal: 1.15s\tremaining: 3.28s\n",
      "182:\tlearn: 0.3553210\ttotal: 1.16s\tremaining: 3.27s\n",
      "183:\tlearn: 0.3552653\ttotal: 1.17s\tremaining: 3.27s\n",
      "184:\tlearn: 0.3550694\ttotal: 1.17s\tremaining: 3.26s\n",
      "185:\tlearn: 0.3549628\ttotal: 1.18s\tremaining: 3.25s\n",
      "186:\tlearn: 0.3547891\ttotal: 1.18s\tremaining: 3.25s\n",
      "187:\tlearn: 0.3546269\ttotal: 1.19s\tremaining: 3.24s\n",
      "188:\tlearn: 0.3545546\ttotal: 1.2s\tremaining: 3.24s\n",
      "189:\tlearn: 0.3543686\ttotal: 1.2s\tremaining: 3.23s\n",
      "190:\tlearn: 0.3541248\ttotal: 1.21s\tremaining: 3.23s\n",
      "191:\tlearn: 0.3540099\ttotal: 1.22s\tremaining: 3.24s\n",
      "192:\tlearn: 0.3537472\ttotal: 1.23s\tremaining: 3.23s\n",
      "193:\tlearn: 0.3534842\ttotal: 1.24s\tremaining: 3.23s\n",
      "194:\tlearn: 0.3532481\ttotal: 1.24s\tremaining: 3.22s\n",
      "195:\tlearn: 0.3530791\ttotal: 1.25s\tremaining: 3.21s\n",
      "196:\tlearn: 0.3529378\ttotal: 1.25s\tremaining: 3.2s\n",
      "197:\tlearn: 0.3528641\ttotal: 1.26s\tremaining: 3.19s\n",
      "198:\tlearn: 0.3526685\ttotal: 1.27s\tremaining: 3.19s\n",
      "199:\tlearn: 0.3524426\ttotal: 1.27s\tremaining: 3.18s\n",
      "200:\tlearn: 0.3523091\ttotal: 1.28s\tremaining: 3.18s\n",
      "201:\tlearn: 0.3522292\ttotal: 1.29s\tremaining: 3.17s\n",
      "202:\tlearn: 0.3521015\ttotal: 1.29s\tremaining: 3.17s\n",
      "203:\tlearn: 0.3519534\ttotal: 1.3s\tremaining: 3.16s\n",
      "204:\tlearn: 0.3518534\ttotal: 1.3s\tremaining: 3.15s\n",
      "205:\tlearn: 0.3517549\ttotal: 1.31s\tremaining: 3.14s\n",
      "206:\tlearn: 0.3516687\ttotal: 1.32s\tremaining: 3.13s\n",
      "207:\tlearn: 0.3514478\ttotal: 1.32s\tremaining: 3.13s\n",
      "208:\tlearn: 0.3513180\ttotal: 1.33s\tremaining: 3.13s\n",
      "209:\tlearn: 0.3511789\ttotal: 1.34s\tremaining: 3.12s\n",
      "210:\tlearn: 0.3509875\ttotal: 1.34s\tremaining: 3.11s\n",
      "211:\tlearn: 0.3508743\ttotal: 1.35s\tremaining: 3.1s\n",
      "212:\tlearn: 0.3507050\ttotal: 1.35s\tremaining: 3.1s\n",
      "213:\tlearn: 0.3506443\ttotal: 1.36s\tremaining: 3.09s\n",
      "214:\tlearn: 0.3503955\ttotal: 1.37s\tremaining: 3.08s\n",
      "215:\tlearn: 0.3502572\ttotal: 1.37s\tremaining: 3.08s\n",
      "216:\tlearn: 0.3500865\ttotal: 1.38s\tremaining: 3.07s\n",
      "217:\tlearn: 0.3499144\ttotal: 1.38s\tremaining: 3.06s\n",
      "218:\tlearn: 0.3498341\ttotal: 1.39s\tremaining: 3.05s\n",
      "219:\tlearn: 0.3496989\ttotal: 1.39s\tremaining: 3.04s\n",
      "220:\tlearn: 0.3495299\ttotal: 1.4s\tremaining: 3.04s\n",
      "221:\tlearn: 0.3493329\ttotal: 1.41s\tremaining: 3.03s\n",
      "222:\tlearn: 0.3492159\ttotal: 1.42s\tremaining: 3.03s\n",
      "223:\tlearn: 0.3491322\ttotal: 1.43s\tremaining: 3.03s\n",
      "224:\tlearn: 0.3490431\ttotal: 1.43s\tremaining: 3.02s\n",
      "225:\tlearn: 0.3489267\ttotal: 1.44s\tremaining: 3.01s\n",
      "226:\tlearn: 0.3488241\ttotal: 1.44s\tremaining: 3.01s\n",
      "227:\tlearn: 0.3486646\ttotal: 1.45s\tremaining: 3s\n",
      "228:\tlearn: 0.3484854\ttotal: 1.45s\tremaining: 2.99s\n",
      "229:\tlearn: 0.3483196\ttotal: 1.46s\tremaining: 2.98s\n",
      "230:\tlearn: 0.3482166\ttotal: 1.47s\tremaining: 2.98s\n",
      "231:\tlearn: 0.3480944\ttotal: 1.47s\tremaining: 2.97s\n",
      "232:\tlearn: 0.3480316\ttotal: 1.48s\tremaining: 2.96s\n",
      "233:\tlearn: 0.3479198\ttotal: 1.48s\tremaining: 2.95s\n",
      "234:\tlearn: 0.3478141\ttotal: 1.49s\tremaining: 2.95s\n",
      "235:\tlearn: 0.3476827\ttotal: 1.49s\tremaining: 2.94s\n",
      "236:\tlearn: 0.3475219\ttotal: 1.5s\tremaining: 2.93s\n",
      "237:\tlearn: 0.3473921\ttotal: 1.5s\tremaining: 2.92s\n",
      "238:\tlearn: 0.3471912\ttotal: 1.51s\tremaining: 2.92s\n",
      "239:\tlearn: 0.3470871\ttotal: 1.52s\tremaining: 2.91s\n",
      "240:\tlearn: 0.3468723\ttotal: 1.52s\tremaining: 2.9s\n",
      "241:\tlearn: 0.3468155\ttotal: 1.53s\tremaining: 2.89s\n",
      "242:\tlearn: 0.3467071\ttotal: 1.53s\tremaining: 2.89s\n",
      "243:\tlearn: 0.3464636\ttotal: 1.54s\tremaining: 2.88s\n",
      "244:\tlearn: 0.3460335\ttotal: 1.55s\tremaining: 2.87s\n",
      "245:\tlearn: 0.3458045\ttotal: 1.55s\tremaining: 2.86s\n",
      "246:\tlearn: 0.3453484\ttotal: 1.56s\tremaining: 2.86s\n",
      "247:\tlearn: 0.3451915\ttotal: 1.56s\tremaining: 2.85s\n",
      "248:\tlearn: 0.3449854\ttotal: 1.57s\tremaining: 2.84s\n",
      "249:\tlearn: 0.3448737\ttotal: 1.57s\tremaining: 2.84s\n",
      "250:\tlearn: 0.3445707\ttotal: 1.58s\tremaining: 2.83s\n",
      "251:\tlearn: 0.3444391\ttotal: 1.59s\tremaining: 2.82s\n",
      "252:\tlearn: 0.3441133\ttotal: 1.59s\tremaining: 2.81s\n",
      "253:\tlearn: 0.3439578\ttotal: 1.6s\tremaining: 2.81s\n",
      "254:\tlearn: 0.3438063\ttotal: 1.6s\tremaining: 2.8s\n",
      "255:\tlearn: 0.3436995\ttotal: 1.61s\tremaining: 2.79s\n",
      "256:\tlearn: 0.3436496\ttotal: 1.62s\tremaining: 2.8s\n",
      "257:\tlearn: 0.3434955\ttotal: 1.63s\tremaining: 2.79s\n",
      "258:\tlearn: 0.3433538\ttotal: 1.64s\tremaining: 2.78s\n",
      "259:\tlearn: 0.3430407\ttotal: 1.64s\tremaining: 2.78s\n",
      "260:\tlearn: 0.3429829\ttotal: 1.65s\tremaining: 2.77s\n",
      "261:\tlearn: 0.3427935\ttotal: 1.65s\tremaining: 2.76s\n",
      "262:\tlearn: 0.3426539\ttotal: 1.66s\tremaining: 2.77s\n",
      "263:\tlearn: 0.3424870\ttotal: 1.67s\tremaining: 2.76s\n",
      "264:\tlearn: 0.3422969\ttotal: 1.68s\tremaining: 2.75s\n",
      "265:\tlearn: 0.3421355\ttotal: 1.68s\tremaining: 2.74s\n",
      "266:\tlearn: 0.3420159\ttotal: 1.69s\tremaining: 2.73s\n",
      "267:\tlearn: 0.3418201\ttotal: 1.69s\tremaining: 2.73s\n",
      "268:\tlearn: 0.3416750\ttotal: 1.7s\tremaining: 2.72s\n",
      "269:\tlearn: 0.3415507\ttotal: 1.7s\tremaining: 2.71s\n",
      "270:\tlearn: 0.3413829\ttotal: 1.71s\tremaining: 2.71s\n",
      "271:\tlearn: 0.3411658\ttotal: 1.72s\tremaining: 2.7s\n",
      "272:\tlearn: 0.3410754\ttotal: 1.72s\tremaining: 2.69s\n",
      "273:\tlearn: 0.3410113\ttotal: 1.73s\tremaining: 2.68s\n",
      "274:\tlearn: 0.3408779\ttotal: 1.73s\tremaining: 2.68s\n",
      "275:\tlearn: 0.3407704\ttotal: 1.74s\tremaining: 2.67s\n",
      "276:\tlearn: 0.3407010\ttotal: 1.74s\tremaining: 2.66s\n",
      "277:\tlearn: 0.3405474\ttotal: 1.75s\tremaining: 2.66s\n",
      "278:\tlearn: 0.3403587\ttotal: 1.75s\tremaining: 2.65s\n",
      "279:\tlearn: 0.3401856\ttotal: 1.76s\tremaining: 2.64s\n",
      "280:\tlearn: 0.3400824\ttotal: 1.77s\tremaining: 2.64s\n",
      "281:\tlearn: 0.3400002\ttotal: 1.77s\tremaining: 2.63s\n",
      "282:\tlearn: 0.3399018\ttotal: 1.78s\tremaining: 2.62s\n",
      "283:\tlearn: 0.3397443\ttotal: 1.79s\tremaining: 2.62s\n",
      "284:\tlearn: 0.3390451\ttotal: 1.79s\tremaining: 2.61s\n",
      "285:\tlearn: 0.3389295\ttotal: 1.8s\tremaining: 2.6s\n",
      "286:\tlearn: 0.3387153\ttotal: 1.8s\tremaining: 2.6s\n",
      "287:\tlearn: 0.3386950\ttotal: 1.81s\tremaining: 2.6s\n",
      "288:\tlearn: 0.3385456\ttotal: 1.83s\tremaining: 2.6s\n",
      "289:\tlearn: 0.3384228\ttotal: 1.83s\tremaining: 2.59s\n",
      "290:\tlearn: 0.3382203\ttotal: 1.84s\tremaining: 2.59s\n",
      "291:\tlearn: 0.3381214\ttotal: 1.85s\tremaining: 2.58s\n",
      "292:\tlearn: 0.3379326\ttotal: 1.85s\tremaining: 2.57s\n",
      "293:\tlearn: 0.3376314\ttotal: 1.86s\tremaining: 2.57s\n",
      "294:\tlearn: 0.3374471\ttotal: 1.86s\tremaining: 2.56s\n",
      "295:\tlearn: 0.3373073\ttotal: 1.87s\tremaining: 2.56s\n",
      "296:\tlearn: 0.3369997\ttotal: 1.88s\tremaining: 2.55s\n",
      "297:\tlearn: 0.3368637\ttotal: 1.88s\tremaining: 2.54s\n",
      "298:\tlearn: 0.3366389\ttotal: 1.89s\tremaining: 2.53s\n",
      "299:\tlearn: 0.3364602\ttotal: 1.89s\tremaining: 2.52s\n",
      "300:\tlearn: 0.3363744\ttotal: 1.9s\tremaining: 2.52s\n",
      "301:\tlearn: 0.3361472\ttotal: 1.91s\tremaining: 2.51s\n",
      "302:\tlearn: 0.3359894\ttotal: 1.91s\tremaining: 2.51s\n",
      "303:\tlearn: 0.3358134\ttotal: 1.92s\tremaining: 2.5s\n",
      "304:\tlearn: 0.3355738\ttotal: 1.92s\tremaining: 2.49s\n",
      "305:\tlearn: 0.3354919\ttotal: 1.93s\tremaining: 2.48s\n",
      "306:\tlearn: 0.3353502\ttotal: 1.94s\tremaining: 2.48s\n",
      "307:\tlearn: 0.3351680\ttotal: 1.94s\tremaining: 2.47s\n",
      "308:\tlearn: 0.3350066\ttotal: 1.95s\tremaining: 2.46s\n",
      "309:\tlearn: 0.3349121\ttotal: 1.95s\tremaining: 2.46s\n",
      "310:\tlearn: 0.3348558\ttotal: 1.96s\tremaining: 2.45s\n",
      "311:\tlearn: 0.3347683\ttotal: 1.97s\tremaining: 2.45s\n",
      "312:\tlearn: 0.3346003\ttotal: 1.99s\tremaining: 2.46s\n",
      "313:\tlearn: 0.3343664\ttotal: 1.99s\tremaining: 2.45s\n",
      "314:\tlearn: 0.3342411\ttotal: 2s\tremaining: 2.44s\n",
      "315:\tlearn: 0.3341060\ttotal: 2s\tremaining: 2.44s\n",
      "316:\tlearn: 0.3339404\ttotal: 2.01s\tremaining: 2.43s\n",
      "317:\tlearn: 0.3337827\ttotal: 2.02s\tremaining: 2.43s\n",
      "318:\tlearn: 0.3336158\ttotal: 2.03s\tremaining: 2.42s\n",
      "319:\tlearn: 0.3334593\ttotal: 2.03s\tremaining: 2.42s\n",
      "320:\tlearn: 0.3333360\ttotal: 2.04s\tremaining: 2.41s\n",
      "321:\tlearn: 0.3332505\ttotal: 2.05s\tremaining: 2.4s\n",
      "322:\tlearn: 0.3328387\ttotal: 2.05s\tremaining: 2.39s\n",
      "323:\tlearn: 0.3326627\ttotal: 2.06s\tremaining: 2.39s\n",
      "324:\tlearn: 0.3325851\ttotal: 2.06s\tremaining: 2.38s\n",
      "325:\tlearn: 0.3323927\ttotal: 2.07s\tremaining: 2.37s\n",
      "326:\tlearn: 0.3321904\ttotal: 2.08s\tremaining: 2.37s\n",
      "327:\tlearn: 0.3321145\ttotal: 2.08s\tremaining: 2.36s\n",
      "328:\tlearn: 0.3319701\ttotal: 2.09s\tremaining: 2.35s\n",
      "329:\tlearn: 0.3318955\ttotal: 2.09s\tremaining: 2.35s\n",
      "330:\tlearn: 0.3318157\ttotal: 2.1s\tremaining: 2.34s\n",
      "331:\tlearn: 0.3316423\ttotal: 2.1s\tremaining: 2.33s\n",
      "332:\tlearn: 0.3315438\ttotal: 2.11s\tremaining: 2.33s\n",
      "333:\tlearn: 0.3314568\ttotal: 2.12s\tremaining: 2.32s\n",
      "334:\tlearn: 0.3313036\ttotal: 2.12s\tremaining: 2.31s\n",
      "335:\tlearn: 0.3311652\ttotal: 2.13s\tremaining: 2.31s\n",
      "336:\tlearn: 0.3310899\ttotal: 2.14s\tremaining: 2.3s\n",
      "337:\tlearn: 0.3309929\ttotal: 2.14s\tremaining: 2.29s\n",
      "338:\tlearn: 0.3308234\ttotal: 2.15s\tremaining: 2.29s\n",
      "339:\tlearn: 0.3306452\ttotal: 2.15s\tremaining: 2.28s\n",
      "340:\tlearn: 0.3303734\ttotal: 2.16s\tremaining: 2.27s\n",
      "341:\tlearn: 0.3303295\ttotal: 2.17s\tremaining: 2.27s\n",
      "342:\tlearn: 0.3301867\ttotal: 2.17s\tremaining: 2.26s\n",
      "343:\tlearn: 0.3300143\ttotal: 2.18s\tremaining: 2.25s\n",
      "344:\tlearn: 0.3299042\ttotal: 2.18s\tremaining: 2.25s\n",
      "345:\tlearn: 0.3298750\ttotal: 2.19s\tremaining: 2.24s\n",
      "346:\tlearn: 0.3297441\ttotal: 2.19s\tremaining: 2.23s\n",
      "347:\tlearn: 0.3295819\ttotal: 2.2s\tremaining: 2.23s\n",
      "348:\tlearn: 0.3294001\ttotal: 2.21s\tremaining: 2.22s\n",
      "349:\tlearn: 0.3293215\ttotal: 2.21s\tremaining: 2.21s\n",
      "350:\tlearn: 0.3291702\ttotal: 2.22s\tremaining: 2.21s\n",
      "351:\tlearn: 0.3290518\ttotal: 2.23s\tremaining: 2.21s\n",
      "352:\tlearn: 0.3289630\ttotal: 2.24s\tremaining: 2.2s\n",
      "353:\tlearn: 0.3288404\ttotal: 2.25s\tremaining: 2.19s\n",
      "354:\tlearn: 0.3287367\ttotal: 2.25s\tremaining: 2.19s\n",
      "355:\tlearn: 0.3285946\ttotal: 2.26s\tremaining: 2.18s\n",
      "356:\tlearn: 0.3284602\ttotal: 2.26s\tremaining: 2.17s\n",
      "357:\tlearn: 0.3283520\ttotal: 2.27s\tremaining: 2.17s\n",
      "358:\tlearn: 0.3282189\ttotal: 2.27s\tremaining: 2.16s\n",
      "359:\tlearn: 0.3280479\ttotal: 2.28s\tremaining: 2.15s\n",
      "360:\tlearn: 0.3278884\ttotal: 2.29s\tremaining: 2.15s\n",
      "361:\tlearn: 0.3277155\ttotal: 2.29s\tremaining: 2.14s\n",
      "362:\tlearn: 0.3276332\ttotal: 2.3s\tremaining: 2.13s\n",
      "363:\tlearn: 0.3275556\ttotal: 2.31s\tremaining: 2.13s\n",
      "364:\tlearn: 0.3273996\ttotal: 2.31s\tremaining: 2.12s\n",
      "365:\tlearn: 0.3273299\ttotal: 2.32s\tremaining: 2.11s\n",
      "366:\tlearn: 0.3271126\ttotal: 2.32s\tremaining: 2.11s\n",
      "367:\tlearn: 0.3269859\ttotal: 2.33s\tremaining: 2.1s\n",
      "368:\tlearn: 0.3268726\ttotal: 2.33s\tremaining: 2.09s\n",
      "369:\tlearn: 0.3266813\ttotal: 2.34s\tremaining: 2.09s\n",
      "370:\tlearn: 0.3265374\ttotal: 2.35s\tremaining: 2.08s\n",
      "371:\tlearn: 0.3264142\ttotal: 2.35s\tremaining: 2.07s\n",
      "372:\tlearn: 0.3263167\ttotal: 2.36s\tremaining: 2.06s\n",
      "373:\tlearn: 0.3262442\ttotal: 2.36s\tremaining: 2.06s\n",
      "374:\tlearn: 0.3261336\ttotal: 2.37s\tremaining: 2.05s\n",
      "375:\tlearn: 0.3260577\ttotal: 2.37s\tremaining: 2.04s\n",
      "376:\tlearn: 0.3259287\ttotal: 2.38s\tremaining: 2.04s\n",
      "377:\tlearn: 0.3257989\ttotal: 2.38s\tremaining: 2.03s\n",
      "378:\tlearn: 0.3256626\ttotal: 2.39s\tremaining: 2.02s\n",
      "379:\tlearn: 0.3255729\ttotal: 2.4s\tremaining: 2.02s\n",
      "380:\tlearn: 0.3253985\ttotal: 2.4s\tremaining: 2.01s\n",
      "381:\tlearn: 0.3252614\ttotal: 2.41s\tremaining: 2s\n",
      "382:\tlearn: 0.3250807\ttotal: 2.42s\tremaining: 2s\n",
      "383:\tlearn: 0.3249084\ttotal: 2.43s\tremaining: 2s\n",
      "384:\tlearn: 0.3247596\ttotal: 2.43s\tremaining: 1.99s\n",
      "385:\tlearn: 0.3246587\ttotal: 2.44s\tremaining: 1.99s\n",
      "386:\tlearn: 0.3245373\ttotal: 2.45s\tremaining: 1.98s\n",
      "387:\tlearn: 0.3243589\ttotal: 2.45s\tremaining: 1.97s\n",
      "388:\tlearn: 0.3242204\ttotal: 2.46s\tremaining: 1.96s\n",
      "389:\tlearn: 0.3241486\ttotal: 2.46s\tremaining: 1.96s\n",
      "390:\tlearn: 0.3240305\ttotal: 2.47s\tremaining: 1.95s\n",
      "391:\tlearn: 0.3238204\ttotal: 2.48s\tremaining: 1.94s\n",
      "392:\tlearn: 0.3237033\ttotal: 2.48s\tremaining: 1.94s\n",
      "393:\tlearn: 0.3235881\ttotal: 2.49s\tremaining: 1.93s\n",
      "394:\tlearn: 0.3233924\ttotal: 2.49s\tremaining: 1.92s\n",
      "395:\tlearn: 0.3232619\ttotal: 2.5s\tremaining: 1.92s\n",
      "396:\tlearn: 0.3230973\ttotal: 2.5s\tremaining: 1.91s\n",
      "397:\tlearn: 0.3229454\ttotal: 2.51s\tremaining: 1.9s\n",
      "398:\tlearn: 0.3228600\ttotal: 2.52s\tremaining: 1.9s\n",
      "399:\tlearn: 0.3227682\ttotal: 2.52s\tremaining: 1.89s\n",
      "400:\tlearn: 0.3227129\ttotal: 2.53s\tremaining: 1.88s\n",
      "401:\tlearn: 0.3225860\ttotal: 2.53s\tremaining: 1.88s\n",
      "402:\tlearn: 0.3225178\ttotal: 2.54s\tremaining: 1.87s\n",
      "403:\tlearn: 0.3223139\ttotal: 2.54s\tremaining: 1.86s\n",
      "404:\tlearn: 0.3220991\ttotal: 2.55s\tremaining: 1.86s\n",
      "405:\tlearn: 0.3220185\ttotal: 2.56s\tremaining: 1.85s\n",
      "406:\tlearn: 0.3218879\ttotal: 2.56s\tremaining: 1.84s\n",
      "407:\tlearn: 0.3218018\ttotal: 2.57s\tremaining: 1.84s\n",
      "408:\tlearn: 0.3217227\ttotal: 2.57s\tremaining: 1.83s\n",
      "409:\tlearn: 0.3216731\ttotal: 2.58s\tremaining: 1.82s\n",
      "410:\tlearn: 0.3215980\ttotal: 2.58s\tremaining: 1.82s\n",
      "411:\tlearn: 0.3213701\ttotal: 2.59s\tremaining: 1.81s\n",
      "412:\tlearn: 0.3211978\ttotal: 2.6s\tremaining: 1.81s\n",
      "413:\tlearn: 0.3210386\ttotal: 2.6s\tremaining: 1.8s\n",
      "414:\tlearn: 0.3209447\ttotal: 2.61s\tremaining: 1.79s\n",
      "415:\tlearn: 0.3208353\ttotal: 2.62s\tremaining: 1.79s\n",
      "416:\tlearn: 0.3207892\ttotal: 2.63s\tremaining: 1.78s\n",
      "417:\tlearn: 0.3206776\ttotal: 2.63s\tremaining: 1.78s\n",
      "418:\tlearn: 0.3205067\ttotal: 2.64s\tremaining: 1.77s\n",
      "419:\tlearn: 0.3204068\ttotal: 2.65s\tremaining: 1.76s\n",
      "420:\tlearn: 0.3202017\ttotal: 2.65s\tremaining: 1.76s\n",
      "421:\tlearn: 0.3201435\ttotal: 2.66s\tremaining: 1.75s\n",
      "422:\tlearn: 0.3201050\ttotal: 2.66s\tremaining: 1.74s\n",
      "423:\tlearn: 0.3199340\ttotal: 2.67s\tremaining: 1.74s\n",
      "424:\tlearn: 0.3198465\ttotal: 2.68s\tremaining: 1.73s\n",
      "425:\tlearn: 0.3197401\ttotal: 2.68s\tremaining: 1.73s\n",
      "426:\tlearn: 0.3196504\ttotal: 2.69s\tremaining: 1.72s\n",
      "427:\tlearn: 0.3194920\ttotal: 2.69s\tremaining: 1.71s\n",
      "428:\tlearn: 0.3194009\ttotal: 2.7s\tremaining: 1.71s\n",
      "429:\tlearn: 0.3193093\ttotal: 2.71s\tremaining: 1.7s\n",
      "430:\tlearn: 0.3191806\ttotal: 2.71s\tremaining: 1.69s\n",
      "431:\tlearn: 0.3190584\ttotal: 2.72s\tremaining: 1.69s\n",
      "432:\tlearn: 0.3189317\ttotal: 2.72s\tremaining: 1.68s\n",
      "433:\tlearn: 0.3188202\ttotal: 2.73s\tremaining: 1.67s\n",
      "434:\tlearn: 0.3186673\ttotal: 2.73s\tremaining: 1.67s\n",
      "435:\tlearn: 0.3185781\ttotal: 2.74s\tremaining: 1.66s\n",
      "436:\tlearn: 0.3184665\ttotal: 2.75s\tremaining: 1.65s\n",
      "437:\tlearn: 0.3182959\ttotal: 2.75s\tremaining: 1.65s\n",
      "438:\tlearn: 0.3181535\ttotal: 2.76s\tremaining: 1.64s\n",
      "439:\tlearn: 0.3180877\ttotal: 2.76s\tremaining: 1.63s\n",
      "440:\tlearn: 0.3179416\ttotal: 2.77s\tremaining: 1.63s\n",
      "441:\tlearn: 0.3177690\ttotal: 2.77s\tremaining: 1.62s\n",
      "442:\tlearn: 0.3176879\ttotal: 2.78s\tremaining: 1.61s\n",
      "443:\tlearn: 0.3175104\ttotal: 2.79s\tremaining: 1.61s\n",
      "444:\tlearn: 0.3173871\ttotal: 2.79s\tremaining: 1.6s\n",
      "445:\tlearn: 0.3172246\ttotal: 2.8s\tremaining: 1.59s\n",
      "446:\tlearn: 0.3171369\ttotal: 2.8s\tremaining: 1.59s\n",
      "447:\tlearn: 0.3170742\ttotal: 2.81s\tremaining: 1.58s\n",
      "448:\tlearn: 0.3169638\ttotal: 2.82s\tremaining: 1.58s\n",
      "449:\tlearn: 0.3168597\ttotal: 2.83s\tremaining: 1.57s\n",
      "450:\tlearn: 0.3167565\ttotal: 2.84s\tremaining: 1.57s\n",
      "451:\tlearn: 0.3166501\ttotal: 2.85s\tremaining: 1.56s\n",
      "452:\tlearn: 0.3165117\ttotal: 2.85s\tremaining: 1.55s\n",
      "453:\tlearn: 0.3163809\ttotal: 2.86s\tremaining: 1.55s\n",
      "454:\tlearn: 0.3162940\ttotal: 2.86s\tremaining: 1.54s\n",
      "455:\tlearn: 0.3162345\ttotal: 2.87s\tremaining: 1.54s\n",
      "456:\tlearn: 0.3161885\ttotal: 2.88s\tremaining: 1.53s\n",
      "457:\tlearn: 0.3161021\ttotal: 2.88s\tremaining: 1.52s\n",
      "458:\tlearn: 0.3159947\ttotal: 2.89s\tremaining: 1.52s\n",
      "459:\tlearn: 0.3158616\ttotal: 2.89s\tremaining: 1.51s\n",
      "460:\tlearn: 0.3157285\ttotal: 2.9s\tremaining: 1.5s\n",
      "461:\tlearn: 0.3155643\ttotal: 2.91s\tremaining: 1.5s\n",
      "462:\tlearn: 0.3154125\ttotal: 2.91s\tremaining: 1.49s\n",
      "463:\tlearn: 0.3152679\ttotal: 2.92s\tremaining: 1.48s\n",
      "464:\tlearn: 0.3151682\ttotal: 2.92s\tremaining: 1.48s\n",
      "465:\tlearn: 0.3150701\ttotal: 2.93s\tremaining: 1.47s\n",
      "466:\tlearn: 0.3149066\ttotal: 2.94s\tremaining: 1.46s\n",
      "467:\tlearn: 0.3147669\ttotal: 2.94s\tremaining: 1.46s\n",
      "468:\tlearn: 0.3146910\ttotal: 2.95s\tremaining: 1.45s\n",
      "469:\tlearn: 0.3145954\ttotal: 2.96s\tremaining: 1.45s\n",
      "470:\tlearn: 0.3144072\ttotal: 2.98s\tremaining: 1.45s\n",
      "471:\tlearn: 0.3143543\ttotal: 2.98s\tremaining: 1.44s\n",
      "472:\tlearn: 0.3142962\ttotal: 2.99s\tremaining: 1.43s\n",
      "473:\tlearn: 0.3142066\ttotal: 2.99s\tremaining: 1.43s\n",
      "474:\tlearn: 0.3141192\ttotal: 3s\tremaining: 1.42s\n",
      "475:\tlearn: 0.3139268\ttotal: 3.01s\tremaining: 1.41s\n",
      "476:\tlearn: 0.3137777\ttotal: 3.01s\tremaining: 1.41s\n",
      "477:\tlearn: 0.3136956\ttotal: 3.02s\tremaining: 1.4s\n",
      "478:\tlearn: 0.3135876\ttotal: 3.03s\tremaining: 1.4s\n",
      "479:\tlearn: 0.3135308\ttotal: 3.04s\tremaining: 1.39s\n",
      "480:\tlearn: 0.3134021\ttotal: 3.05s\tremaining: 1.39s\n",
      "481:\tlearn: 0.3132562\ttotal: 3.05s\tremaining: 1.38s\n",
      "482:\tlearn: 0.3131313\ttotal: 3.06s\tremaining: 1.37s\n",
      "483:\tlearn: 0.3129673\ttotal: 3.06s\tremaining: 1.37s\n",
      "484:\tlearn: 0.3128255\ttotal: 3.07s\tremaining: 1.36s\n",
      "485:\tlearn: 0.3126838\ttotal: 3.08s\tremaining: 1.35s\n",
      "486:\tlearn: 0.3124953\ttotal: 3.08s\tremaining: 1.35s\n",
      "487:\tlearn: 0.3123666\ttotal: 3.09s\tremaining: 1.34s\n",
      "488:\tlearn: 0.3122991\ttotal: 3.09s\tremaining: 1.33s\n",
      "489:\tlearn: 0.3121333\ttotal: 3.1s\tremaining: 1.33s\n",
      "490:\tlearn: 0.3120460\ttotal: 3.1s\tremaining: 1.32s\n",
      "491:\tlearn: 0.3119269\ttotal: 3.11s\tremaining: 1.31s\n",
      "492:\tlearn: 0.3117908\ttotal: 3.12s\tremaining: 1.31s\n",
      "493:\tlearn: 0.3116135\ttotal: 3.12s\tremaining: 1.3s\n",
      "494:\tlearn: 0.3114645\ttotal: 3.13s\tremaining: 1.29s\n",
      "495:\tlearn: 0.3113174\ttotal: 3.13s\tremaining: 1.29s\n",
      "496:\tlearn: 0.3112327\ttotal: 3.14s\tremaining: 1.28s\n",
      "497:\tlearn: 0.3110703\ttotal: 3.15s\tremaining: 1.27s\n",
      "498:\tlearn: 0.3108940\ttotal: 3.15s\tremaining: 1.27s\n",
      "499:\tlearn: 0.3107500\ttotal: 3.16s\tremaining: 1.26s\n",
      "500:\tlearn: 0.3106285\ttotal: 3.16s\tremaining: 1.26s\n",
      "501:\tlearn: 0.3104750\ttotal: 3.17s\tremaining: 1.25s\n",
      "502:\tlearn: 0.3103759\ttotal: 3.17s\tremaining: 1.24s\n",
      "503:\tlearn: 0.3102532\ttotal: 3.18s\tremaining: 1.24s\n",
      "504:\tlearn: 0.3101159\ttotal: 3.19s\tremaining: 1.23s\n",
      "505:\tlearn: 0.3100370\ttotal: 3.19s\tremaining: 1.22s\n",
      "506:\tlearn: 0.3098378\ttotal: 3.2s\tremaining: 1.22s\n",
      "507:\tlearn: 0.3096611\ttotal: 3.2s\tremaining: 1.21s\n",
      "508:\tlearn: 0.3095108\ttotal: 3.21s\tremaining: 1.2s\n",
      "509:\tlearn: 0.3093407\ttotal: 3.22s\tremaining: 1.2s\n",
      "510:\tlearn: 0.3092435\ttotal: 3.23s\tremaining: 1.19s\n",
      "511:\tlearn: 0.3091673\ttotal: 3.24s\tremaining: 1.19s\n",
      "512:\tlearn: 0.3090635\ttotal: 3.24s\tremaining: 1.18s\n",
      "513:\tlearn: 0.3088833\ttotal: 3.25s\tremaining: 1.18s\n",
      "514:\tlearn: 0.3087197\ttotal: 3.25s\tremaining: 1.17s\n",
      "515:\tlearn: 0.3086528\ttotal: 3.26s\tremaining: 1.16s\n",
      "516:\tlearn: 0.3085313\ttotal: 3.27s\tremaining: 1.16s\n",
      "517:\tlearn: 0.3084722\ttotal: 3.27s\tremaining: 1.15s\n",
      "518:\tlearn: 0.3083869\ttotal: 3.28s\tremaining: 1.14s\n",
      "519:\tlearn: 0.3082437\ttotal: 3.29s\tremaining: 1.14s\n",
      "520:\tlearn: 0.3082090\ttotal: 3.29s\tremaining: 1.13s\n",
      "521:\tlearn: 0.3080511\ttotal: 3.3s\tremaining: 1.12s\n",
      "522:\tlearn: 0.3079696\ttotal: 3.31s\tremaining: 1.12s\n",
      "523:\tlearn: 0.3078794\ttotal: 3.31s\tremaining: 1.11s\n",
      "524:\tlearn: 0.3078210\ttotal: 3.32s\tremaining: 1.11s\n",
      "525:\tlearn: 0.3076966\ttotal: 3.33s\tremaining: 1.1s\n",
      "526:\tlearn: 0.3075322\ttotal: 3.33s\tremaining: 1.09s\n",
      "527:\tlearn: 0.3074169\ttotal: 3.34s\tremaining: 1.09s\n",
      "528:\tlearn: 0.3072862\ttotal: 3.34s\tremaining: 1.08s\n",
      "529:\tlearn: 0.3070423\ttotal: 3.35s\tremaining: 1.07s\n",
      "530:\tlearn: 0.3069559\ttotal: 3.36s\tremaining: 1.07s\n",
      "531:\tlearn: 0.3068955\ttotal: 3.36s\tremaining: 1.06s\n",
      "532:\tlearn: 0.3067587\ttotal: 3.37s\tremaining: 1.05s\n",
      "533:\tlearn: 0.3066886\ttotal: 3.37s\tremaining: 1.05s\n",
      "534:\tlearn: 0.3065461\ttotal: 3.38s\tremaining: 1.04s\n",
      "535:\tlearn: 0.3063429\ttotal: 3.38s\tremaining: 1.03s\n",
      "536:\tlearn: 0.3062892\ttotal: 3.39s\tremaining: 1.03s\n",
      "537:\tlearn: 0.3061627\ttotal: 3.4s\tremaining: 1.02s\n",
      "538:\tlearn: 0.3060134\ttotal: 3.4s\tremaining: 1.02s\n",
      "539:\tlearn: 0.3059274\ttotal: 3.41s\tremaining: 1.01s\n",
      "540:\tlearn: 0.3057652\ttotal: 3.41s\tremaining: 1s\n",
      "541:\tlearn: 0.3056943\ttotal: 3.43s\tremaining: 999ms\n",
      "542:\tlearn: 0.3055936\ttotal: 3.44s\tremaining: 993ms\n",
      "543:\tlearn: 0.3054062\ttotal: 3.44s\tremaining: 987ms\n",
      "544:\tlearn: 0.3052627\ttotal: 3.45s\tremaining: 980ms\n",
      "545:\tlearn: 0.3050580\ttotal: 3.45s\tremaining: 974ms\n",
      "546:\tlearn: 0.3049004\ttotal: 3.46s\tremaining: 967ms\n",
      "547:\tlearn: 0.3048042\ttotal: 3.46s\tremaining: 961ms\n",
      "548:\tlearn: 0.3046875\ttotal: 3.47s\tremaining: 954ms\n",
      "549:\tlearn: 0.3045322\ttotal: 3.47s\tremaining: 948ms\n",
      "550:\tlearn: 0.3043690\ttotal: 3.48s\tremaining: 941ms\n",
      "551:\tlearn: 0.3041631\ttotal: 3.49s\tremaining: 935ms\n",
      "552:\tlearn: 0.3041182\ttotal: 3.49s\tremaining: 928ms\n",
      "553:\tlearn: 0.3039604\ttotal: 3.5s\tremaining: 922ms\n",
      "554:\tlearn: 0.3038499\ttotal: 3.5s\tremaining: 916ms\n",
      "555:\tlearn: 0.3038180\ttotal: 3.51s\tremaining: 910ms\n",
      "556:\tlearn: 0.3036681\ttotal: 3.52s\tremaining: 903ms\n",
      "557:\tlearn: 0.3035088\ttotal: 3.52s\tremaining: 897ms\n",
      "558:\tlearn: 0.3033927\ttotal: 3.53s\tremaining: 890ms\n",
      "559:\tlearn: 0.3032744\ttotal: 3.53s\tremaining: 884ms\n",
      "560:\tlearn: 0.3031595\ttotal: 3.54s\tremaining: 877ms\n",
      "561:\tlearn: 0.3030433\ttotal: 3.55s\tremaining: 873ms\n",
      "562:\tlearn: 0.3029675\ttotal: 3.56s\tremaining: 866ms\n",
      "563:\tlearn: 0.3028491\ttotal: 3.56s\tremaining: 860ms\n",
      "564:\tlearn: 0.3027707\ttotal: 3.57s\tremaining: 853ms\n",
      "565:\tlearn: 0.3026448\ttotal: 3.58s\tremaining: 847ms\n",
      "566:\tlearn: 0.3025126\ttotal: 3.58s\tremaining: 841ms\n",
      "567:\tlearn: 0.3023555\ttotal: 3.59s\tremaining: 834ms\n",
      "568:\tlearn: 0.3022521\ttotal: 3.6s\tremaining: 828ms\n",
      "569:\tlearn: 0.3021340\ttotal: 3.6s\tremaining: 821ms\n",
      "570:\tlearn: 0.3019570\ttotal: 3.61s\tremaining: 815ms\n",
      "571:\tlearn: 0.3017403\ttotal: 3.61s\tremaining: 808ms\n",
      "572:\tlearn: 0.3016447\ttotal: 3.62s\tremaining: 803ms\n",
      "573:\tlearn: 0.3014995\ttotal: 3.63s\tremaining: 797ms\n",
      "574:\tlearn: 0.3013263\ttotal: 3.64s\tremaining: 791ms\n",
      "575:\tlearn: 0.3011936\ttotal: 3.64s\tremaining: 784ms\n",
      "576:\tlearn: 0.3010886\ttotal: 3.65s\tremaining: 778ms\n",
      "577:\tlearn: 0.3010109\ttotal: 3.65s\tremaining: 771ms\n",
      "578:\tlearn: 0.3009314\ttotal: 3.66s\tremaining: 765ms\n",
      "579:\tlearn: 0.3008093\ttotal: 3.67s\tremaining: 758ms\n",
      "580:\tlearn: 0.3007159\ttotal: 3.67s\tremaining: 752ms\n",
      "581:\tlearn: 0.3006122\ttotal: 3.68s\tremaining: 746ms\n",
      "582:\tlearn: 0.3004840\ttotal: 3.68s\tremaining: 739ms\n",
      "583:\tlearn: 0.3003858\ttotal: 3.69s\tremaining: 733ms\n",
      "584:\tlearn: 0.3002687\ttotal: 3.69s\tremaining: 726ms\n",
      "585:\tlearn: 0.3000952\ttotal: 3.7s\tremaining: 720ms\n",
      "586:\tlearn: 0.3000276\ttotal: 3.71s\tremaining: 714ms\n",
      "587:\tlearn: 0.2999392\ttotal: 3.71s\tremaining: 707ms\n",
      "588:\tlearn: 0.2998086\ttotal: 3.72s\tremaining: 701ms\n",
      "589:\tlearn: 0.2996640\ttotal: 3.72s\tremaining: 694ms\n",
      "590:\tlearn: 0.2995924\ttotal: 3.73s\tremaining: 688ms\n",
      "591:\tlearn: 0.2995097\ttotal: 3.73s\tremaining: 681ms\n",
      "592:\tlearn: 0.2993659\ttotal: 3.74s\tremaining: 675ms\n",
      "593:\tlearn: 0.2991714\ttotal: 3.75s\tremaining: 669ms\n",
      "594:\tlearn: 0.2991043\ttotal: 3.75s\tremaining: 662ms\n",
      "595:\tlearn: 0.2989934\ttotal: 3.76s\tremaining: 656ms\n",
      "596:\tlearn: 0.2989294\ttotal: 3.76s\tremaining: 649ms\n",
      "597:\tlearn: 0.2988670\ttotal: 3.77s\tremaining: 643ms\n",
      "598:\tlearn: 0.2987325\ttotal: 3.77s\tremaining: 637ms\n",
      "599:\tlearn: 0.2986339\ttotal: 3.78s\tremaining: 630ms\n",
      "600:\tlearn: 0.2985594\ttotal: 3.79s\tremaining: 624ms\n",
      "601:\tlearn: 0.2984302\ttotal: 3.79s\tremaining: 617ms\n",
      "602:\tlearn: 0.2983269\ttotal: 3.8s\tremaining: 611ms\n",
      "603:\tlearn: 0.2982595\ttotal: 3.81s\tremaining: 605ms\n",
      "604:\tlearn: 0.2981399\ttotal: 3.81s\tremaining: 599ms\n",
      "605:\tlearn: 0.2980687\ttotal: 3.82s\tremaining: 593ms\n",
      "606:\tlearn: 0.2979776\ttotal: 3.83s\tremaining: 587ms\n",
      "607:\tlearn: 0.2979002\ttotal: 3.84s\tremaining: 581ms\n",
      "608:\tlearn: 0.2977962\ttotal: 3.84s\tremaining: 574ms\n",
      "609:\tlearn: 0.2976962\ttotal: 3.85s\tremaining: 568ms\n",
      "610:\tlearn: 0.2976457\ttotal: 3.85s\tremaining: 562ms\n",
      "611:\tlearn: 0.2975577\ttotal: 3.86s\tremaining: 555ms\n",
      "612:\tlearn: 0.2974751\ttotal: 3.87s\tremaining: 549ms\n",
      "613:\tlearn: 0.2974397\ttotal: 3.87s\tremaining: 542ms\n",
      "614:\tlearn: 0.2973290\ttotal: 3.88s\tremaining: 536ms\n",
      "615:\tlearn: 0.2972559\ttotal: 3.88s\tremaining: 530ms\n",
      "616:\tlearn: 0.2971546\ttotal: 3.89s\tremaining: 523ms\n",
      "617:\tlearn: 0.2970034\ttotal: 3.9s\tremaining: 517ms\n",
      "618:\tlearn: 0.2969069\ttotal: 3.9s\tremaining: 510ms\n",
      "619:\tlearn: 0.2967555\ttotal: 3.91s\tremaining: 504ms\n",
      "620:\tlearn: 0.2966735\ttotal: 3.91s\tremaining: 498ms\n",
      "621:\tlearn: 0.2965583\ttotal: 3.92s\tremaining: 491ms\n",
      "622:\tlearn: 0.2964814\ttotal: 3.92s\tremaining: 485ms\n",
      "623:\tlearn: 0.2964074\ttotal: 3.93s\tremaining: 479ms\n",
      "624:\tlearn: 0.2963011\ttotal: 3.94s\tremaining: 473ms\n",
      "625:\tlearn: 0.2962680\ttotal: 3.95s\tremaining: 467ms\n",
      "626:\tlearn: 0.2961075\ttotal: 3.96s\tremaining: 461ms\n",
      "627:\tlearn: 0.2959703\ttotal: 3.97s\tremaining: 455ms\n",
      "628:\tlearn: 0.2959025\ttotal: 3.97s\tremaining: 449ms\n",
      "629:\tlearn: 0.2957226\ttotal: 3.98s\tremaining: 442ms\n",
      "630:\tlearn: 0.2956455\ttotal: 3.99s\tremaining: 436ms\n",
      "631:\tlearn: 0.2955680\ttotal: 3.99s\tremaining: 430ms\n",
      "632:\tlearn: 0.2954517\ttotal: 4s\tremaining: 423ms\n",
      "633:\tlearn: 0.2953677\ttotal: 4s\tremaining: 417ms\n",
      "634:\tlearn: 0.2952305\ttotal: 4.01s\tremaining: 410ms\n",
      "635:\tlearn: 0.2951153\ttotal: 4.02s\tremaining: 405ms\n",
      "636:\tlearn: 0.2949566\ttotal: 4.03s\tremaining: 398ms\n",
      "637:\tlearn: 0.2948700\ttotal: 4.04s\tremaining: 393ms\n",
      "638:\tlearn: 0.2947175\ttotal: 4.05s\tremaining: 386ms\n",
      "639:\tlearn: 0.2946042\ttotal: 4.05s\tremaining: 380ms\n",
      "640:\tlearn: 0.2944391\ttotal: 4.06s\tremaining: 374ms\n",
      "641:\tlearn: 0.2943372\ttotal: 4.06s\tremaining: 367ms\n",
      "642:\tlearn: 0.2941343\ttotal: 4.07s\tremaining: 361ms\n",
      "643:\tlearn: 0.2940337\ttotal: 4.08s\tremaining: 354ms\n",
      "644:\tlearn: 0.2939514\ttotal: 4.08s\tremaining: 348ms\n",
      "645:\tlearn: 0.2937506\ttotal: 4.09s\tremaining: 342ms\n",
      "646:\tlearn: 0.2936219\ttotal: 4.09s\tremaining: 335ms\n",
      "647:\tlearn: 0.2934973\ttotal: 4.1s\tremaining: 329ms\n",
      "648:\tlearn: 0.2933543\ttotal: 4.11s\tremaining: 323ms\n",
      "649:\tlearn: 0.2931736\ttotal: 4.11s\tremaining: 316ms\n",
      "650:\tlearn: 0.2930395\ttotal: 4.12s\tremaining: 310ms\n",
      "651:\tlearn: 0.2929854\ttotal: 4.13s\tremaining: 304ms\n",
      "652:\tlearn: 0.2928935\ttotal: 4.13s\tremaining: 297ms\n",
      "653:\tlearn: 0.2927671\ttotal: 4.14s\tremaining: 291ms\n",
      "654:\tlearn: 0.2926498\ttotal: 4.14s\tremaining: 285ms\n",
      "655:\tlearn: 0.2925989\ttotal: 4.15s\tremaining: 278ms\n",
      "656:\tlearn: 0.2924473\ttotal: 4.16s\tremaining: 272ms\n",
      "657:\tlearn: 0.2923712\ttotal: 4.16s\tremaining: 266ms\n",
      "658:\tlearn: 0.2922716\ttotal: 4.17s\tremaining: 259ms\n",
      "659:\tlearn: 0.2921409\ttotal: 4.18s\tremaining: 253ms\n",
      "660:\tlearn: 0.2919549\ttotal: 4.18s\tremaining: 247ms\n",
      "661:\tlearn: 0.2918422\ttotal: 4.19s\tremaining: 240ms\n",
      "662:\tlearn: 0.2917138\ttotal: 4.19s\tremaining: 234ms\n",
      "663:\tlearn: 0.2916834\ttotal: 4.2s\tremaining: 228ms\n",
      "664:\tlearn: 0.2915301\ttotal: 4.21s\tremaining: 221ms\n",
      "665:\tlearn: 0.2914100\ttotal: 4.21s\tremaining: 215ms\n",
      "666:\tlearn: 0.2913258\ttotal: 4.22s\tremaining: 209ms\n",
      "667:\tlearn: 0.2912366\ttotal: 4.23s\tremaining: 203ms\n",
      "668:\tlearn: 0.2911762\ttotal: 4.24s\tremaining: 196ms\n",
      "669:\tlearn: 0.2911123\ttotal: 4.24s\tremaining: 190ms\n",
      "670:\tlearn: 0.2910062\ttotal: 4.25s\tremaining: 184ms\n",
      "671:\tlearn: 0.2908908\ttotal: 4.25s\tremaining: 177ms\n",
      "672:\tlearn: 0.2908201\ttotal: 4.26s\tremaining: 171ms\n",
      "673:\tlearn: 0.2907114\ttotal: 4.26s\tremaining: 164ms\n",
      "674:\tlearn: 0.2906427\ttotal: 4.27s\tremaining: 158ms\n",
      "675:\tlearn: 0.2904649\ttotal: 4.28s\tremaining: 152ms\n",
      "676:\tlearn: 0.2903269\ttotal: 4.28s\tremaining: 145ms\n",
      "677:\tlearn: 0.2901800\ttotal: 4.29s\tremaining: 139ms\n",
      "678:\tlearn: 0.2900245\ttotal: 4.29s\tremaining: 133ms\n",
      "679:\tlearn: 0.2899204\ttotal: 4.3s\tremaining: 126ms\n",
      "680:\tlearn: 0.2897670\ttotal: 4.3s\tremaining: 120ms\n",
      "681:\tlearn: 0.2895382\ttotal: 4.31s\tremaining: 114ms\n",
      "682:\tlearn: 0.2894630\ttotal: 4.31s\tremaining: 107ms\n",
      "683:\tlearn: 0.2893480\ttotal: 4.32s\tremaining: 101ms\n",
      "684:\tlearn: 0.2891646\ttotal: 4.33s\tremaining: 94.7ms\n",
      "685:\tlearn: 0.2889634\ttotal: 4.33s\tremaining: 88.4ms\n",
      "686:\tlearn: 0.2888577\ttotal: 4.34s\tremaining: 82.1ms\n",
      "687:\tlearn: 0.2888032\ttotal: 4.34s\tremaining: 75.8ms\n",
      "688:\tlearn: 0.2886357\ttotal: 4.35s\tremaining: 69.5ms\n",
      "689:\tlearn: 0.2884599\ttotal: 4.36s\tremaining: 63.1ms\n",
      "690:\tlearn: 0.2884313\ttotal: 4.36s\tremaining: 56.8ms\n",
      "691:\tlearn: 0.2883452\ttotal: 4.37s\tremaining: 50.5ms\n",
      "692:\tlearn: 0.2882678\ttotal: 4.37s\tremaining: 44.2ms\n",
      "693:\tlearn: 0.2882237\ttotal: 4.38s\tremaining: 37.9ms\n",
      "694:\tlearn: 0.2881430\ttotal: 4.38s\tremaining: 31.5ms\n",
      "695:\tlearn: 0.2880061\ttotal: 4.39s\tremaining: 25.2ms\n",
      "696:\tlearn: 0.2879208\ttotal: 4.4s\tremaining: 18.9ms\n",
      "697:\tlearn: 0.2878268\ttotal: 4.4s\tremaining: 12.6ms\n",
      "698:\tlearn: 0.2877486\ttotal: 4.41s\tremaining: 6.31ms\n",
      "699:\tlearn: 0.2876611\ttotal: 4.41s\tremaining: 0us\n"
     ]
    }
   ],
   "source": [
    "cb_clf_model.fit(X_train,Y_train)\n",
    "Y_predict = cb_clf_model.predict(X_test)"
   ]
  },
  {
   "cell_type": "code",
   "execution_count": null,
   "id": "0F5Hse1DOrx5",
   "metadata": {
    "colab": {
     "base_uri": "https://localhost:8080/"
    },
    "id": "0F5Hse1DOrx5",
    "outputId": "e2ad4b68-4088-4db9-be73-562d0cbc2140",
    "scrolled": true
   },
   "outputs": [
    {
     "data": {
      "text/plain": [
       "array([[3303,  438],\n",
       "       [ 573, 1686]])"
      ]
     },
     "execution_count": 126,
     "metadata": {},
     "output_type": "execute_result"
    }
   ],
   "source": [
    "confusion_matrix(Y_test,Y_predict)"
   ]
  },
  {
   "cell_type": "code",
   "execution_count": null,
   "id": "m5wkr46fOrx7",
   "metadata": {
    "colab": {
     "base_uri": "https://localhost:8080/"
    },
    "id": "m5wkr46fOrx7",
    "outputId": "30c0e3d7-d96d-4853-9c84-b7ff0d52e14a",
    "scrolled": true
   },
   "outputs": [
    {
     "name": "stdout",
     "output_type": "stream",
     "text": [
      "              precision    recall  f1-score   support\n",
      "\n",
      "           0       0.85      0.88      0.87      3741\n",
      "           1       0.79      0.75      0.77      2259\n",
      "\n",
      "    accuracy                           0.83      6000\n",
      "   macro avg       0.82      0.81      0.82      6000\n",
      "weighted avg       0.83      0.83      0.83      6000\n",
      "\n"
     ]
    }
   ],
   "source": [
    "print(classification_report(Y_test,Y_predict))"
   ]
  },
  {
   "cell_type": "code",
   "execution_count": null,
   "id": "cmEdNdiqOrx7",
   "metadata": {
    "colab": {
     "base_uri": "https://localhost:8080/"
    },
    "id": "cmEdNdiqOrx7",
    "outputId": "b4310aca-278e-4db5-c90c-c90e29e30bfa",
    "scrolled": true
   },
   "outputs": [
    {
     "data": {
      "text/plain": [
       "0.7693360711841204"
      ]
     },
     "execution_count": 128,
     "metadata": {},
     "output_type": "execute_result"
    }
   ],
   "source": [
    "f1_score(Y_test,Y_predict)"
   ]
  },
  {
   "cell_type": "code",
   "execution_count": null,
   "id": "HxXiY8UROrx7",
   "metadata": {
    "id": "HxXiY8UROrx7"
   },
   "outputs": [],
   "source": [
    "Y_predict_prob = cb_clf_model.predict_proba(X_test)"
   ]
  },
  {
   "cell_type": "code",
   "execution_count": null,
   "id": "dwwYdbOLOrx7",
   "metadata": {
    "colab": {
     "base_uri": "https://localhost:8080/"
    },
    "id": "dwwYdbOLOrx7",
    "outputId": "497605d2-1d70-4abc-9ee9-5eeb0a5cb6d5"
   },
   "outputs": [
    {
     "data": {
      "text/plain": [
       "0.39351351351351355"
      ]
     },
     "execution_count": 130,
     "metadata": {},
     "output_type": "execute_result"
    }
   ],
   "source": [
    "Threshold_Finder(Y_test,Y_predict_prob)"
   ]
  },
  {
   "cell_type": "code",
   "execution_count": null,
   "id": "rx8_xGXaOrx7",
   "metadata": {
    "colab": {
     "base_uri": "https://localhost:8080/"
    },
    "id": "rx8_xGXaOrx7",
    "outputId": "a2a04d31-ebcd-4380-8880-ba01ee53e1c6",
    "scrolled": true
   },
   "outputs": [
    {
     "name": "stdout",
     "output_type": "stream",
     "text": [
      "              precision    recall  f1-score   support\n",
      "\n",
      "           0       0.87      0.85      0.86      3741\n",
      "           1       0.76      0.79      0.78      2259\n",
      "\n",
      "    accuracy                           0.83      6000\n",
      "   macro avg       0.82      0.82      0.82      6000\n",
      "weighted avg       0.83      0.83      0.83      6000\n",
      "\n"
     ]
    }
   ],
   "source": [
    "Y_predict = Y_predict_prob[:,1] > Threshold_Finder(Y_test,Y_predict_prob)\n",
    "print(classification_report(Y_test,Y_predict))"
   ]
  },
  {
   "cell_type": "code",
   "execution_count": null,
   "id": "niqudCLGQwYW",
   "metadata": {
    "id": "niqudCLGQwYW"
   },
   "outputs": [],
   "source": [
    "temp = X_train.columns"
   ]
  },
  {
   "cell_type": "code",
   "execution_count": null,
   "id": "UkC9SSv7PS1W",
   "metadata": {
    "colab": {
     "base_uri": "https://localhost:8080/",
     "height": 255
    },
    "id": "UkC9SSv7PS1W",
    "outputId": "b0f68a93-b691-423f-8432-f1b0989e5742"
   },
   "outputs": [
    {
     "data": {
      "text/html": [
       "\n",
       "  <div id=\"df-1a2df234-419c-4569-9112-548e05c6713f\" class=\"colab-df-container\">\n",
       "    <div>\n",
       "<style scoped>\n",
       "    .dataframe tbody tr th:only-of-type {\n",
       "        vertical-align: middle;\n",
       "    }\n",
       "\n",
       "    .dataframe tbody tr th {\n",
       "        vertical-align: top;\n",
       "    }\n",
       "\n",
       "    .dataframe thead th {\n",
       "        text-align: right;\n",
       "    }\n",
       "</style>\n",
       "<table border=\"1\" class=\"dataframe\">\n",
       "  <thead>\n",
       "    <tr style=\"text-align: right;\">\n",
       "      <th></th>\n",
       "      <th>var3</th>\n",
       "      <th>var4</th>\n",
       "      <th>var5</th>\n",
       "      <th>var6</th>\n",
       "      <th>var7</th>\n",
       "      <th>var8</th>\n",
       "      <th>var12</th>\n",
       "      <th>var14</th>\n",
       "      <th>var15</th>\n",
       "      <th>var16</th>\n",
       "      <th>...</th>\n",
       "      <th>var23_tf</th>\n",
       "      <th>var23_ub</th>\n",
       "      <th>var23_qu</th>\n",
       "      <th>var23_ri</th>\n",
       "      <th>var23_fe</th>\n",
       "      <th>var23_da</th>\n",
       "      <th>var23_cz</th>\n",
       "      <th>var23_sy</th>\n",
       "      <th>var23_yv</th>\n",
       "      <th>var29_ev</th>\n",
       "    </tr>\n",
       "  </thead>\n",
       "  <tbody>\n",
       "    <tr>\n",
       "      <th>0</th>\n",
       "      <td>1.795857</td>\n",
       "      <td>-0.925540</td>\n",
       "      <td>0.212231</td>\n",
       "      <td>-1.845218</td>\n",
       "      <td>2.164260</td>\n",
       "      <td>0.107453</td>\n",
       "      <td>0.164472</td>\n",
       "      <td>0.874381</td>\n",
       "      <td>0.814711</td>\n",
       "      <td>1.301922</td>\n",
       "      <td>...</td>\n",
       "      <td>1.690716</td>\n",
       "      <td>-0.517781</td>\n",
       "      <td>-0.444259</td>\n",
       "      <td>-0.386983</td>\n",
       "      <td>-0.315444</td>\n",
       "      <td>-0.265377</td>\n",
       "      <td>-0.210141</td>\n",
       "      <td>-0.15186</td>\n",
       "      <td>-0.10363</td>\n",
       "      <td>-1.995584</td>\n",
       "    </tr>\n",
       "    <tr>\n",
       "      <th>1</th>\n",
       "      <td>0.994893</td>\n",
       "      <td>-0.617507</td>\n",
       "      <td>-0.646956</td>\n",
       "      <td>0.710405</td>\n",
       "      <td>1.021448</td>\n",
       "      <td>-0.450844</td>\n",
       "      <td>-0.078446</td>\n",
       "      <td>-0.263682</td>\n",
       "      <td>-1.304482</td>\n",
       "      <td>-0.196447</td>\n",
       "      <td>...</td>\n",
       "      <td>-0.591465</td>\n",
       "      <td>1.931320</td>\n",
       "      <td>-0.444259</td>\n",
       "      <td>-0.386983</td>\n",
       "      <td>-0.315444</td>\n",
       "      <td>-0.265377</td>\n",
       "      <td>-0.210141</td>\n",
       "      <td>-0.15186</td>\n",
       "      <td>-0.10363</td>\n",
       "      <td>0.501107</td>\n",
       "    </tr>\n",
       "    <tr>\n",
       "      <th>2</th>\n",
       "      <td>-0.341154</td>\n",
       "      <td>0.928364</td>\n",
       "      <td>0.358946</td>\n",
       "      <td>1.471601</td>\n",
       "      <td>0.108987</td>\n",
       "      <td>1.240615</td>\n",
       "      <td>-1.172287</td>\n",
       "      <td>-0.980612</td>\n",
       "      <td>-0.757384</td>\n",
       "      <td>2.261316</td>\n",
       "      <td>...</td>\n",
       "      <td>-0.591465</td>\n",
       "      <td>-0.517781</td>\n",
       "      <td>-0.444259</td>\n",
       "      <td>2.584094</td>\n",
       "      <td>-0.315444</td>\n",
       "      <td>-0.265377</td>\n",
       "      <td>-0.210141</td>\n",
       "      <td>-0.15186</td>\n",
       "      <td>-0.10363</td>\n",
       "      <td>0.501107</td>\n",
       "    </tr>\n",
       "    <tr>\n",
       "      <th>3</th>\n",
       "      <td>-0.111833</td>\n",
       "      <td>-0.886323</td>\n",
       "      <td>-1.113731</td>\n",
       "      <td>-0.344039</td>\n",
       "      <td>0.197326</td>\n",
       "      <td>1.275405</td>\n",
       "      <td>0.407390</td>\n",
       "      <td>-0.925464</td>\n",
       "      <td>0.023932</td>\n",
       "      <td>0.517626</td>\n",
       "      <td>...</td>\n",
       "      <td>-0.591465</td>\n",
       "      <td>-0.517781</td>\n",
       "      <td>-0.444259</td>\n",
       "      <td>-0.386983</td>\n",
       "      <td>3.170130</td>\n",
       "      <td>-0.265377</td>\n",
       "      <td>-0.210141</td>\n",
       "      <td>-0.15186</td>\n",
       "      <td>-0.10363</td>\n",
       "      <td>0.501107</td>\n",
       "    </tr>\n",
       "    <tr>\n",
       "      <th>4</th>\n",
       "      <td>-0.184950</td>\n",
       "      <td>-1.549451</td>\n",
       "      <td>-0.526871</td>\n",
       "      <td>1.278182</td>\n",
       "      <td>0.636783</td>\n",
       "      <td>-0.097974</td>\n",
       "      <td>1.597830</td>\n",
       "      <td>-0.594573</td>\n",
       "      <td>-0.853200</td>\n",
       "      <td>-2.034070</td>\n",
       "      <td>...</td>\n",
       "      <td>-0.591465</td>\n",
       "      <td>-0.517781</td>\n",
       "      <td>2.250941</td>\n",
       "      <td>-0.386983</td>\n",
       "      <td>-0.315444</td>\n",
       "      <td>-0.265377</td>\n",
       "      <td>-0.210141</td>\n",
       "      <td>-0.15186</td>\n",
       "      <td>-0.10363</td>\n",
       "      <td>0.501107</td>\n",
       "    </tr>\n",
       "  </tbody>\n",
       "</table>\n",
       "<p>5 rows × 62 columns</p>\n",
       "</div>\n",
       "    <div class=\"colab-df-buttons\">\n",
       "\n",
       "  <div class=\"colab-df-container\">\n",
       "    <button class=\"colab-df-convert\" onclick=\"convertToInteractive('df-1a2df234-419c-4569-9112-548e05c6713f')\"\n",
       "            title=\"Convert this dataframe to an interactive table.\"\n",
       "            style=\"display:none;\">\n",
       "\n",
       "  <svg xmlns=\"http://www.w3.org/2000/svg\" height=\"24px\" viewBox=\"0 -960 960 960\">\n",
       "    <path d=\"M120-120v-720h720v720H120Zm60-500h600v-160H180v160Zm220 220h160v-160H400v160Zm0 220h160v-160H400v160ZM180-400h160v-160H180v160Zm440 0h160v-160H620v160ZM180-180h160v-160H180v160Zm440 0h160v-160H620v160Z\"/>\n",
       "  </svg>\n",
       "    </button>\n",
       "\n",
       "  <style>\n",
       "    .colab-df-container {\n",
       "      display:flex;\n",
       "      gap: 12px;\n",
       "    }\n",
       "\n",
       "    .colab-df-convert {\n",
       "      background-color: #E8F0FE;\n",
       "      border: none;\n",
       "      border-radius: 50%;\n",
       "      cursor: pointer;\n",
       "      display: none;\n",
       "      fill: #1967D2;\n",
       "      height: 32px;\n",
       "      padding: 0 0 0 0;\n",
       "      width: 32px;\n",
       "    }\n",
       "\n",
       "    .colab-df-convert:hover {\n",
       "      background-color: #E2EBFA;\n",
       "      box-shadow: 0px 1px 2px rgba(60, 64, 67, 0.3), 0px 1px 3px 1px rgba(60, 64, 67, 0.15);\n",
       "      fill: #174EA6;\n",
       "    }\n",
       "\n",
       "    .colab-df-buttons div {\n",
       "      margin-bottom: 4px;\n",
       "    }\n",
       "\n",
       "    [theme=dark] .colab-df-convert {\n",
       "      background-color: #3B4455;\n",
       "      fill: #D2E3FC;\n",
       "    }\n",
       "\n",
       "    [theme=dark] .colab-df-convert:hover {\n",
       "      background-color: #434B5C;\n",
       "      box-shadow: 0px 1px 3px 1px rgba(0, 0, 0, 0.15);\n",
       "      filter: drop-shadow(0px 1px 2px rgba(0, 0, 0, 0.3));\n",
       "      fill: #FFFFFF;\n",
       "    }\n",
       "  </style>\n",
       "\n",
       "    <script>\n",
       "      const buttonEl =\n",
       "        document.querySelector('#df-1a2df234-419c-4569-9112-548e05c6713f button.colab-df-convert');\n",
       "      buttonEl.style.display =\n",
       "        google.colab.kernel.accessAllowed ? 'block' : 'none';\n",
       "\n",
       "      async function convertToInteractive(key) {\n",
       "        const element = document.querySelector('#df-1a2df234-419c-4569-9112-548e05c6713f');\n",
       "        const dataTable =\n",
       "          await google.colab.kernel.invokeFunction('convertToInteractive',\n",
       "                                                    [key], {});\n",
       "        if (!dataTable) return;\n",
       "\n",
       "        const docLinkHtml = 'Like what you see? Visit the ' +\n",
       "          '<a target=\"_blank\" href=https://colab.research.google.com/notebooks/data_table.ipynb>data table notebook</a>'\n",
       "          + ' to learn more about interactive tables.';\n",
       "        element.innerHTML = '';\n",
       "        dataTable['output_type'] = 'display_data';\n",
       "        await google.colab.output.renderOutput(dataTable, element);\n",
       "        const docLink = document.createElement('div');\n",
       "        docLink.innerHTML = docLinkHtml;\n",
       "        element.appendChild(docLink);\n",
       "      }\n",
       "    </script>\n",
       "  </div>\n",
       "\n",
       "\n",
       "<div id=\"df-5ddffac9-edfc-4aa7-b8d6-3845bc15cf66\">\n",
       "  <button class=\"colab-df-quickchart\" onclick=\"quickchart('df-5ddffac9-edfc-4aa7-b8d6-3845bc15cf66')\"\n",
       "            title=\"Suggest charts\"\n",
       "            style=\"display:none;\">\n",
       "\n",
       "<svg xmlns=\"http://www.w3.org/2000/svg\" height=\"24px\"viewBox=\"0 0 24 24\"\n",
       "     width=\"24px\">\n",
       "    <g>\n",
       "        <path d=\"M19 3H5c-1.1 0-2 .9-2 2v14c0 1.1.9 2 2 2h14c1.1 0 2-.9 2-2V5c0-1.1-.9-2-2-2zM9 17H7v-7h2v7zm4 0h-2V7h2v10zm4 0h-2v-4h2v4z\"/>\n",
       "    </g>\n",
       "</svg>\n",
       "  </button>\n",
       "\n",
       "<style>\n",
       "  .colab-df-quickchart {\n",
       "      --bg-color: #E8F0FE;\n",
       "      --fill-color: #1967D2;\n",
       "      --hover-bg-color: #E2EBFA;\n",
       "      --hover-fill-color: #174EA6;\n",
       "      --disabled-fill-color: #AAA;\n",
       "      --disabled-bg-color: #DDD;\n",
       "  }\n",
       "\n",
       "  [theme=dark] .colab-df-quickchart {\n",
       "      --bg-color: #3B4455;\n",
       "      --fill-color: #D2E3FC;\n",
       "      --hover-bg-color: #434B5C;\n",
       "      --hover-fill-color: #FFFFFF;\n",
       "      --disabled-bg-color: #3B4455;\n",
       "      --disabled-fill-color: #666;\n",
       "  }\n",
       "\n",
       "  .colab-df-quickchart {\n",
       "    background-color: var(--bg-color);\n",
       "    border: none;\n",
       "    border-radius: 50%;\n",
       "    cursor: pointer;\n",
       "    display: none;\n",
       "    fill: var(--fill-color);\n",
       "    height: 32px;\n",
       "    padding: 0;\n",
       "    width: 32px;\n",
       "  }\n",
       "\n",
       "  .colab-df-quickchart:hover {\n",
       "    background-color: var(--hover-bg-color);\n",
       "    box-shadow: 0 1px 2px rgba(60, 64, 67, 0.3), 0 1px 3px 1px rgba(60, 64, 67, 0.15);\n",
       "    fill: var(--button-hover-fill-color);\n",
       "  }\n",
       "\n",
       "  .colab-df-quickchart-complete:disabled,\n",
       "  .colab-df-quickchart-complete:disabled:hover {\n",
       "    background-color: var(--disabled-bg-color);\n",
       "    fill: var(--disabled-fill-color);\n",
       "    box-shadow: none;\n",
       "  }\n",
       "\n",
       "  .colab-df-spinner {\n",
       "    border: 2px solid var(--fill-color);\n",
       "    border-color: transparent;\n",
       "    border-bottom-color: var(--fill-color);\n",
       "    animation:\n",
       "      spin 1s steps(1) infinite;\n",
       "  }\n",
       "\n",
       "  @keyframes spin {\n",
       "    0% {\n",
       "      border-color: transparent;\n",
       "      border-bottom-color: var(--fill-color);\n",
       "      border-left-color: var(--fill-color);\n",
       "    }\n",
       "    20% {\n",
       "      border-color: transparent;\n",
       "      border-left-color: var(--fill-color);\n",
       "      border-top-color: var(--fill-color);\n",
       "    }\n",
       "    30% {\n",
       "      border-color: transparent;\n",
       "      border-left-color: var(--fill-color);\n",
       "      border-top-color: var(--fill-color);\n",
       "      border-right-color: var(--fill-color);\n",
       "    }\n",
       "    40% {\n",
       "      border-color: transparent;\n",
       "      border-right-color: var(--fill-color);\n",
       "      border-top-color: var(--fill-color);\n",
       "    }\n",
       "    60% {\n",
       "      border-color: transparent;\n",
       "      border-right-color: var(--fill-color);\n",
       "    }\n",
       "    80% {\n",
       "      border-color: transparent;\n",
       "      border-right-color: var(--fill-color);\n",
       "      border-bottom-color: var(--fill-color);\n",
       "    }\n",
       "    90% {\n",
       "      border-color: transparent;\n",
       "      border-bottom-color: var(--fill-color);\n",
       "    }\n",
       "  }\n",
       "</style>\n",
       "\n",
       "  <script>\n",
       "    async function quickchart(key) {\n",
       "      const quickchartButtonEl =\n",
       "        document.querySelector('#' + key + ' button');\n",
       "      quickchartButtonEl.disabled = true;  // To prevent multiple clicks.\n",
       "      quickchartButtonEl.classList.add('colab-df-spinner');\n",
       "      try {\n",
       "        const charts = await google.colab.kernel.invokeFunction(\n",
       "            'suggestCharts', [key], {});\n",
       "      } catch (error) {\n",
       "        console.error('Error during call to suggestCharts:', error);\n",
       "      }\n",
       "      quickchartButtonEl.classList.remove('colab-df-spinner');\n",
       "      quickchartButtonEl.classList.add('colab-df-quickchart-complete');\n",
       "    }\n",
       "    (() => {\n",
       "      let quickchartButtonEl =\n",
       "        document.querySelector('#df-5ddffac9-edfc-4aa7-b8d6-3845bc15cf66 button');\n",
       "      quickchartButtonEl.style.display =\n",
       "        google.colab.kernel.accessAllowed ? 'block' : 'none';\n",
       "    })();\n",
       "  </script>\n",
       "</div>\n",
       "\n",
       "    </div>\n",
       "  </div>\n"
      ],
      "text/plain": [
       "       var3      var4      var5      var6      var7      var8     var12  \\\n",
       "0  1.795857 -0.925540  0.212231 -1.845218  2.164260  0.107453  0.164472   \n",
       "1  0.994893 -0.617507 -0.646956  0.710405  1.021448 -0.450844 -0.078446   \n",
       "2 -0.341154  0.928364  0.358946  1.471601  0.108987  1.240615 -1.172287   \n",
       "3 -0.111833 -0.886323 -1.113731 -0.344039  0.197326  1.275405  0.407390   \n",
       "4 -0.184950 -1.549451 -0.526871  1.278182  0.636783 -0.097974  1.597830   \n",
       "\n",
       "      var14     var15     var16  ...  var23_tf  var23_ub  var23_qu  var23_ri  \\\n",
       "0  0.874381  0.814711  1.301922  ...  1.690716 -0.517781 -0.444259 -0.386983   \n",
       "1 -0.263682 -1.304482 -0.196447  ... -0.591465  1.931320 -0.444259 -0.386983   \n",
       "2 -0.980612 -0.757384  2.261316  ... -0.591465 -0.517781 -0.444259  2.584094   \n",
       "3 -0.925464  0.023932  0.517626  ... -0.591465 -0.517781 -0.444259 -0.386983   \n",
       "4 -0.594573 -0.853200 -2.034070  ... -0.591465 -0.517781  2.250941 -0.386983   \n",
       "\n",
       "   var23_fe  var23_da  var23_cz  var23_sy  var23_yv  var29_ev  \n",
       "0 -0.315444 -0.265377 -0.210141  -0.15186  -0.10363 -1.995584  \n",
       "1 -0.315444 -0.265377 -0.210141  -0.15186  -0.10363  0.501107  \n",
       "2 -0.315444 -0.265377 -0.210141  -0.15186  -0.10363  0.501107  \n",
       "3  3.170130 -0.265377 -0.210141  -0.15186  -0.10363  0.501107  \n",
       "4 -0.315444 -0.265377 -0.210141  -0.15186  -0.10363  0.501107  \n",
       "\n",
       "[5 rows x 62 columns]"
      ]
     },
     "execution_count": 133,
     "metadata": {},
     "output_type": "execute_result"
    }
   ],
   "source": [
    "scalar = StandardScaler()\n",
    "\n",
    "X_train = scalar.fit_transform(X_train)\n",
    "X_train = pd.DataFrame(data = X_train, columns = temp)\n",
    "X_train.head()"
   ]
  },
  {
   "cell_type": "code",
   "execution_count": null,
   "id": "ihiTv0RSQ-Hr",
   "metadata": {
    "colab": {
     "base_uri": "https://localhost:8080/"
    },
    "id": "ihiTv0RSQ-Hr",
    "outputId": "9e84381f-4dc9-451f-f767-f9356b15d659"
   },
   "outputs": [
    {
     "data": {
      "text/plain": [
       "0.7112238648031439"
      ]
     },
     "execution_count": 134,
     "metadata": {},
     "output_type": "execute_result"
    }
   ],
   "source": [
    "knn_model = KNeighborsClassifier(10)\n",
    "knn_cv_scores= cross_val_score(knn_model,X_train.values,Y_train,cv=5,scoring='roc_auc')\n",
    "knn_cv_scores.mean()"
   ]
  },
  {
   "cell_type": "code",
   "execution_count": null,
   "id": "pkHdAjo7RWgK",
   "metadata": {
    "colab": {
     "base_uri": "https://localhost:8080/"
    },
    "id": "pkHdAjo7RWgK",
    "outputId": "dd154cf6-9b0e-4be4-efe8-8325ef368879"
   },
   "outputs": [
    {
     "data": {
      "text/plain": [
       "0.8814048549704323"
      ]
     },
     "execution_count": 135,
     "metadata": {},
     "output_type": "execute_result"
    }
   ],
   "source": [
    "svm_model = SVC()\n",
    "svm_cv_scores= cross_val_score(svm_model,X_train,Y_train,cv=5,scoring='roc_auc')\n",
    "svm_cv_scores.mean()"
   ]
  },
  {
   "cell_type": "code",
   "execution_count": null,
   "id": "ooSMPiAYRj6A",
   "metadata": {
    "colab": {
     "base_uri": "https://localhost:8080/"
    },
    "id": "ooSMPiAYRj6A",
    "outputId": "20eec276-c10e-4047-b899-7f077d4ac9bc"
   },
   "outputs": [
    {
     "name": "stdout",
     "output_type": "stream",
     "text": [
      "CPU times: user 21min 32s, sys: 14.6 s, total: 21min 47s\n",
      "Wall time: 2h 24min 2s\n"
     ]
    },
    {
     "data": {
      "text/plain": [
       "0.8853397990828054"
      ]
     },
     "execution_count": 140,
     "metadata": {},
     "output_type": "execute_result"
    }
   ],
   "source": [
    "%%time\n",
    "svm_model = SVC()\n",
    "\n",
    "svm_params = {\n",
    "   'C':[1,5,10], #to control regularization\n",
    "   'kernel': ['linear','poly','rbf','sigmoid'],\n",
    "   'degree':[3,4,5],\n",
    "   'gamma':['scale','auto'],\n",
    "   'class_weight' :['balanced',None]\n",
    "}\n",
    "\n",
    "svm_random_search = RandomizedSearchCV(svm_model,param_distributions=svm_params,cv = 5, n_iter=10,scoring='roc_auc',\n",
    "                                         n_jobs=-1)\n",
    "\n",
    "svm_random_search.fit(X_train,Y_train)\n",
    "svm_random_search.best_score_"
   ]
  },
  {
   "cell_type": "markdown",
   "id": "1d84a14a-c3bc-4526-afce-8c2c101c1193",
   "metadata": {},
   "source": [
    "## Based on the above cb_model and lgb_model are two model we can consider for classification of Consumer Complaints Resolution. "
   ]
  }
 ],
 "metadata": {
  "colab": {
   "provenance": []
  },
  "kernelspec": {
   "display_name": "Python 3 (ipykernel)",
   "language": "python",
   "name": "python3"
  },
  "language_info": {
   "codemirror_mode": {
    "name": "ipython",
    "version": 3
   },
   "file_extension": ".py",
   "mimetype": "text/x-python",
   "name": "python",
   "nbconvert_exporter": "python",
   "pygments_lexer": "ipython3",
   "version": "3.11.7"
  }
 },
 "nbformat": 4,
 "nbformat_minor": 5
}
